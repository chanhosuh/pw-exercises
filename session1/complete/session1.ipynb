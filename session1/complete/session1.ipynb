{
 "cells": [
  {
   "cell_type": "code",
   "execution_count": null,
   "metadata": {},
   "outputs": [],
   "source": [
    "############## PLEASE RUN THIS CELL FIRST! ###################\n",
    "\n",
    "# import everything and define a test runner function\n",
    "from importlib import reload\n",
    "from helper import run\n",
    "import ecc, tx"
   ]
  },
  {
   "cell_type": "markdown",
   "metadata": {},
   "source": [
    "### Exercise 1\n",
    "\n",
    "\n",
    "\n",
    "\n",
    "#### Make [this test](/edit/session1/tx.py) pass: `tx.py:TxTest:test_parse_segwit`"
   ]
  },
  {
   "cell_type": "code",
   "execution_count": null,
   "metadata": {},
   "outputs": [],
   "source": [
    "# Exercise 1\n",
    "\n",
    "reload(tx)\n",
    "run(tx.TxTest('test_parse_segwit'))"
   ]
  },
  {
   "cell_type": "markdown",
   "metadata": {},
   "source": [
    "### Exercise 2\n",
    "\n",
    "\n",
    "\n",
    "\n",
    "#### Make [this test](/edit/session1/tx.py) pass: `tx.py:TxTest:test_serialize_segwit`"
   ]
  },
  {
   "cell_type": "code",
   "execution_count": null,
   "metadata": {},
   "outputs": [],
   "source": [
    "# Exercise 2\n",
    "\n",
    "reload(tx)\n",
    "run(tx.TxTest('test_serialize_segwit'))"
   ]
  },
  {
   "cell_type": "markdown",
   "metadata": {},
   "source": [
    "### Exercise 3\n",
    "\n",
    "\n",
    "\n",
    "\n",
    "#### Make [this test](/edit/session1/tx.py) pass: `tx.py:TxTest:test_sig_hash_bip143`"
   ]
  },
  {
   "cell_type": "code",
   "execution_count": null,
   "metadata": {},
   "outputs": [],
   "source": [
    "# Exercise 3\n",
    "\n",
    "reload(tx)\n",
    "run(tx.TxTest('test_sig_hash_bip143'))"
   ]
  },
  {
   "cell_type": "code",
   "execution_count": null,
   "metadata": {},
   "outputs": [],
   "source": [
    "# example for creating a bech32 address\n",
    "from ecc import S256Point\n",
    "from helper import encode_bech32_checksum, encode_varstr\n",
    "sec_hex = '039d5ca49670cbe4c3bfa84c96a8c87df086c6ea6a24ba6b809c9de234496808d5'\n",
    "point = S256Point.parse(bytes.fromhex(sec_hex))\n",
    "h160 = point.hash160()\n",
    "raw = bytes([0])\n",
    "raw += encode_varstr(h160)\n",
    "bech32 = encode_bech32_checksum(raw, testnet=False)\n",
    "print(bech32)"
   ]
  },
  {
   "cell_type": "markdown",
   "metadata": {},
   "source": [
    "### Exercise 4\n",
    "#### Create a testnet bech32 address using your private key from the Session 0\n",
    "\n",
    "Fill in the spreadsheet with your bech32 address.\n"
   ]
  },
  {
   "cell_type": "code",
   "execution_count": null,
   "metadata": {},
   "outputs": [],
   "source": [
    "# Exercise 4\n",
    "\n",
    "from ecc import PrivateKey\n",
    "from helper import encode_bech32_checksum, encode_varstr, hash256, little_endian_to_int\n",
    "# use the same passphrase from session 0\n",
    "passphrase = b'jimmy@programmingblockchain.com Jimmy Song'\n",
    "secret = little_endian_to_int(hash256(passphrase))\n",
    "# create a private key using the secret\n",
    "private_key = PrivateKey(secret)\n",
    "# get the public key using the .point property\n",
    "public_key = private_key.point\n",
    "# get the hash160 of the point\n",
    "h160 = public_key.hash160()\n",
    "# the raw bytes to be encrypted starts with the segwit version (0 or b'\\x00)\n",
    "raw = bytes([0])\n",
    "# next, add the hash160 using encode_varstr\n",
    "raw += encode_varstr(h160)\n",
    "# encode to bech32 using encode_bech32_checksum, remember testnet=True\n",
    "bech32 = encode_bech32_checksum(raw, testnet=True)\n",
    "# print the address\n",
    "print(bech32)"
   ]
  },
  {
   "cell_type": "markdown",
   "metadata": {},
   "source": [
    "### Exercise 5\n",
    "\n",
    "\n",
    "\n",
    "\n",
    "#### Make [this test](/edit/session1/ecc.py) pass: `ecc.py:S256Test:test_bech32_address`"
   ]
  },
  {
   "cell_type": "code",
   "execution_count": null,
   "metadata": {},
   "outputs": [],
   "source": [
    "# Exercise 5\n",
    "\n",
    "reload(ecc)\n",
    "run(ecc.S256Test('test_bech32_address'))"
   ]
  },
  {
   "cell_type": "code",
   "execution_count": null,
   "metadata": {},
   "outputs": [],
   "source": [
    "# Example for signing a p2wpkh input\n",
    "from io import BytesIO\n",
    "from ecc import PrivateKey\n",
    "from helper import hash256, little_endian_to_int, SIGHASH_ALL\n",
    "from tx import Tx\n",
    "private_key = PrivateKey(little_endian_to_int(hash256(b'jimmy@programmingblockchain.com Jimmy Song')))\n",
    "raw_tx_hex = '01000000000101cca99b60e1d687e8faaf93e114114e7b5f6382d9f5d45ffb76ac7472ad7d734c0100000000ffffffff014c400f0000000000160014092ab91b37b4182061d9c01199aaac029f89561f0000000000'\n",
    "input_index = 0\n",
    "stream = BytesIO(bytes.fromhex(raw_tx_hex))\n",
    "tx_obj = Tx.parse(stream, testnet=True)\n",
    "z = tx_obj.sig_hash_bip143(input_index)\n",
    "der = private_key.sign(z).der()\n",
    "sig = der + SIGHASH_ALL.to_bytes(1, 'big')\n",
    "sec = private_key.point.sec()\n",
    "tx_in = tx_obj.tx_ins[input_index]\n",
    "tx_in.witness = [sig, sec]\n",
    "print(tx_obj.verify_input(input_index))"
   ]
  },
  {
   "cell_type": "markdown",
   "metadata": {},
   "source": [
    "### Exercise 6\n",
    "\n",
    "\n",
    "\n",
    "\n",
    "#### Make [this test](/edit/session1/tx.py) pass: `tx.py:TxTest:test_sign_p2wpkh`"
   ]
  },
  {
   "cell_type": "code",
   "execution_count": null,
   "metadata": {},
   "outputs": [],
   "source": [
    "# Exercise 6\n",
    "\n",
    "reload(tx)\n",
    "run(tx.TxTest('test_sign_p2wpkh'))"
   ]
  },
  {
   "cell_type": "code",
   "execution_count": null,
   "metadata": {},
   "outputs": [],
   "source": [
    "# Example for creating a p2wpkh transaction\n",
    "from ecc import PrivateKey\n",
    "from helper import decode_bech32, hash256, little_endian_to_int\n",
    "from script import p2wpkh_script\n",
    "from tx import Tx, TxIn, TxOut\n",
    "private_key = PrivateKey(little_endian_to_int(hash256(b'jimmy@programmingblockchain.com Jimmy Song')))\n",
    "prev_tx_hex = '0f007db8670c8b22ed64d95c61895d9c8e516ec938f99fbe4973fc0172ef93cf'\n",
    "prev_tx = bytes.fromhex(prev_tx_hex)\n",
    "prev_index = 1\n",
    "fee = 500\n",
    "tx_in = TxIn(prev_tx, prev_index)\n",
    "amount = tx_in.value(testnet=True) - fee\n",
    "target_address = 'tb1qdcfewxgnhx4gjev6nafaxfa64zpx7tt470r3au'\n",
    "_, _, h160 = decode_bech32(target_address)\n",
    "script_pubkey = p2wpkh_script(h160)\n",
    "tx_out = TxOut(amount, script_pubkey)\n",
    "tx_obj = Tx(1, [tx_in], [tx_out], 0, testnet=True, segwit=True)\n",
    "tx_obj.sign_input(0, private_key)\n",
    "print(tx_obj.serialize().hex())"
   ]
  },
  {
   "cell_type": "markdown",
   "metadata": {},
   "source": [
    "### Exercise 7\n",
    "\n",
    "#### Create a p2wpkh spending transaction\n",
    "\n",
    "You have been sent 0.05 testnet BTC. Send 0.03 to `tb1qdcfewxgnhx4gjev6nafaxfa64zpx7tt470r3au`\n",
    "and the change back to your bech32 address.\n"
   ]
  },
  {
   "cell_type": "code",
   "execution_count": null,
   "metadata": {},
   "outputs": [],
   "source": [
    "# Exercise 7\n",
    "\n",
    "from ecc import PrivateKey\n",
    "from helper import decode_bech32, hash256, little_endian_to_int\n",
    "from network import SimpleNode\n",
    "from script import p2wpkh_script\n",
    "from tx import Tx, TxIn, TxOut\n",
    "passphrase = b'jimmy@programmingblockchain.com Jimmy Song'\n",
    "private_key = PrivateKey(little_endian_to_int(hash256(passphrase)))\n",
    "prev_tx_hex = '94448a601fce6961a5fabbc554068460d979b15bee9531e378fbb458bc644378'\n",
    "prev_tx = bytes.fromhex(prev_tx_hex)\n",
    "prev_index = 0\n",
    "fee = 500\n",
    "target_address = 'tb1qdcfewxgnhx4gjev6nafaxfa64zpx7tt470r3au'\n",
    "target_amount = 3000000\n",
    "# create the transaction input\n",
    "tx_in = TxIn(prev_tx, prev_index)\n",
    "# create an array of tx_outs\n",
    "tx_outs = []\n",
    "# decode the target address to get the hash160 of the address\n",
    "_, _, target_h160 = decode_bech32(target_address)\n",
    "# create the target script pubkey using p2wpkh_script\n",
    "target_script_pubkey = p2wpkh_script(target_h160)\n",
    "# add the target transaction output\n",
    "tx_outs.append(TxOut(target_amount, target_script_pubkey))\n",
    "# calculate the change amount, remember you were sent 5000000 sats\n",
    "change_amount = 5000000 - target_amount - fee\n",
    "# calculate the hash160 for your private key\n",
    "change_h160 = private_key.point.hash160()\n",
    "# create the change script pubkey using p2wpkh_script\n",
    "change_script_pubkey = p2wpkh_script(change_h160)\n",
    "tx_outs.append(TxOut(change_amount, change_script_pubkey))\n",
    "# create the transaction with testnet=True and segwit=True\n",
    "tx_obj = Tx(1, [tx_in], tx_outs, 0, testnet=True, segwit=True)\n",
    "# sign the one input with your private key\n",
    "tx_obj.sign_input(0, private_key)\n",
    "# print the hex to see what it looks like\n",
    "print(tx_obj.serialize().hex())"
   ]
  },
  {
   "cell_type": "markdown",
   "metadata": {},
   "source": [
    "### Exercise 8\n",
    "\n",
    "\n",
    "\n",
    "\n",
    "#### Make [this test](/edit/session1/tx.py) pass: `tx.py:TxTest:test_verify_p2sh_p2wpkh`"
   ]
  },
  {
   "cell_type": "code",
   "execution_count": null,
   "metadata": {},
   "outputs": [],
   "source": [
    "# Exercise 8\n",
    "\n",
    "reload(tx)\n",
    "run(tx.TxTest('test_verify_p2sh_p2wpkh'))"
   ]
  },
  {
   "cell_type": "code",
   "execution_count": null,
   "metadata": {},
   "outputs": [],
   "source": [
    "# Example of generating a p2sh-p2wpkh address\n",
    "from ecc import S256Point\n",
    "from helper import encode_base58_checksum, hash160, h160_to_p2sh_address\n",
    "from script import p2wpkh_script\n",
    "sec_hex = '02c3700ce19990bccbfa1e072d287049d7c0e07ed15c9aeac84bbc2c38ea667a5d'\n",
    "point = S256Point.parse(bytes.fromhex(sec_hex))\n",
    "h160 = point.hash160()\n",
    "redeem_script = p2wpkh_script(h160)\n",
    "h160_p2sh = hash160(redeem_script.raw_serialize())\n",
    "address = h160_to_p2sh_address(h160_p2sh, testnet=False)\n",
    "print(address)"
   ]
  },
  {
   "cell_type": "markdown",
   "metadata": {},
   "source": [
    "### Exercise 9\n",
    "#### Create a testnet p2sh-p2wpkh address with your private key.\n",
    "\n"
   ]
  },
  {
   "cell_type": "code",
   "execution_count": null,
   "metadata": {},
   "outputs": [],
   "source": [
    "# Exercise 9\n",
    "\n",
    "from ecc import PrivateKey\n",
    "from helper import encode_varstr, h160_to_p2sh_address, hash160, hash256, little_endian_to_int\n",
    "from script import p2wpkh_script\n",
    "# use the same passphrase from session 0\n",
    "passphrase = b'jimmy@programmingblockchain.com Jimmy Song'\n",
    "secret = little_endian_to_int(hash256(passphrase))\n",
    "# create a private key using the secret\n",
    "private_key = PrivateKey(secret)\n",
    "# get the public key using the .point property\n",
    "public_key = private_key.point\n",
    "# get the hash160 of the point\n",
    "h160 = public_key.hash160()\n",
    "# create the RedeemScript, which is the p2wpkh_script of the hash160\n",
    "redeem_script = p2wpkh_script(h160)\n",
    "# perform a hash160 on the raw serialization of the RedeemScript\n",
    "p2sh_h160 = hash160(redeem_script.raw_serialize())\n",
    "# encode to base58 using h160_to_p2sh_address, remember testnet=True\n",
    "address = h160_to_p2sh_address(p2sh_h160, testnet=True)\n",
    "# print the address\n",
    "print(address)"
   ]
  },
  {
   "cell_type": "markdown",
   "metadata": {},
   "source": [
    "### Exercise 10\n",
    "\n",
    "\n",
    "\n",
    "\n",
    "#### Make [this test](/edit/session1/script.py) pass: `script.py:ScriptTest:test_p2sh_address`"
   ]
  },
  {
   "cell_type": "code",
   "execution_count": null,
   "metadata": {},
   "outputs": [],
   "source": [
    "# Exercise 10\n",
    "\n",
    "reload(script)\n",
    "run(script.ScriptTest('test_p2sh_address'))"
   ]
  },
  {
   "cell_type": "markdown",
   "metadata": {},
   "source": [
    "### Exercise 11\n",
    "\n",
    "\n",
    "\n",
    "\n",
    "#### Make [this test](/edit/session1/ecc.py) pass: `ecc.py:S256Test:test_p2sh_p2wpkh_address`"
   ]
  },
  {
   "cell_type": "code",
   "execution_count": null,
   "metadata": {},
   "outputs": [],
   "source": [
    "# Exercise 11\n",
    "\n",
    "reload(ecc)\n",
    "run(ecc.S256Test('test_p2sh_p2wpkh_address'))"
   ]
  },
  {
   "cell_type": "code",
   "execution_count": null,
   "metadata": {},
   "outputs": [],
   "source": [
    "# Example for signing a p2sh-p2wpkh input\n",
    "from io import BytesIO\n",
    "from ecc import PrivateKey\n",
    "from helper import hash256, little_endian_to_int, SIGHASH_ALL\n",
    "from script import Script\n",
    "from tx import Tx\n",
    "private_key = PrivateKey(little_endian_to_int(hash256(b'jimmy@programmingblockchain.com Jimmy Song')))\n",
    "redeem_script = private_key.point.p2sh_p2wpkh_redeem_script()\n",
    "raw_tx_hex = '010000000001014e6b786f3cd70ab1ffd75caa6bb252c9888fdca9ca94d40fec24bec3e643d89e0000000000ffffffff014c400f0000000000160014401af0b57c7a4b7490c508a47d0747d03cf6ac2e0000000000'\n",
    "input_index = 0\n",
    "stream = BytesIO(bytes.fromhex(raw_tx_hex))\n",
    "tx_obj = Tx.parse(stream, testnet=True)\n",
    "z = tx_obj.sig_hash_bip143(input_index, redeem_script=redeem_script)\n",
    "der = private_key.sign(z).der()\n",
    "sig = der + SIGHASH_ALL.to_bytes(1, 'big')\n",
    "sec = private_key.point.sec()\n",
    "tx_in = tx_obj.tx_ins[input_index]\n",
    "tx_in.witness = [sig, sec]\n",
    "tx_in.script_sig = Script([redeem_script.raw_serialize()])\n",
    "print(tx_obj.verify_input(input_index))"
   ]
  },
  {
   "cell_type": "markdown",
   "metadata": {},
   "source": [
    "### Exercise 12\n",
    "\n",
    "\n",
    "\n",
    "\n",
    "#### Make [this test](/edit/session1/tx.py) pass: `tx.py:TxTest:test_sign_p2sh_p2wpkh`"
   ]
  },
  {
   "cell_type": "code",
   "execution_count": null,
   "metadata": {},
   "outputs": [],
   "source": [
    "# Exercise 12\n",
    "\n",
    "reload(tx)\n",
    "run(tx.TxTest('test_sign_p2sh_p2wpkh'))"
   ]
  },
  {
   "cell_type": "code",
   "execution_count": null,
   "metadata": {},
   "outputs": [],
   "source": [
    "# Example for creating a p2sh-p2wpkh transaction\n",
    "from ecc import PrivateKey\n",
    "from helper import decode_bech32, hash256, little_endian_to_int\n",
    "from script import p2wpkh_script\n",
    "from tx import Tx, TxIn, TxOut\n",
    "private_key = PrivateKey(little_endian_to_int(hash256(b'jimmy@programmingblockchain.com Jimmy Song')))\n",
    "prev_tx_hex = '6c14a8370da20c7de5ebf216ece3156e99e7d6070442d93b80cdc344b2e80867'\n",
    "prev_tx = bytes.fromhex(prev_tx_hex)\n",
    "prev_index = 1\n",
    "fee = 500\n",
    "tx_in = TxIn(prev_tx, prev_index)\n",
    "amount = tx_in.value(testnet=True) - fee\n",
    "target_address = 'tb1qdcfewxgnhx4gjev6nafaxfa64zpx7tt470r3au'\n",
    "_, _, h160 = decode_bech32(target_address)\n",
    "script_pubkey = p2wpkh_script(h160)\n",
    "tx_out = TxOut(amount, script_pubkey)\n",
    "tx_obj = Tx(1, [tx_in], [tx_out], 0, testnet=True, segwit=True)\n",
    "redeem_script = private_key.point.p2sh_p2wpkh_redeem_script()\n",
    "tx_obj.sign_input(0, private_key, redeem_script=redeem_script)\n",
    "print(tx_obj.serialize().hex())"
   ]
  }
 ],
 "metadata": {},
 "nbformat": 4,
 "nbformat_minor": 2
}
