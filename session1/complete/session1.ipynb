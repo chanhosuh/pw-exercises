{
 "cells": [
  {
   "cell_type": "markdown",
   "metadata": {
    "slideshow": {
     "slide_type": "slide"
    }
   },
   "source": [
    "![](/files/programmingwallet.png)\n"
   ]
  },
  {
   "cell_type": "markdown",
   "metadata": {
    "slideshow": {
     "slide_type": "slide"
    }
   },
   "source": [
    "![](/files/session1/s1.png)\n"
   ]
  },
  {
   "cell_type": "markdown",
   "metadata": {
    "slideshow": {
     "slide_type": "slide"
    }
   },
   "source": [
    "# Session 1 Objectives\n",
    "* Learn pay-to-witness-pubkey-hash\n",
    "* Learn bech32 addresses\n",
    "* Redeem a pay-to-witness-pubkey-hash output\n"
   ]
  },
  {
   "cell_type": "markdown",
   "metadata": {
    "slideshow": {
     "slide_type": "slide"
    }
   },
   "source": [
    "# Pay to Witness Pubkey Hash (p2wpkh)\n"
   ]
  },
  {
   "cell_type": "markdown",
   "metadata": {
    "slideshow": {
     "slide_type": "slide"
    }
   },
   "source": [
    "## What is Segregated Witness?\n",
    "* A way to fix transaction malleability\n",
    "* A way to reduce network transmission\n",
    "* A way to increase transaction throughput\n",
    "* A way for smooth future upgrades\n"
   ]
  },
  {
   "cell_type": "markdown",
   "metadata": {
    "slideshow": {
     "slide_type": "slide"
    }
   },
   "source": [
    "## p2pkh\n",
    "![](/files/session1/old.png)\n"
   ]
  },
  {
   "cell_type": "markdown",
   "metadata": {
    "slideshow": {
     "slide_type": "slide"
    }
   },
   "source": [
    "## p2wpkh\n",
    "![](/files/session1/new.png)\n"
   ]
  },
  {
   "cell_type": "markdown",
   "metadata": {
    "slideshow": {
     "slide_type": "slide"
    }
   },
   "source": [
    "## Pay to Witness Pubkey Hash (aka \"Native Segwit\")\n",
    "* Acts like p2pkh but puts the ScriptSig data in another place\n",
    "* New type of ScriptPubKey\n",
    "* Different Data is sent to pre-Segwit nodes vs Segwit nodes\n"
   ]
  },
  {
   "cell_type": "markdown",
   "metadata": {
    "slideshow": {
     "slide_type": "slide"
    }
   },
   "source": [
    "# Non-Segwit Nodes\n",
    "![](/files/session1/old-nodes.png)\n"
   ]
  },
  {
   "cell_type": "markdown",
   "metadata": {
    "slideshow": {
     "slide_type": "slide"
    }
   },
   "source": [
    "# Segwit Nodes\n",
    "![](/files/session1/new-nodes.png)\n"
   ]
  },
  {
   "cell_type": "code",
   "execution_count": null,
   "metadata": {
    "slideshow": {
     "slide_type": "skip"
    }
   },
   "outputs": [],
   "source": [
    "############## PLEASE RUN THIS CELL FIRST! ###################\n",
    "\n",
    "# import everything and define a test runner function\n",
    "from importlib import reload\n",
    "from helper import run\n",
    "import ecc, script, tx"
   ]
  },
  {
   "cell_type": "markdown",
   "metadata": {
    "slideshow": {
     "slide_type": "slide"
    }
   },
   "source": [
    "### Exercise 1\n",
    "\n",
    "\n",
    "\n",
    "\n",
    "#### Make [this test](/edit/session1/tx.py) pass: `tx.py:TxTest:test_parse_segwit`"
   ]
  },
  {
   "cell_type": "code",
   "execution_count": null,
   "metadata": {
    "slideshow": {
     "slide_type": "slide"
    }
   },
   "outputs": [],
   "source": [
    "# Exercise 1\n",
    "\n",
    "reload(tx)\n",
    "run(tx.TxTest('test_parse_segwit'))"
   ]
  },
  {
   "cell_type": "markdown",
   "metadata": {
    "slideshow": {
     "slide_type": "slide"
    }
   },
   "source": [
    "### Exercise 2\n",
    "\n",
    "\n",
    "\n",
    "\n",
    "#### Make [this test](/edit/session1/tx.py) pass: `tx.py:TxTest:test_serialize_segwit`"
   ]
  },
  {
   "cell_type": "code",
   "execution_count": null,
   "metadata": {
    "slideshow": {
     "slide_type": "slide"
    }
   },
   "outputs": [],
   "source": [
    "# Exercise 2\n",
    "\n",
    "reload(tx)\n",
    "run(tx.TxTest('test_serialize_segwit'))"
   ]
  },
  {
   "cell_type": "markdown",
   "metadata": {
    "slideshow": {
     "slide_type": "slide"
    }
   },
   "source": [
    "## Combining Scripts\n",
    "* ScriptPubKey:\n",
    "![](/files/session1/p2wpkh-scriptpubkey.png)\n",
    "* ScriptSig:\n",
    "Empty!\n"
   ]
  },
  {
   "cell_type": "markdown",
   "metadata": {
    "slideshow": {
     "slide_type": "slide"
    }
   },
   "source": [
    "## Combined\n",
    "![](/files/session1/p2wpkh-combined.png)\n"
   ]
  },
  {
   "cell_type": "code",
   "execution_count": null,
   "metadata": {
    "slideshow": {
     "slide_type": "slide"
    }
   },
   "outputs": [],
   "source": [
    "from IPython.display import YouTubeVideo\n",
    "YouTubeVideo('ZHtJYfZsiAE')"
   ]
  },
  {
   "cell_type": "markdown",
   "metadata": {
    "slideshow": {
     "slide_type": "slide"
    }
   },
   "source": [
    "## Witness\n",
    "![](/files/session1/p2wpkh-witness.png)\n"
   ]
  },
  {
   "cell_type": "markdown",
   "metadata": {
    "slideshow": {
     "slide_type": "slide"
    }
   },
   "source": [
    "## BIP143: New Signature Hash for Segwit\n",
    "* Solve quadratic hashing\n",
    "* Input amounts included\n",
    "* Precompute and reuse parts\n"
   ]
  },
  {
   "cell_type": "markdown",
   "metadata": {
    "slideshow": {
     "slide_type": "slide"
    }
   },
   "source": [
    "#### Legacy Signature Hash Spec\n",
    "* Version\n",
    "* For each Input\n",
    "  - Previous Tx hash and index\n",
    "  - Previous ScriptPubKey or RedeemScript if input being signed otherwise null\n",
    "  - Sequence\n",
    "* For each output\n",
    "  - Amount\n",
    "  - ScriptPubKey\n",
    "* Locktime\n",
    "* Hashing Type (SIGHASH_ALL, usually)\n"
   ]
  },
  {
   "cell_type": "markdown",
   "metadata": {
    "slideshow": {
     "slide_type": "slide"
    }
   },
   "source": [
    "# Witness\n",
    "![](/files/session1/p2wpkh-witness.png)\n"
   ]
  },
  {
   "cell_type": "markdown",
   "metadata": {
    "slideshow": {
     "slide_type": "slide"
    }
   },
   "source": [
    "#### Segwit Signature Hash Spec (BIP143)\n",
    "* Version\n",
    "* HashPrevouts (calculated from tx hash and index of each input)\n",
    "* HashSequence (calculated from sequence of each input)\n",
    "* Script Code\n",
    "* Value of input in Satoshis\n",
    "* Sequence\n",
    "* HashOutputs (calculated from amount and ScriptPubKey of each output)\n",
    "* Locktime\n",
    "* Hashing Type (SIGHASH_ALL, usually)\n"
   ]
  },
  {
   "cell_type": "markdown",
   "metadata": {
    "slideshow": {
     "slide_type": "slide"
    }
   },
   "source": [
    "## Script Code\n",
    "* ScriptPubKey being executed\n",
    "* For p2wpkh, this is the p2pkh ScriptPubKey\n",
    "* The 2nd argument is used as the hash\n"
   ]
  },
  {
   "cell_type": "markdown",
   "metadata": {
    "slideshow": {
     "slide_type": "slide"
    }
   },
   "source": [
    "### Exercise 3\n",
    "\n",
    "\n",
    "\n",
    "\n",
    "#### Make [this test](/edit/session1/tx.py) pass: `tx.py:TxTest:test_sig_hash_bip143`"
   ]
  },
  {
   "cell_type": "code",
   "execution_count": null,
   "metadata": {
    "slideshow": {
     "slide_type": "slide"
    }
   },
   "outputs": [],
   "source": [
    "# Exercise 3\n",
    "\n",
    "reload(tx)\n",
    "run(tx.TxTest('test_sig_hash_bip143'))"
   ]
  },
  {
   "cell_type": "markdown",
   "metadata": {
    "slideshow": {
     "slide_type": "slide"
    }
   },
   "source": [
    "# Bech32\n"
   ]
  },
  {
   "cell_type": "markdown",
   "metadata": {
    "slideshow": {
     "slide_type": "slide"
    }
   },
   "source": [
    "### Problems with Base58\n",
    "* Encoding/Decoding is slow\n",
    "* Inefficient for QR codes\n",
    "* Hard to communicate in analog effectively\n",
    "* Hash256 checksum is slow and has no error-detection\n",
    "* Error-Detection requires a power of 2, 58 is not\n"
   ]
  },
  {
   "cell_type": "markdown",
   "metadata": {
    "slideshow": {
     "slide_type": "slide"
    }
   },
   "source": [
    "### Bech32\n",
    "* Defined in BIP173\n",
    "* Uses BoseChaudhuriHocquenghem, or BCH Code, hence \"Bech\"\n",
    "* 32 characters, using only lower case letters and numbers\n",
    "* All characters (26+10) except 1, b, i, o\n",
    "* NOT ALPHABETICAL\n",
    "* Address has human part, separator, data and checksum\n"
   ]
  },
  {
   "cell_type": "markdown",
   "metadata": {
    "slideshow": {
     "slide_type": "slide"
    }
   },
   "source": [
    "# Bech32 Address\n",
    "![](/files/session1/bech32.png)\n"
   ]
  },
  {
   "cell_type": "markdown",
   "metadata": {
    "slideshow": {
     "slide_type": "slide"
    }
   },
   "source": [
    "### Human Part\n",
    "* bc = mainnet, tb = testnet\n",
    "\n",
    "### Separator\n",
    "* 1\n",
    "\n",
    "### Data Part\n",
    "* First character is the Segwit Version (0)\n",
    "* Rest is data (usually a hash) of 1 to 40 bytes\n",
    "\n"
   ]
  },
  {
   "cell_type": "markdown",
   "metadata": {
    "slideshow": {
     "slide_type": "slide"
    }
   },
   "source": [
    "# Data Part\n",
    "![](/files/session1/segwitaddress.png)\n"
   ]
  },
  {
   "cell_type": "code",
   "execution_count": null,
   "metadata": {
    "slideshow": {
     "slide_type": "slide"
    }
   },
   "outputs": [],
   "source": [
    "# example for creating a bech32 address\n",
    "from ecc import S256Point\n",
    "from helper import encode_bech32_checksum, encode_varstr\n",
    "sec_hex = '039d5ca49670cbe4c3bfa84c96a8c87df086c6ea6a24ba6b809c9de234496808d5'\n",
    "point = S256Point.parse(bytes.fromhex(sec_hex))\n",
    "h160 = point.hash160()\n",
    "raw = bytes([0])\n",
    "raw += encode_varstr(h160)\n",
    "bech32 = encode_bech32_checksum(raw, testnet=False)\n",
    "print(bech32)"
   ]
  },
  {
   "cell_type": "markdown",
   "metadata": {
    "slideshow": {
     "slide_type": "slide"
    }
   },
   "source": [
    "### Exercise 4\n",
    "#### Create a testnet bech32 address using your private key from the Session 0\n",
    "\n",
    "Fill in the spreadsheet with your bech32 address.\n"
   ]
  },
  {
   "cell_type": "code",
   "execution_count": null,
   "metadata": {},
   "outputs": [],
   "source": [
    "# Exercise 4\n",
    "\n",
    "from ecc import PrivateKey\n",
    "from helper import encode_bech32_checksum, encode_varstr, hash256, little_endian_to_int\n",
    "# use the same passphrase from session 0\n",
    "passphrase = b'jimmy@programmingblockchain.com Jimmy Song'\n",
    "secret = little_endian_to_int(hash256(passphrase))\n",
    "# create a private key using the secret\n",
    "private_key = PrivateKey(secret)\n",
    "# get the public key using the .point property\n",
    "public_key = private_key.point\n",
    "# get the hash160 of the point\n",
    "h160 = public_key.hash160()\n",
    "# the raw bytes to be encrypted starts with the segwit version (0 or b'\\x00)\n",
    "raw = bytes([0])\n",
    "# next, add the hash160 using encode_varstr\n",
    "raw += encode_varstr(h160)\n",
    "# encode to bech32 using encode_bech32_checksum, remember testnet=True\n",
    "bech32 = encode_bech32_checksum(raw, testnet=True)\n",
    "# print the address\n",
    "print(bech32)"
   ]
  },
  {
   "cell_type": "markdown",
   "metadata": {
    "slideshow": {
     "slide_type": "slide"
    }
   },
   "source": [
    "### Exercise 5\n",
    "\n",
    "\n",
    "\n",
    "\n",
    "#### Make [this test](/edit/session1/ecc.py) pass: `ecc.py:S256Test:test_bech32_address`"
   ]
  },
  {
   "cell_type": "code",
   "execution_count": null,
   "metadata": {
    "slideshow": {
     "slide_type": "slide"
    }
   },
   "outputs": [],
   "source": [
    "# Exercise 5\n",
    "\n",
    "reload(ecc)\n",
    "run(ecc.S256Test('test_bech32_address'))"
   ]
  },
  {
   "cell_type": "markdown",
   "metadata": {
    "slideshow": {
     "slide_type": "slide"
    }
   },
   "source": [
    "## Signing a p2wpkh Input\n",
    "* ScriptSig is empty!\n",
    "* Witness field has the signature and the compressed SEC pubkey\n",
    "![](/files/session1/p2wpkh-witness.png)\n"
   ]
  },
  {
   "cell_type": "code",
   "execution_count": null,
   "metadata": {
    "slideshow": {
     "slide_type": "slide"
    }
   },
   "outputs": [],
   "source": [
    "# Example for signing a p2wpkh input\n",
    "from io import BytesIO\n",
    "from ecc import PrivateKey\n",
    "from helper import hash256, little_endian_to_int, SIGHASH_ALL\n",
    "from tx import Tx\n",
    "from witness import Witness\n",
    "private_key = PrivateKey(little_endian_to_int(hash256(b'jimmy@programmingblockchain.com Jimmy Song')))\n",
    "raw_tx_hex = '01000000000101cca99b60e1d687e8faaf93e114114e7b5f6382d9f5d45ffb76ac7472ad7d734c0100000000ffffffff014c400f0000000000160014092ab91b37b4182061d9c01199aaac029f89561f0000000000'\n",
    "input_index = 0\n",
    "stream = BytesIO(bytes.fromhex(raw_tx_hex))\n",
    "tx_obj = Tx.parse(stream, testnet=True)\n",
    "z = tx_obj.sig_hash_bip143(input_index)\n",
    "der = private_key.sign(z).der()\n",
    "sig = der + SIGHASH_ALL.to_bytes(1, 'big')\n",
    "sec = private_key.point.sec()\n",
    "tx_in = tx_obj.tx_ins[input_index]\n",
    "tx_in.witness = Witness([sig, sec])\n",
    "print(tx_obj.verify_input(input_index))"
   ]
  },
  {
   "cell_type": "markdown",
   "metadata": {
    "slideshow": {
     "slide_type": "slide"
    }
   },
   "source": [
    "### Exercise 6\n",
    "\n",
    "\n",
    "\n",
    "\n",
    "#### Make [this test](/edit/session1/tx.py) pass: `tx.py:TxTest:test_sign_p2wpkh`"
   ]
  },
  {
   "cell_type": "code",
   "execution_count": null,
   "metadata": {
    "slideshow": {
     "slide_type": "slide"
    }
   },
   "outputs": [],
   "source": [
    "# Exercise 6\n",
    "\n",
    "reload(tx)\n",
    "run(tx.TxTest('test_sign_p2wpkh'))"
   ]
  },
  {
   "cell_type": "code",
   "execution_count": null,
   "metadata": {
    "slideshow": {
     "slide_type": "slide"
    }
   },
   "outputs": [],
   "source": [
    "# Example for creating a p2wpkh transaction\n",
    "from ecc import PrivateKey\n",
    "from helper import decode_bech32, hash256, little_endian_to_int\n",
    "from script import P2WPKHScriptPubKey\n",
    "from tx import Tx, TxIn, TxOut\n",
    "private_key = PrivateKey(little_endian_to_int(hash256(b'jimmy@programmingblockchain.com Jimmy Song')))\n",
    "prev_tx_hex = '0f007db8670c8b22ed64d95c61895d9c8e516ec938f99fbe4973fc0172ef93cf'\n",
    "prev_tx = bytes.fromhex(prev_tx_hex)\n",
    "prev_index = 1\n",
    "fee = 500\n",
    "tx_in = TxIn(prev_tx, prev_index)\n",
    "amount = tx_in.value(testnet=True) - fee\n",
    "target_address = 'tb1qdcfewxgnhx4gjev6nafaxfa64zpx7tt470r3au'\n",
    "_, _, h160 = decode_bech32(target_address)\n",
    "script_pubkey = P2WPKHScriptPubKey(h160)\n",
    "tx_out = TxOut(amount, script_pubkey)\n",
    "tx_obj = Tx(1, [tx_in], [tx_out], 0, testnet=True, segwit=True)\n",
    "tx_obj.sign_input(0, private_key)\n",
    "print(tx_obj.serialize().hex())"
   ]
  },
  {
   "cell_type": "markdown",
   "metadata": {
    "slideshow": {
     "slide_type": "slide"
    }
   },
   "source": [
    "### Exercise 7\n",
    "\n",
    "#### Create a p2wpkh spending transaction\n",
    "\n",
    "You have been sent 0.05 testnet BTC. Send 0.03 to `tb1qdcfewxgnhx4gjev6nafaxfa64zpx7tt470r3au`\n",
    "and the change back to your bech32 address.\n"
   ]
  },
  {
   "cell_type": "code",
   "execution_count": null,
   "metadata": {},
   "outputs": [],
   "source": [
    "# Exercise 7\n",
    "\n",
    "from ecc import PrivateKey\n",
    "from helper import decode_bech32, hash256, little_endian_to_int\n",
    "from network import SimpleNode\n",
    "from script import P2WPKHScriptPubKey\n",
    "from tx import Tx, TxIn, TxOut\n",
    "passphrase = b'jimmy@programmingblockchain.com Jimmy Song'\n",
    "private_key = PrivateKey(little_endian_to_int(hash256(passphrase)))\n",
    "prev_tx_hex = '94448a601fce6961a5fabbc554068460d979b15bee9531e378fbb458bc644378'\n",
    "prev_tx = bytes.fromhex(prev_tx_hex)\n",
    "prev_index = 0\n",
    "fee = 500\n",
    "target_address = 'tb1qdcfewxgnhx4gjev6nafaxfa64zpx7tt470r3au'\n",
    "target_amount = 3000000\n",
    "# create the transaction input\n",
    "tx_in = TxIn(prev_tx, prev_index)\n",
    "# create an array of tx_outs\n",
    "tx_outs = []\n",
    "# decode the target address to get the hash160 of the address\n",
    "_, _, target_h160 = decode_bech32(target_address)\n",
    "# create the target script pubkey using P2WPKHScriptPubKey\n",
    "target_script_pubkey = P2WPKHScriptPubKey(target_h160)\n",
    "# add the target transaction output\n",
    "tx_outs.append(TxOut(target_amount, target_script_pubkey))\n",
    "# calculate the change amount, remember you were sent 5000000 sats\n",
    "change_amount = 5000000 - target_amount - fee\n",
    "# calculate the hash160 for your private key\n",
    "change_h160 = private_key.point.hash160()\n",
    "# create the change script pubkey using P2WPKHScriptPubKey\n",
    "change_script_pubkey = P2WPKHScriptPubKey(change_h160)\n",
    "tx_outs.append(TxOut(change_amount, change_script_pubkey))\n",
    "# create the transaction with testnet=True and segwit=True\n",
    "tx_obj = Tx(1, [tx_in], tx_outs, 0, testnet=True, segwit=True)\n",
    "# sign the one input with your private key\n",
    "tx_obj.sign_input(0, private_key)\n",
    "# print the hex to see what it looks like\n",
    "print(tx_obj.serialize().hex())"
   ]
  },
  {
   "cell_type": "markdown",
   "metadata": {
    "slideshow": {
     "slide_type": "slide"
    }
   },
   "source": [
    "### Exercise 8\n",
    "\n",
    "\n",
    "\n",
    "\n",
    "#### Make [this test](/edit/session1/tx.py) pass: `tx.py:TxTest:test_verify_p2wpkh`"
   ]
  },
  {
   "cell_type": "code",
   "execution_count": null,
   "metadata": {
    "slideshow": {
     "slide_type": "slide"
    }
   },
   "outputs": [],
   "source": [
    "# Exercise 8\n",
    "\n",
    "reload(tx)\n",
    "run(tx.TxTest('test_verify_p2wpkh'))"
   ]
  },
  {
   "cell_type": "markdown",
   "metadata": {
    "slideshow": {
     "slide_type": "slide"
    }
   },
   "source": [
    "## What is P2SH-P2WPKH?\n",
    "* Backwards-compatible p2wpkh\n",
    "* Uses p2sh to wrap single-key segwit (p2wpkh)\n",
    "* Looks like p2sh addresses which start with a 3\n"
   ]
  },
  {
   "cell_type": "markdown",
   "metadata": {
    "slideshow": {
     "slide_type": "slide"
    }
   },
   "source": [
    "![](/files/session1/p2sh-p2wpkh-old.png)\n"
   ]
  },
  {
   "cell_type": "markdown",
   "metadata": {
    "slideshow": {
     "slide_type": "slide"
    }
   },
   "source": [
    "![](/files/session1/p2sh-p2wpkh-new.png)\n"
   ]
  },
  {
   "cell_type": "markdown",
   "metadata": {
    "slideshow": {
     "slide_type": "slide"
    }
   },
   "source": [
    "# P2SH-P2WPKH \"Nested Segwit\"\n",
    "* Acts like p2wpkh but looks like p2sh\n",
    "* ScriptPubKey looks exactly like p2sh\n",
    "* Different Data is sent to pre-Segwit nodes vs Segwit nodes\n"
   ]
  },
  {
   "cell_type": "markdown",
   "metadata": {
    "slideshow": {
     "slide_type": "slide"
    }
   },
   "source": [
    "# Non-Segwit Nodes\n",
    "![](/files/session1/p2sh-p2wpkh-old-nodes.png)\n"
   ]
  },
  {
   "cell_type": "markdown",
   "metadata": {
    "slideshow": {
     "slide_type": "slide"
    }
   },
   "source": [
    "# Segwit Nodes\n",
    "![](/files/session1/p2sh-p2wpkh-new-nodes.png)\n"
   ]
  },
  {
   "cell_type": "markdown",
   "metadata": {
    "slideshow": {
     "slide_type": "slide"
    }
   },
   "source": [
    "## Combining Scripts\n",
    "* ScriptPubKey:\n",
    "![](/files/session1/p2sh-p2wpkh-scriptpubkey.png)\n",
    "* ScriptSig:\n",
    "![](/files/session1/p2sh-p2wpkh-scriptsig.png)\n"
   ]
  },
  {
   "cell_type": "markdown",
   "metadata": {
    "slideshow": {
     "slide_type": "slide"
    }
   },
   "source": [
    "## Combined\n",
    "![](/files/session1/p2sh-p2wpkh-combined.png)\n"
   ]
  },
  {
   "cell_type": "markdown",
   "metadata": {
    "slideshow": {
     "slide_type": "slide"
    }
   },
   "source": [
    "## RedeemScript\n",
    "![](/files/session1/p2sh-p2wpkh-redeemscript.png)\n"
   ]
  },
  {
   "cell_type": "markdown",
   "metadata": {
    "slideshow": {
     "slide_type": "slide"
    }
   },
   "source": [
    "## Witness\n",
    "![](/files/session1/p2sh-p2wpkh-witness.png)\n"
   ]
  },
  {
   "cell_type": "code",
   "execution_count": null,
   "metadata": {
    "slideshow": {
     "slide_type": "slide"
    }
   },
   "outputs": [],
   "source": [
    "from IPython.display import YouTubeVideo\n",
    "YouTubeVideo('efDU3HZAHtc')"
   ]
  },
  {
   "cell_type": "markdown",
   "metadata": {
    "slideshow": {
     "slide_type": "slide"
    }
   },
   "source": [
    "### Generating a p2sh-p2wpkh address\n",
    "* RedeemScript is what would be the ScriptPubKey for p2wpkh\n",
    "* This is Segwit Version + 20 byte hash\n",
    "* p2sh address is the hash160 of the RedeemScript in Base58\n"
   ]
  },
  {
   "cell_type": "code",
   "execution_count": null,
   "metadata": {
    "slideshow": {
     "slide_type": "slide"
    }
   },
   "outputs": [],
   "source": [
    "# Example of generating a p2sh-p2wpkh address\n",
    "from ecc import S256Point\n",
    "from helper import encode_base58_checksum, hash160\n",
    "from script import P2WPKHScriptPubKey, P2SHScriptPubKey\n",
    "sec_hex = '02c3700ce19990bccbfa1e072d287049d7c0e07ed15c9aeac84bbc2c38ea667a5d'\n",
    "point = S256Point.parse(bytes.fromhex(sec_hex))\n",
    "h160 = point.hash160()\n",
    "redeem_script = P2WPKHScriptPubKey(h160)\n",
    "p2sh_h160 = hash160(redeem_script.raw_serialize())\n",
    "p2sh_script_pubkey = P2SHScriptPubKey(p2sh_h160)\n",
    "address = p2sh_script_pubkey.address(testnet=False)\n",
    "print(address)"
   ]
  },
  {
   "cell_type": "markdown",
   "metadata": {
    "slideshow": {
     "slide_type": "slide"
    }
   },
   "source": [
    "### Exercise 9\n",
    "#### Create a testnet p2sh-p2wpkh address with your private key.\n",
    "\n"
   ]
  },
  {
   "cell_type": "code",
   "execution_count": null,
   "metadata": {},
   "outputs": [],
   "source": [
    "# Exercise 9\n",
    "\n",
    "from ecc import PrivateKey\n",
    "from helper import encode_varstr, hash160, hash256, little_endian_to_int\n",
    "from script import P2WPKHScriptPubKey, P2SHScriptPubKey\n",
    "# use the same passphrase from session 0\n",
    "passphrase = b'jimmy@programmingblockchain.com Jimmy Song'\n",
    "secret = little_endian_to_int(hash256(passphrase))\n",
    "# create a private key using the secret\n",
    "private_key = PrivateKey(secret)\n",
    "# get the public key using the .point property\n",
    "public_key = private_key.point\n",
    "# get the hash160 of the point\n",
    "h160 = public_key.hash160()\n",
    "# create the RedeemScript, which is the P2WPKHScriptPubKey of the hash160\n",
    "redeem_script = P2WPKHScriptPubKey(h160)\n",
    "# perform a hash160 on the raw serialization of the RedeemScript\n",
    "p2sh_h160 = hash160(redeem_script.raw_serialize())\n",
    "# create a P2SHScriptPubKey using the h160\n",
    "p2sh_script = P2SHScriptPubKey(p2sh_h160)\n",
    "# return the address, remember testnet=True\n",
    "address = p2sh_script.address(testnet=True)\n",
    "# print the address\n",
    "print(address)"
   ]
  },
  {
   "cell_type": "markdown",
   "metadata": {
    "slideshow": {
     "slide_type": "slide"
    }
   },
   "source": [
    "### Exercise 10\n",
    "\n",
    "\n",
    "\n",
    "\n",
    "#### Make [this test](/edit/session1/script.py) pass: `script.py:P2SHScriptPubKeyTest:test_address`"
   ]
  },
  {
   "cell_type": "code",
   "execution_count": null,
   "metadata": {
    "slideshow": {
     "slide_type": "slide"
    }
   },
   "outputs": [],
   "source": [
    "# Exercise 10\n",
    "\n",
    "reload(script)\n",
    "run(script.P2SHScriptPubKeyTest('test_address'))"
   ]
  },
  {
   "cell_type": "markdown",
   "metadata": {
    "slideshow": {
     "slide_type": "slide"
    }
   },
   "source": [
    "### Exercise 11\n",
    "\n",
    "\n",
    "\n",
    "\n",
    "#### Make [this test](/edit/session1/ecc.py) pass: `ecc.py:S256Test:test_p2sh_p2wpkh_address`"
   ]
  },
  {
   "cell_type": "code",
   "execution_count": null,
   "metadata": {
    "slideshow": {
     "slide_type": "slide"
    }
   },
   "outputs": [],
   "source": [
    "# Exercise 11\n",
    "\n",
    "reload(ecc)\n",
    "run(ecc.S256Test('test_p2sh_p2wpkh_address'))"
   ]
  },
  {
   "cell_type": "markdown",
   "metadata": {
    "slideshow": {
     "slide_type": "slide"
    }
   },
   "source": [
    "### Signing a p2sh-p2wpkh input\n",
    "* ScriptSig is only the RedeemScript\n",
    "* RedeemScript is what would be the ScriptPubKey for p2wpkh\n",
    "* Witness is the signature and compressed SEC pubkey\n"
   ]
  },
  {
   "cell_type": "code",
   "execution_count": null,
   "metadata": {
    "slideshow": {
     "slide_type": "slide"
    }
   },
   "outputs": [],
   "source": [
    "# Example for signing a p2sh-p2wpkh input\n",
    "from io import BytesIO\n",
    "from ecc import PrivateKey\n",
    "from helper import hash256, little_endian_to_int, SIGHASH_ALL\n",
    "from script import Script\n",
    "from tx import Tx\n",
    "from witness import Witness\n",
    "private_key = PrivateKey(little_endian_to_int(hash256(b'jimmy@programmingblockchain.com Jimmy Song')))\n",
    "redeem_script = private_key.point.p2sh_p2wpkh_redeem_script()\n",
    "raw_tx_hex = '010000000001014e6b786f3cd70ab1ffd75caa6bb252c9888fdca9ca94d40fec24bec3e643d89e0000000000ffffffff014c400f0000000000160014401af0b57c7a4b7490c508a47d0747d03cf6ac2e0000000000'\n",
    "input_index = 0\n",
    "stream = BytesIO(bytes.fromhex(raw_tx_hex))\n",
    "tx_obj = Tx.parse(stream, testnet=True)\n",
    "z = tx_obj.sig_hash_bip143(input_index, redeem_script=redeem_script)\n",
    "der = private_key.sign(z).der()\n",
    "sig = der + SIGHASH_ALL.to_bytes(1, 'big')\n",
    "sec = private_key.point.sec()\n",
    "tx_in = tx_obj.tx_ins[input_index]\n",
    "tx_in.witness = Witness([sig, sec])\n",
    "tx_in.script_sig = Script([redeem_script.raw_serialize()])\n",
    "print(tx_obj.verify_input(input_index))"
   ]
  },
  {
   "cell_type": "markdown",
   "metadata": {
    "slideshow": {
     "slide_type": "slide"
    }
   },
   "source": [
    "### Exercise 12\n",
    "\n",
    "\n",
    "\n",
    "\n",
    "#### Make [this test](/edit/session1/tx.py) pass: `tx.py:TxTest:test_sign_p2sh_p2wpkh`"
   ]
  },
  {
   "cell_type": "code",
   "execution_count": null,
   "metadata": {
    "slideshow": {
     "slide_type": "slide"
    }
   },
   "outputs": [],
   "source": [
    "# Exercise 12\n",
    "\n",
    "reload(tx)\n",
    "run(tx.TxTest('test_sign_p2sh_p2wpkh'))"
   ]
  },
  {
   "cell_type": "code",
   "execution_count": null,
   "metadata": {
    "slideshow": {
     "slide_type": "slide"
    }
   },
   "outputs": [],
   "source": [
    "# Example for creating a p2sh-p2wpkh transaction\n",
    "from ecc import PrivateKey\n",
    "from helper import decode_bech32, hash256, little_endian_to_int\n",
    "from script import P2WPKHScriptPubKey\n",
    "from tx import Tx, TxIn, TxOut\n",
    "private_key = PrivateKey(little_endian_to_int(hash256(b'jimmy@programmingblockchain.com Jimmy Song')))\n",
    "prev_tx_hex = '6c14a8370da20c7de5ebf216ece3156e99e7d6070442d93b80cdc344b2e80867'\n",
    "prev_tx = bytes.fromhex(prev_tx_hex)\n",
    "prev_index = 1\n",
    "fee = 500\n",
    "tx_in = TxIn(prev_tx, prev_index)\n",
    "amount = tx_in.value(testnet=True) - fee\n",
    "target_address = 'tb1qdcfewxgnhx4gjev6nafaxfa64zpx7tt470r3au'\n",
    "_, _, h160 = decode_bech32(target_address)\n",
    "script_pubkey = P2WPKHScriptPubKey(h160)\n",
    "tx_out = TxOut(amount, script_pubkey)\n",
    "tx_obj = Tx(1, [tx_in], [tx_out], 0, testnet=True, segwit=True)\n",
    "redeem_script = private_key.point.p2sh_p2wpkh_redeem_script()\n",
    "tx_obj.sign_input(0, private_key, redeem_script=redeem_script)\n",
    "print(tx_obj.serialize().hex())"
   ]
  },
  {
   "cell_type": "markdown",
   "metadata": {
    "slideshow": {
     "slide_type": "slide"
    }
   },
   "source": [
    "### Exercise 13\n",
    "\n",
    "#### Create a p2sh-p2wpkh spending transaction\n",
    "\n",
    "You have been sent 0.05 testnet BTC. Send 0.03 to `tb1qdcfewxgnhx4gjev6nafaxfa64zpx7tt470r3au`\n",
    "and the change back to your p2sh-p2wpkh address.\n"
   ]
  },
  {
   "cell_type": "code",
   "execution_count": null,
   "metadata": {},
   "outputs": [],
   "source": [
    "# Exercise 13\n",
    "\n",
    "from ecc import PrivateKey\n",
    "from helper import decode_bech32, decode_base58, hash256, little_endian_to_int\n",
    "from network import SimpleNode\n",
    "from script import P2WPKHScriptPubKey, P2SHScriptPubKey\n",
    "from tx import Tx, TxIn, TxOut\n",
    "passphrase = b'jimmy@programmingblockchain.com Jimmy Song'\n",
    "private_key = PrivateKey(little_endian_to_int(hash256(passphrase)))\n",
    "prev_tx_hex = '9b3e6e253c79672a4e60a8a563ee735c8f87351058a7a0f5d53a2b5771cf6a6d'\n",
    "prev_tx = bytes.fromhex(prev_tx_hex)\n",
    "prev_index = 0\n",
    "fee = 500\n",
    "target_address = 'tb1qdcfewxgnhx4gjev6nafaxfa64zpx7tt470r3au'\n",
    "target_amount = 3000000\n",
    "# create the transaction input\n",
    "tx_in = TxIn(prev_tx, prev_index)\n",
    "# create an array of tx_outs\n",
    "tx_outs = []\n",
    "# decode the target address to get the hash160 of the address\n",
    "_, _, target_h160 = decode_bech32(target_address)\n",
    "# create the target script pubkey using P2WPKHScriptPubKey\n",
    "target_script_pubkey = P2WPKHScriptPubKey(target_h160)\n",
    "# add the target transaction output\n",
    "tx_outs.append(TxOut(target_amount, target_script_pubkey))\n",
    "# calculate the change amount, remember you were sent 5000000 sats\n",
    "change_amount = 5000000 - target_amount - fee\n",
    "# get the p2sh-p2wpkh address for using your private key\n",
    "p2sh_address = private_key.point.p2sh_p2wpkh_address()\n",
    "# get the hash160 by decoding the p2sh-p2wpkh address\n",
    "change_h160 = decode_base58(p2sh_address)\n",
    "# create the change script pubkey using P2SHScriptPubKey\n",
    "change_script_pubkey = P2SHScriptPubKey(change_h160)\n",
    "tx_outs.append(TxOut(change_amount, change_script_pubkey))\n",
    "# create the transaction with testnet=True and segwit=True\n",
    "tx_obj = Tx(1, [tx_in], tx_outs, 0, testnet=True, segwit=True)\n",
    "# grab the RedeemScript from the public point\n",
    "redeem_script = private_key.point.p2sh_p2wpkh_redeem_script()\n",
    "# sign the one input with your private key\n",
    "tx_obj.sign_input(0, private_key, redeem_script=redeem_script)\n",
    "# print the hex to see what it looks like\n",
    "print(tx_obj.serialize().hex())"
   ]
  }
 ],
 "metadata": {},
 "nbformat": 4,
 "nbformat_minor": 2
}
