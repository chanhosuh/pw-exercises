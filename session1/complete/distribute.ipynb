{
 "cells": [
  {
   "cell_type": "code",
   "execution_count": 2,
   "metadata": {},
   "outputs": [
    {
     "name": "stdout",
     "output_type": "stream",
     "text": [
      "tb1qdcfewxgnhx4gjev6nafaxfa64zpx7tt470r3au\n",
      "01000000000102784364bc58b4fb78e33195ee5bb179d960840654c5bbfaa56169ce1f608a44940100000000ffffffff301e7aa79f6140e8104d721671efee202971ed202539a6925fe79b9c7c6306f00000000000ffffffff02404b4c000000000017a91479e7cf6859a7047b099a078a8ffbbb58b73b863387305b9f02000000001600146e13971913b9aa89659a9f53d327baa8826f2d750248304502210092698bf320b3c29163b1ea211c3e32db25ac52805748adde773afac64d1db37702205a6c7d6f25c3c1c0463f4ad434331ec4a0a35a18d60a0c719ead9609feaa15110121031dbe3aff7b9ad64e2612b8b15e9f5e4a3130663a526df91abfb7b1bd16de5d6e02483045022100f03b8651598b1a9cd84cc074d41cfb7c57bb22cec4daeba8cf1ad407dd7a3a900220309041937d6bc65adef2de2970d291f822c1e43415dae1c61764ba8cca2aaff30121031dbe3aff7b9ad64e2612b8b15e9f5e4a3130663a526df91abfb7b1bd16de5d6e00000000\n",
      "success! 9b3e6e253c79672a4e60a8a563ee735c8f87351058a7a0f5d53a2b5771cf6a6d\n"
     ]
    }
   ],
   "source": [
    "import requests\n",
    "from time import sleep\n",
    "from ecc import PrivateKey\n",
    "from helper import decode_bech32, decode_base58, hash256, little_endian_to_int\n",
    "from network import SimpleNode\n",
    "from script import p2wpkh_script, p2sh_script\n",
    "from tx import Tx, TxIn, TxOut\n",
    "passphrase = b'jimmy@programmingblockchain.com secret passphrase'\n",
    "secret = little_endian_to_int(hash256(passphrase))\n",
    "private_key = PrivateKey(secret)\n",
    "my_address = private_key.point.bech32_address(testnet=True)\n",
    "target_amount = 5000000\n",
    "print(my_address)\n",
    "response = requests.get('https://blockstream.info/testnet/api/address/{}/utxo'.format(my_address))\n",
    "utxos = response.json()\n",
    "if (len(utxos) == 0):\n",
    "    raise RuntimeError('no outputs!')\n",
    "student_addresses = '''2N4MoSx2SoExv53GJFEdPuMqL8djPQPH2er'''\n",
    "fee = 1000\n",
    "tx_ins = []\n",
    "total = 0\n",
    "for utxo in utxos:\n",
    "    prev_tx = bytes.fromhex(utxo['txid'])\n",
    "    prev_index = utxo['vout']\n",
    "    total += utxo['value']\n",
    "    # create a new tx input\n",
    "    tx_ins.append(TxIn(prev_tx, prev_index))\n",
    "# initialize outputs\n",
    "tx_outs = []\n",
    "output_amount = 0\n",
    "for target_address in student_addresses.split():\n",
    "    if target_address.startswith('2'):\n",
    "        h160 = decode_base58(target_address)\n",
    "        script_pubkey = p2sh_script(h160)\n",
    "    elif target_address.startswith('t'):\n",
    "        # decode the hash160 from the target address\n",
    "        _, _, h160 = decode_bech32(target_address)\n",
    "        # convert hash160 to p2pkh script\n",
    "        script_pubkey = p2wpkh_script(h160)\n",
    "    # convert target amount to satoshis (multiply by 100 million)\n",
    "    output_amount += target_amount\n",
    "    # create a new tx output for target\n",
    "    tx_outs.append(TxOut(\n",
    "        amount=target_amount,\n",
    "        script_pubkey=script_pubkey,\n",
    "    ))\n",
    "change_satoshis = total - fee - output_amount\n",
    "script_pubkey = p2wpkh_script(private_key.point.hash160())\n",
    "tx_outs.append(TxOut(amount=change_satoshis, script_pubkey=script_pubkey))\n",
    "tx_obj = Tx(version=1, tx_ins=tx_ins, tx_outs=tx_outs, locktime=0, testnet=True, segwit=True)\n",
    "for i in range(len(tx_obj.tx_ins)):\n",
    "    tx_obj.sign_input(i, private_key)\n",
    "if tx_obj.fee() > 0.05*100000000 or tx_obj.fee() <= 0:\n",
    "    raise RuntimeError('Check that the change amount is reasonable. Fee is {}'.format(tx_obj.fee()))\n",
    "print(tx_obj.serialize().hex())\n",
    "node = SimpleNode('testnet.programmingbitcoin.com', testnet=True)\n",
    "node.handshake()\n",
    "node.send(tx_obj)\n",
    "if node.is_tx_accepted(tx_obj):\n",
    "    print('success! {}'.format(tx_obj.id()))"
   ]
  },
  {
   "cell_type": "code",
   "execution_count": 1,
   "metadata": {},
   "outputs": [
    {
     "name": "stdout",
     "output_type": "stream",
     "text": [
      "2MyJsxLnxj7DsNch4xE7B3nMpB94kDPoE2s\n"
     ]
    }
   ],
   "source": [
    "from ecc import PrivateKey\n",
    "secret = 8675309\n",
    "private_key = PrivateKey(secret)\n",
    "print(private_key.point.p2sh_p2wpkh_address(testnet=True))\n"
   ]
  },
  {
   "cell_type": "code",
   "execution_count": null,
   "metadata": {},
   "outputs": [],
   "source": []
  }
 ],
 "metadata": {
  "kernelspec": {
   "display_name": "Python 3",
   "language": "python",
   "name": "python3"
  },
  "language_info": {
   "codemirror_mode": {
    "name": "ipython",
    "version": 3
   },
   "file_extension": ".py",
   "mimetype": "text/x-python",
   "name": "python",
   "nbconvert_exporter": "python",
   "pygments_lexer": "ipython3",
   "version": "3.6.7"
  }
 },
 "nbformat": 4,
 "nbformat_minor": 2
}
