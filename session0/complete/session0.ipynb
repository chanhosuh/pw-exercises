{
 "cells": [
  {
   "cell_type": "code",
   "execution_count": 1,
   "metadata": {},
   "outputs": [],
   "source": [
    "############## PLEASE RUN THIS CELL FIRST! ###################\n",
    "\n",
    "# import everything and define a test runner function\n",
    "from importlib import reload\n",
    "from helper import run\n",
    "import ecc, helper, tx"
   ]
  },
  {
   "cell_type": "markdown",
   "metadata": {},
   "source": [
    "### This is a Jupyter Notebook\n",
    "You can write Python code and it will execute. You can write the typical 'hello world' program like this:\n",
    "\n",
    "```python\n",
    "print('hello world')\n",
    "```\n",
    "\n",
    "You can execute by pressing shift-enter. Try it! You can also click the Run button in the toolbar.\n"
   ]
  },
  {
   "cell_type": "code",
   "execution_count": 2,
   "metadata": {},
   "outputs": [
    {
     "name": "stdout",
     "output_type": "stream",
     "text": [
      "hello world\n"
     ]
    }
   ],
   "source": [
    "print('hello world')"
   ]
  },
  {
   "cell_type": "markdown",
   "metadata": {},
   "source": [
    "### Imports\n",
    "\n",
    "You already have unit tests that are written for you.\n",
    "Your task is to make them pass.\n",
    "We can import various modules to make our experience using Jupyter more pleasant.\n",
    "This way, making everything work will be a lot easier.\n"
   ]
  },
  {
   "cell_type": "code",
   "execution_count": 3,
   "metadata": {},
   "outputs": [],
   "source": [
    "# this is how you import an entire module\n",
    "import helper\n",
    "# this is how you import a particular function, class or constant\n",
    "from helper import little_endian_to_int\n",
    "# used in the next exercise\n",
    "some_long_variable_name = 'something'"
   ]
  },
  {
   "cell_type": "markdown",
   "metadata": {},
   "source": [
    "### Exercise 1\n",
    "#### Jupyter Tips\n",
    "\n",
    "The two most useful commands are tab and shift-tab\n",
    "\n",
    "Tab lets you tab-complete. Try pressing tab after the `some` below. This will complete to the variable name that's there from the last cell.\n",
    "\n",
    "Shift-Tab gives you a function/method signature. Try pressing shift-tab after the `little_endian_to_int` below. That's also there from the last cell.\n"
   ]
  },
  {
   "cell_type": "code",
   "execution_count": 4,
   "metadata": {},
   "outputs": [
    {
     "data": {
      "text/plain": [
       "0"
      ]
     },
     "execution_count": 4,
     "metadata": {},
     "output_type": "execute_result"
    }
   ],
   "source": [
    "# Exercise 1\n",
    "\n",
    "some_long_variable_name\n",
    "little_endian_to_int(b'\\x00')"
   ]
  },
  {
   "cell_type": "markdown",
   "metadata": {},
   "source": [
    "### Exercise 2\n",
    "\n",
    "\n",
    "This is a refresher on how some of the byte encoding and reading works. In particular, this exercise is to give you a refresher on how streams work.\n",
    "\n",
    "Open [helper.py](/edit/session0/helper.py) and implement the `read_varstr` and `encode_varstr` functions. Once you're done editing, run the cell below.\n",
    "\n",
    "\n",
    "#### Make [this test](/edit/session0/helper.py) pass: `helper.py:HelperTest:test_varstr`"
   ]
  },
  {
   "cell_type": "code",
   "execution_count": 5,
   "metadata": {},
   "outputs": [
    {
     "name": "stderr",
     "output_type": "stream",
     "text": [
      ".\n",
      "----------------------------------------------------------------------\n",
      "Ran 1 test in 0.001s\n",
      "\n",
      "OK\n"
     ]
    }
   ],
   "source": [
    "# Exercise 2\n",
    "\n",
    "reload(helper)\n",
    "run(helper.HelperTest('test_varstr'))"
   ]
  },
  {
   "cell_type": "markdown",
   "metadata": {},
   "source": [
    "### Exercise 3\n",
    "#### ECDSA Refresher\n",
    "\n",
    "Sign the message `b'I completed the Programming Blockchain Seminar and/or the Programming Bitcoin book'` with a private key of your choosing. We'll use this key for at least a part of this class, so please keep it handy and back it up!\n"
   ]
  },
  {
   "cell_type": "code",
   "execution_count": 6,
   "metadata": {},
   "outputs": [
    {
     "name": "stdout",
     "output_type": "stream",
     "text": [
      "30450221009daf110ed47cf2e5b0b59e766af5476a35dcaadfbbd03250857cd7c2d2dc661302206cc4b3a5347e9215915f9e31084d4f49e07c34717a79d01aec259fd65381e74e\n",
      "True\n"
     ]
    }
   ],
   "source": [
    "# Exercise 3\n",
    "\n",
    "from ecc import PrivateKey\n",
    "from helper import hash256, little_endian_to_int\n",
    "# pick a secret passphrase. Something like your email address and your name should be fine.\n",
    "passphrase = b'jimmy@programmingblockchain.com Jimmy Song'\n",
    "# this is the message we'll be signing\n",
    "message = b'I completed the Programming Blockchain Seminar and/or the Programming Bitcoin book'\n",
    "# we're converting the passphrase into a secret number for use in the private key\n",
    "secret = little_endian_to_int(hash256(passphrase))\n",
    "# create the private key object\n",
    "private_key = PrivateKey(secret)\n",
    "# create the z by converting the hash256 of the message to a big endian integer using int.from_bytes(x, 'big')\n",
    "z = int.from_bytes(hash256(message), 'big')\n",
    "# sign the message with the private key\n",
    "signature = private_key.sign(z)\n",
    "# print the hex of the der version of the signature\n",
    "print(signature.der().hex())\n",
    "# verify the signature using the public key (private_key.point)\n",
    "print(private_key.point.verify(z, signature))"
   ]
  },
  {
   "cell_type": "markdown",
   "metadata": {},
   "source": [
    "### Exercise 4\n",
    "\n",
    "\n",
    "It's annoying to have to calculate z every time we want to sign or verify a message. Write the `sign_message` method in `PrivateKey` and the `verify_message` method in `S256Point` to make signing/verifying messages easy.\n",
    "\n",
    "\n",
    "#### Make [this test](/edit/session0/ecc.py) pass: `ecc.py:PrivateKeyTest:test_sign_message`"
   ]
  },
  {
   "cell_type": "code",
   "execution_count": 7,
   "metadata": {},
   "outputs": [
    {
     "name": "stderr",
     "output_type": "stream",
     "text": [
      ".\n",
      "----------------------------------------------------------------------\n",
      "Ran 1 test in 0.241s\n",
      "\n",
      "OK\n"
     ]
    }
   ],
   "source": [
    "# Exercise 4\n",
    "\n",
    "reload(ecc)\n",
    "run(ecc.PrivateKeyTest('test_sign_message'))"
   ]
  },
  {
   "cell_type": "markdown",
   "metadata": {},
   "source": [
    "### Exercise 5\n",
    "#### Address Refresher\n",
    "\n",
    "Get your testnet address from your private key used above.\n"
   ]
  },
  {
   "cell_type": "code",
   "execution_count": 8,
   "metadata": {},
   "outputs": [
    {
     "name": "stdout",
     "output_type": "stream",
     "text": [
      "mmMupB3E1xNfRZktg6N9ehuAZWCkrCSXSp\n"
     ]
    }
   ],
   "source": [
    "# Exercise 5\n",
    "\n",
    "# get the public key for your private key (the private_key variable should still be in scope)\n",
    "public_key = private_key.point\n",
    "# print the address using the address method. remember to pass in testnet=True!\n",
    "print(public_key.address(testnet=True))"
   ]
  },
  {
   "cell_type": "markdown",
   "metadata": {},
   "source": [
    "### Exercise 6\n",
    "#### Transaction Refresher\n",
    "\n",
    "Send yourself some testnet coins to the address from the previous exercise [using this site](https://faucet.programmingbitcoin.com).\n",
    "Then create a transaction to send all the coins to `mqYz6JpuKukHzPg94y4XNDdPCEJrNkLQcv` BUT DO NOT BROADCAST IT YET!\n",
    "This is a one input, one output transaction.\n"
   ]
  },
  {
   "cell_type": "code",
   "execution_count": 9,
   "metadata": {},
   "outputs": [
    {
     "name": "stdout",
     "output_type": "stream",
     "text": [
      "0100000001e453a1a84c617a8cf621c00333361de583477f43fd9a3ea9802a95a8bfb5c4ae010000006b483045022100919c5f390ac25e7aa66c250bb55f37a4ccf565a9681343cf822220c06879b4e9022027d4d2f691e31749280d30bf840160b6b8b682fff4481e84094a732b791917d2012102c3700ce19990bccbfa1e072d287049d7c0e07ed15c9aeac84bbc2c38ea667a5dffffffff01f7f03900000000001976a9146e13971913b9aa89659a9f53d327baa8826f2d7588ac00000000\n"
     ]
    }
   ],
   "source": [
    "# Exercise 6\n",
    "\n",
    "from helper import decode_base58\n",
    "from script import p2pkh_script\n",
    "from tx import Tx, TxIn, TxOut\n",
    "# this should be the transaction ID and index from the transaction from the faucet\n",
    "prev_tx_hex = 'aec4b5bfa8952a80a93e9afd437f4783e51d363303c021f68c7a614ca8a153e4'\n",
    "prev_index = 1\n",
    "prev_tx = bytes.fromhex(prev_tx_hex)\n",
    "target_address = 'mqYz6JpuKukHzPg94y4XNDdPCEJrNkLQcv'\n",
    "fee = 5000\n",
    "# create the transaction input\n",
    "tx_in = TxIn(prev_tx, prev_index)\n",
    "# calculate the output amount\n",
    "output_amount = tx_in.value(testnet=True) - fee\n",
    "# calculate the hash160 using decode_base58 on the target_address\n",
    "h160 = decode_base58(target_address)\n",
    "# convert the h160 to a p2pkh script using p2pkh_script\n",
    "script_pubkey = p2pkh_script(h160)\n",
    "# create the transaction output\n",
    "tx_out = TxOut(output_amount, script_pubkey)\n",
    "# create the transaction with version=1, locktime=0, testnet=True\n",
    "tx_obj = Tx(1, [tx_in], [tx_out], 0, testnet=True)\n",
    "# sign the transaction's only input using sign_p2pkh\n",
    "# the private key from the previous exercise should be in scope\n",
    "tx_obj.sign_p2pkh(0, private_key)\n",
    "# serialize and hex to see what it looks like\n",
    "print(tx_obj.serialize().hex())"
   ]
  },
  {
   "cell_type": "markdown",
   "metadata": {},
   "source": [
    "### Exercise 7\n",
    "\n",
    "\n",
    "It's annoying to have to already know what the previous output's script type was to sign it as the caller. Create a method to sign any input, though for now, that should only be p2pkh.\n",
    "\n",
    "\n",
    "#### Make [this test](/edit/session0/tx.py) pass: `tx.py:TxTest:test_sign_input`"
   ]
  },
  {
   "cell_type": "code",
   "execution_count": 10,
   "metadata": {},
   "outputs": [
    {
     "name": "stderr",
     "output_type": "stream",
     "text": [
      ".\n",
      "----------------------------------------------------------------------\n",
      "Ran 1 test in 0.185s\n",
      "\n",
      "OK\n"
     ]
    }
   ],
   "source": [
    "# Exercise 7\n",
    "\n",
    "reload(tx)\n",
    "run(tx.TxTest('test_sign_input'))"
   ]
  },
  {
   "cell_type": "markdown",
   "metadata": {},
   "source": [
    "### Exercise 8\n",
    "#### Network Refresher\n",
    "\n",
    "Broadcast the transaction created in the previous exercise directly on the testnet network.\n"
   ]
  },
  {
   "cell_type": "code",
   "execution_count": 11,
   "metadata": {},
   "outputs": [
    {
     "name": "stdout",
     "output_type": "stream",
     "text": [
      "success!\n",
      "f6afd234109e5aa6ba388d386fc94c7109bcf1f4e618aaeffdf037e709ab3a77\n"
     ]
    }
   ],
   "source": [
    "# Exercise 8\n",
    "\n",
    "from network import SimpleNode\n",
    "from time import sleep\n",
    "# connect to testnet.programmingbitcoin.com in testnet mode using SimpleNode\n",
    "node = SimpleNode('testnet.programmingbitcoin.com', testnet=True)\n",
    "# complete the handshake\n",
    "node.handshake()\n",
    "# send this signed transaction on the network\n",
    "node.send(tx_obj)\n",
    "# wait a sec so this message goes through to the other node sleep(1)\n",
    "sleep(1)\n",
    "# now check to see if the tx has been accepted using SimpleNode.is_tx_accepted()\n",
    "if node.is_tx_accepted(tx_obj):\n",
    "    print('success!')\n",
    "    print(tx_obj.id())"
   ]
  }
 ],
 "metadata": {
  "kernelspec": {
   "display_name": "Python 3",
   "language": "python",
   "name": "python3"
  },
  "language_info": {
   "codemirror_mode": {
    "name": "ipython",
    "version": 3
   },
   "file_extension": ".py",
   "mimetype": "text/x-python",
   "name": "python",
   "nbconvert_exporter": "python",
   "pygments_lexer": "ipython3",
   "version": "3.6.7"
  }
 },
 "nbformat": 4,
 "nbformat_minor": 2
}
