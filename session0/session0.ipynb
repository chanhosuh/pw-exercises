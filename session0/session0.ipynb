{
 "cells": [
  {
   "cell_type": "code",
   "execution_count": null,
   "metadata": {},
   "outputs": [],
   "source": [
    "############## PLEASE RUN THIS CELL FIRST! ###################\n",
    "\n",
    "# import everything and define a test runner function\n",
    "from importlib import reload\n",
    "from helper import run\n",
    "import ecc, helper, tx\n",
    "from tx import TxFetcher\n",
    "TxFetcher.load_cache('tx.cache')"
   ]
  },
  {
   "cell_type": "markdown",
   "metadata": {},
   "source": [
    "### This is a Jupyter Notebook\n",
    "You can write Python code and it will execute. You can write the typical 'hello world' program like this:\n",
    "\n",
    "```python\n",
    "print('hello world')\n",
    "```\n",
    "\n",
    "You can execute by pressing shift-enter. Try it! You can also click the Run button in the toolbar.\n"
   ]
  },
  {
   "cell_type": "code",
   "execution_count": null,
   "metadata": {},
   "outputs": [],
   "source": [
    "print('hello world')"
   ]
  },
  {
   "cell_type": "markdown",
   "metadata": {},
   "source": [
    "### Imports\n",
    "\n",
    "You already have unit tests that are written for you.\n",
    "Your task is to make them pass.\n",
    "We can import various modules to make our experience using Jupyter more pleasant.\n",
    "This way, making everything work will be a lot easier.\n"
   ]
  },
  {
   "cell_type": "code",
   "execution_count": null,
   "metadata": {},
   "outputs": [],
   "source": [
    "# this is how you import an entire module\n",
    "import helper\n",
    "# this is how you import a particular function, class or constant\n",
    "from helper import little_endian_to_int\n",
    "# used in the next exercise\n",
    "some_long_variable_name = 'something'"
   ]
  },
  {
   "cell_type": "markdown",
   "metadata": {},
   "source": [
    "### Exercise 1\n",
    "#### Jupyter Tips\n",
    "\n",
    "The two most useful commands are tab and shift-tab\n",
    "\n",
    "Tab lets you tab-complete. Try pressing tab after the `some` below. This will complete to the variable name that's there from the last cell.\n",
    "\n",
    "Shift-Tab gives you a function/method signature. Try pressing shift-tab after the `little_endian_to_int` below. That's also there from the last cell.\n"
   ]
  },
  {
   "cell_type": "code",
   "execution_count": null,
   "metadata": {},
   "outputs": [],
   "source": [
    "# Exercise 1\n",
    "\n",
    "some  # press *tab* here\n",
    "little_endian_to_int()  # press shift-tab here"
   ]
  },
  {
   "cell_type": "markdown",
   "metadata": {},
   "source": [
    "### Exercise 2\n",
    "\n",
    "\n",
    "This is a refresher on how some of the byte encoding and reading works. In particular, this exercise is to give you a refresher on how streams work.\n",
    "\n",
    "Open [helper.py](/edit/session0/helper.py) and implement the `read_varstr` and `encode_varstr` functions. Once you're done editing, run the cell below.\n",
    "\n",
    "\n",
    "#### Make [this test](/edit/session0/helper.py) pass: `helper.py:HelperTest:test_varstr`"
   ]
  },
  {
   "cell_type": "code",
   "execution_count": null,
   "metadata": {},
   "outputs": [],
   "source": [
    "# Exercise 2\n",
    "\n",
    "reload(helper)\n",
    "run(helper.HelperTest('test_varstr'))"
   ]
  },
  {
   "cell_type": "markdown",
   "metadata": {},
   "source": [
    "### Exercise 3\n",
    "#### ECDSA Refresher\n",
    "\n",
    "Sign the message `b'I completed the Programming Blockchain Seminar and/or the Programming Bitcoin book'` with a private key of your choosing. We'll use this key for at least a part of this class, so please keep it handy and back it up!\n"
   ]
  },
  {
   "cell_type": "code",
   "execution_count": null,
   "metadata": {},
   "outputs": [],
   "source": [
    "# Exercise 3\n",
    "\n",
    "from ecc import PrivateKey\n",
    "from helper import hash256, little_endian_to_int\n",
    "# pick a secret passphrase. Something like your email address and your name should be fine.\n",
    "passphrase = b'<some secret passphrase>'\n",
    "# this is the message we'll be signing\n",
    "message = b'I completed the Programming Blockchain Seminar and/or the Programming Bitcoin book'\n",
    "# we're converting the passphrase into a secret number for use in the private key\n",
    "secret = little_endian_to_int(hash256(passphrase))\n",
    "# create the private key object\n",
    "\n",
    "# create the z by converting the hash256 of the message to a big endian integer using int.from_bytes(x, 'big')\n",
    "\n",
    "# sign the message with the private key\n",
    "\n",
    "# print the hex of the der version of the signature\n",
    "\n",
    "# verify the signature using the public key (private_key.point)\n"
   ]
  },
  {
   "cell_type": "markdown",
   "metadata": {},
   "source": [
    "### Exercise 4\n",
    "\n",
    "\n",
    "It's annoying to have to calculate z every time we want to sign or verify a message. Write the `sign_message` method in `PrivateKey` and the `verify_message` method in `S256Point` to make signing/verifying messages easy.\n",
    "\n",
    "\n",
    "#### Make [this test](/edit/session0/ecc.py) pass: `ecc.py:PrivateKeyTest:test_sign_message`"
   ]
  },
  {
   "cell_type": "code",
   "execution_count": null,
   "metadata": {},
   "outputs": [],
   "source": [
    "# Exercise 4\n",
    "\n",
    "reload(ecc)\n",
    "run(ecc.PrivateKeyTest('test_sign_message'))"
   ]
  },
  {
   "cell_type": "markdown",
   "metadata": {},
   "source": [
    "### Exercise 5\n",
    "#### Address Refresher\n",
    "\n",
    "Get your testnet address from your private key used above.\n"
   ]
  },
  {
   "cell_type": "code",
   "execution_count": null,
   "metadata": {},
   "outputs": [],
   "source": [
    "# Exercise 5\n",
    "\n",
    "# get the public key for your private key (the private_key variable should still be in scope)\n",
    "\n",
    "# print the address using the address method. remember to pass in testnet=True!\n"
   ]
  },
  {
   "cell_type": "markdown",
   "metadata": {},
   "source": [
    "### Exercise 6\n",
    "#### Transaction Refresher\n",
    "\n",
    "Send yourself some testnet coins to the address from the previous exercise [using this site](https://faucet.programmingbitcoin.com).\n",
    "Then create a transaction to send all the coins to `mqYz6JpuKukHzPg94y4XNDdPCEJrNkLQcv` BUT DO NOT BROADCAST IT YET!\n",
    "This is a one input, one output transaction.\n"
   ]
  },
  {
   "cell_type": "code",
   "execution_count": null,
   "metadata": {},
   "outputs": [],
   "source": [
    "# Exercise 6\n",
    "\n",
    "from helper import decode_base58\n",
    "from script import P2PKHScriptPubKey\n",
    "from tx import Tx, TxIn, TxOut\n",
    "# this should be the transaction ID and index from the transaction from the faucet\n",
    "prev_tx_hex = '<fill this in>'\n",
    "prev_index = -1  # change this\n",
    "prev_tx = bytes.fromhex(prev_tx_hex)\n",
    "target_address = 'mqYz6JpuKukHzPg94y4XNDdPCEJrNkLQcv'\n",
    "fee = 5000\n",
    "# create the transaction input\n",
    "\n",
    "# calculate the output amount\n",
    "\n",
    "# calculate the hash160 using decode_base58 on the target_address\n",
    "\n",
    "# convert the h160 to a p2pkh script using P2PKHScriptPubKey\n",
    "\n",
    "# create the transaction output\n",
    "\n",
    "# create the transaction with version=1, locktime=0, testnet=True\n",
    "\n",
    "# sign the transaction's only input using sign_p2pkh\n",
    "# the private key from the previous exercise should be in scope\n",
    "\n",
    "# serialize and hex to see what it looks like\n"
   ]
  },
  {
   "cell_type": "markdown",
   "metadata": {},
   "source": [
    "### Exercise 7\n",
    "\n",
    "\n",
    "It's annoying to have to already know what the previous output's script type was to sign it as the caller. Create a method to sign any input, though for now, that should only be p2pkh.\n",
    "\n",
    "\n",
    "#### Make [this test](/edit/session0/tx.py) pass: `tx.py:TxTest:test_sign_input`"
   ]
  },
  {
   "cell_type": "code",
   "execution_count": null,
   "metadata": {},
   "outputs": [],
   "source": [
    "# Exercise 7\n",
    "\n",
    "reload(tx)\n",
    "run(tx.TxTest('test_sign_input'))"
   ]
  }
 ],
 "metadata": {},
 "nbformat": 4,
 "nbformat_minor": 2
}
