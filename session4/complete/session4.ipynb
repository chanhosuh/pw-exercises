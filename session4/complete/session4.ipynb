{
 "cells": [
  {
   "cell_type": "code",
   "execution_count": null,
   "metadata": {
    "slideshow": {
     "slide_type": "slide"
    }
   },
   "outputs": [],
   "source": [
    "############## PLEASE RUN THIS CELL FIRST! ###################\n",
    "\n",
    "# import everything and define a test runner function\n",
    "from importlib import reload\n",
    "from helper import run\n",
    "import psbt, script, tx"
   ]
  },
  {
   "cell_type": "code",
   "execution_count": null,
   "metadata": {
    "slideshow": {
     "slide_type": "slide"
    }
   },
   "outputs": [],
   "source": [
    "# example creating a PSBT\n",
    "from io import BytesIO\n",
    "from psbt import PSBT, PSBTIn, PSBTOut\n",
    "from script import Script\n",
    "from tx import Tx\n",
    "from witness import Witness\n",
    "hex_tx = '0100000001af70eeccc0098dc1b5c319bbb24fad1e7539ff59f58ddd9ff03b54a0e47c54f70000000000ffffffff014c400f00000000001976a91426d5d464d148454c76f7095fdf03afc8bc8d82c388ac00000000'\n",
    "tx_obj = Tx.parse(BytesIO(bytes.fromhex(hex_tx)), testnet=True)\n",
    "psbt_ins = []\n",
    "for tx_in in tx_obj.tx_ins:\n",
    "    if tx_in.script_sig.commands:\n",
    "        script_sig = tx_in.script_sig\n",
    "        tx_in.script_sig = Script()\n",
    "    else:\n",
    "        script_sig = None\n",
    "    psbt_in = PSBTIn(tx_in, script_sig=script_sig)\n",
    "    psbt_ins.append(psbt_in)\n",
    "psbt_outs = []\n",
    "for tx_out in tx_obj.tx_outs:\n",
    "    psbt_out = PSBTOut(tx_out)\n",
    "    psbt_outs.append(psbt_out)\n",
    "psbt_obj = PSBT(tx_obj, psbt_ins, psbt_outs)\n",
    "print(psbt_obj.serialize().hex())"
   ]
  },
  {
   "cell_type": "markdown",
   "metadata": {
    "slideshow": {
     "slide_type": "slide"
    }
   },
   "source": [
    "### Exercise 1\n",
    "\n",
    "\n",
    "\n",
    "\n",
    "#### Make [this test](/edit/session4/psbt.py) pass: `psbt.py:PSBTTest:test_create`"
   ]
  },
  {
   "cell_type": "code",
   "execution_count": null,
   "metadata": {
    "slideshow": {
     "slide_type": "slide"
    }
   },
   "outputs": [],
   "source": [
    "# Exercise 1\n",
    "\n",
    "reload(psbt)\n",
    "run(psbt.PSBTTest('test_create'))"
   ]
  },
  {
   "cell_type": "markdown",
   "metadata": {
    "slideshow": {
     "slide_type": "slide"
    }
   },
   "source": [
    "### Exercise 2\n",
    "\n",
    "#### Create a PSBT from the transaction you've been sent\n"
   ]
  },
  {
   "cell_type": "code",
   "execution_count": null,
   "metadata": {},
   "outputs": [],
   "source": [
    "# Exercise 2\n",
    "\n",
    "from io import BytesIO\n",
    "from psbt import PSBT\n",
    "from tx import Tx\n",
    "hex_tx = '010000000187a22bb77a836c0a3bbb62e1e04950cffdf6a45489a8d7801b24b18c124d84850000000000ffffffff01583e0f00000000001600146e13971913b9aa89659a9f53d327baa8826f2d7500000000'\n",
    "# convert the hex transaction to a tx object\n",
    "tx_obj = Tx.parse(BytesIO(bytes.fromhex(hex_tx)))\n",
    "# if you completed the previous exercise, use the create method\n",
    "psbt_obj = PSBT.create(tx_obj)\n",
    "# serialize, turn to hex and print it to see what it looks like\n",
    "print(psbt_obj.serialize().hex())"
   ]
  },
  {
   "cell_type": "code",
   "execution_count": null,
   "metadata": {
    "slideshow": {
     "slide_type": "slide"
    }
   },
   "outputs": [],
   "source": [
    "# example for updating the PSBT\n",
    "from helper import read_varstr\n",
    "from io import BytesIO\n",
    "from psbt import PSBT, PSBTIn, PSBTOut, NamedHDPublicKey\n",
    "from tx import Tx\n",
    "hex_named_hd = '4f01043587cf034d513c1580000000fb406c9fec09b6957a3449d2102318717b0c0d230b657d0ebc6698abd52145eb02eaf3397fea02c5dac747888a9e535eaf3c7e7cb9d5f2da77ddbdd943592a14af10fbfef36f2c0000800100008000000080'\n",
    "stream = BytesIO(bytes.fromhex(hex_named_hd))\n",
    "key = read_varstr(stream)\n",
    "named_hd = NamedHDPublicKey.parse(key, stream)\n",
    "hex_psbt = '70736274ff0100770100000001192f88eeabc44ac213604adbb5b699678815d24b718b5940f5b1b1853f0887480100000000ffffffff0220a10700000000001976a91426d5d464d148454c76f7095fdf03afc8bc8d82c388ac2c9f0700000000001976a9144df14c8c8873451290c53e95ebd1ee8fe488f0ed88ac0000000000000000'\n",
    "psbt_obj = PSBT.parse(BytesIO(bytes.fromhex(hex_psbt)))\n",
    "psbt_obj.tx_obj.testnet = True\n",
    "tx_lookup = psbt_obj.tx_obj.get_input_tx_lookup()\n",
    "pubkey_lookup = named_hd.bip44_lookup()\n",
    "psbt_obj.update(tx_lookup, pubkey_lookup)\n",
    "print(psbt_obj.serialize().hex())"
   ]
  },
  {
   "cell_type": "markdown",
   "metadata": {
    "slideshow": {
     "slide_type": "slide"
    }
   },
   "source": [
    "### Exercise 3\n",
    "\n",
    "\n",
    "\n",
    "\n",
    "#### Make [this test](/edit/session4/psbt.py) pass: `psbt.py:PSBTTest:test_update_p2pkh`"
   ]
  },
  {
   "cell_type": "code",
   "execution_count": null,
   "metadata": {
    "slideshow": {
     "slide_type": "slide"
    }
   },
   "outputs": [],
   "source": [
    "# Exercise 3\n",
    "\n",
    "reload(psbt)\n",
    "run(psbt.PSBTTest('test_update_p2pkh'))"
   ]
  },
  {
   "cell_type": "markdown",
   "metadata": {
    "slideshow": {
     "slide_type": "slide"
    }
   },
   "source": [
    "### Exercise 4\n",
    "\n",
    "#### Update the PSBT that you got.\n",
    "\n"
   ]
  },
  {
   "cell_type": "code",
   "execution_count": null,
   "metadata": {},
   "outputs": [],
   "source": [
    "# Exercise 4\n",
    "\n",
    "from helper import read_varstr\n",
    "from hd import HDPrivateKey\n",
    "from io import BytesIO\n",
    "from psbt import PSBT, PSBTIn, PSBTOut, NamedHDPublicKey\n",
    "from tx import Tx\n",
    "mnemonic = 'abandon abandon abandon abandon abandon abandon abandon abandon abandon abandon abandon about'\n",
    "passphrase = b'jimmy@programmingblockchain.com Jimmy Song 2'\n",
    "path = \"m/44'/1'/0'\"\n",
    "hd_priv = HDPrivateKey.from_mnemonic(mnemonic, passphrase, testnet=True)\n",
    "hex_psbt = '70736274ff010052010000000187a22bb77a836c0a3bbb62e1e04950cffdf6a45489a8d7801b24b18c124d84850000000000ffffffff01583e0f00000000001600146e13971913b9aa89659a9f53d327baa8826f2d7500000000000000'\n",
    "psbt_obj = PSBT.parse(BytesIO(bytes.fromhex(hex_psbt)))\n",
    "psbt_obj.tx_obj.testnet = True\n",
    "# create the NamedHDPublicKey using the HDPrivateKey and path\n",
    "named_hd = NamedHDPublicKey.from_hd_priv(hd_priv, path)\n",
    "# get the tx lookup using the psbt_obj's tx_object's get_input_tx_lookup method\n",
    "tx_lookup = psbt_obj.tx_obj.get_input_tx_lookup()\n",
    "# get the pubkey lookup using the bip44_lookup method\n",
    "pubkey_lookup = named_hd.bip44_lookup()\n",
    "# update the psbt object with the transaction lookup and the pubkey lookup\n",
    "psbt_obj.update(tx_lookup, pubkey_lookup)\n",
    "# print the serialized hex to see what it looks like\n",
    "print(psbt_obj.serialize().hex())"
   ]
  },
  {
   "cell_type": "markdown",
   "metadata": {
    "slideshow": {
     "slide_type": "slide"
    }
   },
   "source": [
    "### Exercise 5\n",
    "\n",
    "\n",
    "\n",
    "\n",
    "#### Make [this test](/edit/session4/psbt.py) pass: `psbt.py:PSBTTest:test_sign_p2pkh`"
   ]
  },
  {
   "cell_type": "code",
   "execution_count": null,
   "metadata": {
    "slideshow": {
     "slide_type": "slide"
    }
   },
   "outputs": [],
   "source": [
    "# Exercise 5\n",
    "\n",
    "reload(psbt)\n",
    "run(psbt.PSBTTest('test_sign_p2pkh'))"
   ]
  },
  {
   "cell_type": "markdown",
   "metadata": {
    "slideshow": {
     "slide_type": "slide"
    }
   },
   "source": [
    "### Exercise 6\n",
    "\n",
    "#### Sign the PSBT that you got.\n",
    "\n"
   ]
  },
  {
   "cell_type": "code",
   "execution_count": null,
   "metadata": {},
   "outputs": [],
   "source": [
    "# Exercise 6\n",
    "\n",
    "from helper import read_varstr\n",
    "from hd import HDPrivateKey\n",
    "from io import BytesIO\n",
    "from psbt import PSBT, PSBTIn, PSBTOut, NamedHDPublicKey\n",
    "from tx import Tx\n",
    "mnemonic = 'abandon abandon abandon abandon abandon abandon abandon abandon abandon abandon abandon about'\n",
    "passphrase = b'jimmy@programmingblockchain.com Jimmy Song 2'\n",
    "hd_priv = HDPrivateKey.from_mnemonic(mnemonic, passphrase, testnet=True)\n",
    "hex_psbt = '70736274ff010052010000000187a22bb77a836c0a3bbb62e1e04950cffdf6a45489a8d7801b24b18c124d84850000000000ffffffff01583e0f00000000001600146e13971913b9aa89659a9f53d327baa8826f2d7500000000000100e20100000000010154eec2c506b426d06cbb3f8dd9ee0694140e6309609fcb0924c2aeac6559c2a60100000000ffffffff0240420f00000000001976a914f0cd79383f13584bdeca184cecd16135b8a79fc288ac784eba01000000001600146e13971913b9aa89659a9f53d327baa8826f2d750248304502210085a3ede2ba3069ee972cd6d6ea03598c146e8ad4100b1377ae97c454f76ed0d8022040d7c9379a7ed8b4f3fd382ca65877e805e47be9f08d20388f3a1c2e3d90c41e0121031dbe3aff7b9ad64e2612b8b15e9f5e4a3130663a526df91abfb7b1bd16de5d6e0000000022060247aed77c3def4b8ce74a8db08d7f5fd315f8d96b6cd801729a910c3045d750f218797dcdac2c000080010000800000008000000000000000000000'\n",
    "psbt_obj = PSBT.parse(BytesIO(bytes.fromhex(hex_psbt)))\n",
    "psbt_obj.tx_obj.testnet = True\n",
    "# use the HDPrivateKey to sign the PSBT\n",
    "psbt_obj.sign(hd_priv)\n",
    "# print the serialized hex to see what it looks like\n",
    "print(psbt_obj.serialize().hex())"
   ]
  },
  {
   "cell_type": "markdown",
   "metadata": {
    "slideshow": {
     "slide_type": "slide"
    }
   },
   "source": [
    "### Exercise 7\n",
    "\n",
    "\n",
    "\n",
    "\n",
    "#### Make [this test](/edit/session4/psbt.py) pass: `psbt.py:PSBTTest:test_finalize_p2pkh`"
   ]
  },
  {
   "cell_type": "code",
   "execution_count": null,
   "metadata": {
    "slideshow": {
     "slide_type": "slide"
    }
   },
   "outputs": [],
   "source": [
    "# Exercise 7\n",
    "\n",
    "reload(psbt)\n",
    "run(psbt.PSBTTest('test_finalize_p2pkh'))"
   ]
  },
  {
   "cell_type": "markdown",
   "metadata": {
    "slideshow": {
     "slide_type": "slide"
    }
   },
   "source": [
    "### Exercise 8\n",
    "\n",
    "\n",
    "\n",
    "\n",
    "#### Make [this test](/edit/session4/psbt.py) pass: `psbt.py:PSBTTest:test_final_tx`"
   ]
  },
  {
   "cell_type": "code",
   "execution_count": null,
   "metadata": {
    "slideshow": {
     "slide_type": "slide"
    }
   },
   "outputs": [],
   "source": [
    "# Exercise 8\n",
    "\n",
    "reload(psbt)\n",
    "run(psbt.PSBTTest('test_final_tx'))"
   ]
  },
  {
   "cell_type": "markdown",
   "metadata": {
    "slideshow": {
     "slide_type": "slide"
    }
   },
   "source": [
    "### Exercise 9\n",
    "\n",
    "#### Finalize, Extract and Broadcast the PSBT that you got.\n",
    "\n"
   ]
  },
  {
   "cell_type": "code",
   "execution_count": null,
   "metadata": {},
   "outputs": [],
   "source": [
    "# Exercise 9\n",
    "\n",
    "from psbt import PSBT\n",
    "hex_psbt = '70736274ff010052010000000187a22bb77a836c0a3bbb62e1e04950cffdf6a45489a8d7801b24b18c124d84850000000000ffffffff01583e0f00000000001600146e13971913b9aa89659a9f53d327baa8826f2d7500000000000100e20100000000010154eec2c506b426d06cbb3f8dd9ee0694140e6309609fcb0924c2aeac6559c2a60100000000ffffffff0240420f00000000001976a914f0cd79383f13584bdeca184cecd16135b8a79fc288ac784eba01000000001600146e13971913b9aa89659a9f53d327baa8826f2d750248304502210085a3ede2ba3069ee972cd6d6ea03598c146e8ad4100b1377ae97c454f76ed0d8022040d7c9379a7ed8b4f3fd382ca65877e805e47be9f08d20388f3a1c2e3d90c41e0121031dbe3aff7b9ad64e2612b8b15e9f5e4a3130663a526df91abfb7b1bd16de5d6e0000000022020247aed77c3def4b8ce74a8db08d7f5fd315f8d96b6cd801729a910c3045d750f24830450221008d9cbe9ab11a0cc29ace2d85c846e67c428268d9232975e53d88d32bebd7e77c0220043b5496fe4b9f1891117554d3789574bc94737aba0a5485b93b9bf82d2030ad0122060247aed77c3def4b8ce74a8db08d7f5fd315f8d96b6cd801729a910c3045d750f218797dcdac2c000080010000800000008000000000000000000000'\n",
    "psbt_obj = PSBT.parse(BytesIO(bytes.fromhex(hex_psbt)))\n",
    "psbt_obj.tx_obj.testnet = True\n",
    "# finalize the PSBT\n",
    "psbt_obj.finalize()\n",
    "# extract the transaction using final_tx\n",
    "tx_obj = psbt_obj.final_tx()\n",
    "# breadcast the transaction\n",
    "print(tx_obj.serialize().hex())"
   ]
  },
  {
   "cell_type": "code",
   "execution_count": null,
   "metadata": {
    "slideshow": {
     "slide_type": "slide"
    }
   },
   "outputs": [],
   "source": [
    "# example of updating\n",
    "from helper import serialize_binary_path, encode_varstr\n",
    "from io import BytesIO\n",
    "from psbt import PSBT\n",
    "from script import RedeemScript\n",
    "hex_psbt = '70736274ff01007501000000015c59ecb919792ecc26e031e9f4a6d4d74afce7b17dfe039002ef82b1f30bb63e0000000000ffffffff0220a10700000000001976a91426d5d464d148454c76f7095fdf03afc8bc8d82c388ac2c9f07000000000017a91481a19f39772bd741501e851e97ddd6a7f1ec194b870000000000000000'\n",
    "hex_redeem_scripts = ['47522102c1b6ac6e6a625fee295dc2d580f80aae08b7e76eca54ae88a854e956095af77c210247aed77c3def4b8ce74a8db08d7f5fd315f8d96b6cd801729a910c3045d750f252ae', '47522102db8b701c3210e1bf6f2a8a9a657acad18be1e8bff3f7435d48f973de8408f29021026421c7673552fdad57193e102df96134be00649195b213fec9d07c6d918f418d52ae']\n",
    "psbt_obj = PSBT.parse(BytesIO(bytes.fromhex(hex_psbt)))\n",
    "psbt_obj.tx_obj.testnet = True\n",
    "tx_lookup = psbt_obj.tx_obj.get_input_tx_lookup()\n",
    "key_1 = bytes.fromhex('02043587cf034d513c1580000000fb406c9fec09b6957a3449d2102318717b0c0d230b657d0ebc6698abd52145eb02eaf3397fea02c5dac747888a9e535eaf3c7e7cb9d5f2da77ddbdd943592a14af')\n",
    "key_2 = bytes.fromhex('02043587cf0398242fbc80000000959cb81379545d7a34287f41485a3c08fc6ecf66cb89caff8a4f618b484d6e7d0362f19f492715b6041723d97403f166da0e3246eb614d80635c036a8d2f753393')\n",
    "stream_1 = BytesIO(encode_varstr(bytes.fromhex('fbfef36f') + serialize_binary_path(\"m/44'/1'/0'\")))\n",
    "stream_2 = BytesIO(encode_varstr(bytes.fromhex('797dcdac') + serialize_binary_path(\"m/44'/1'/0'\")))\n",
    "hd_1 = NamedHDPublicKey.parse(key_1, stream_1)\n",
    "hd_2 = NamedHDPublicKey.parse(key_2, stream_2)\n",
    "pubkey_lookup = {**hd_1.bip44_lookup(), **hd_2.bip44_lookup()}\n",
    "redeem_lookup = {}\n",
    "for hex_redeem_script in hex_redeem_scripts:\n",
    "    redeem_script = RedeemScript.parse(BytesIO(bytes.fromhex(hex_redeem_script)))\n",
    "    redeem_lookup[redeem_script.hash160()] = redeem_script\n",
    "psbt_obj.update(tx_lookup, pubkey_lookup, redeem_lookup)\n",
    "print(psbt_obj.serialize().hex())"
   ]
  },
  {
   "cell_type": "markdown",
   "metadata": {
    "slideshow": {
     "slide_type": "slide"
    }
   },
   "source": [
    "### Exercise 10\n",
    "\n",
    "\n",
    "\n",
    "\n",
    "#### Make [this test](/edit/session4/psbt.py) pass: `psbt.py:PSBTTest:test_update_p2sh`"
   ]
  },
  {
   "cell_type": "code",
   "execution_count": null,
   "metadata": {
    "slideshow": {
     "slide_type": "slide"
    }
   },
   "outputs": [],
   "source": [
    "# Exercise 10\n",
    "\n",
    "reload(psbt)\n",
    "run(psbt.PSBTTest('test_update_p2sh'))"
   ]
  },
  {
   "cell_type": "markdown",
   "metadata": {
    "slideshow": {
     "slide_type": "slide"
    }
   },
   "source": [
    "### Exercise 11\n",
    "\n",
    "#### Update the transaction that's been given to you\n",
    "\n"
   ]
  },
  {
   "cell_type": "code",
   "execution_count": null,
   "metadata": {},
   "outputs": [],
   "source": [
    "# Exercise 11\n",
    "\n",
    "from helper import serialize_binary_path, encode_varstr\n",
    "from io import BytesIO\n",
    "from psbt import NamedHDPublicKey, PSBT\n",
    "from script import RedeemScript\n",
    "hex_psbt = '70736274ff0100530100000001e8be6d62ba1983b5d1c65406f87f7d73c2d7200d4075cf52589c53579870542b0000000000ffffffff01583e0f000000000017a91481a19f39772bd741501e851e97ddd6a7f1ec194b87000000004f01043587cf034d513c1580000000fb406c9fec09b6957a3449d2102318717b0c0d230b657d0ebc6698abd52145eb02eaf3397fea02c5dac747888a9e535eaf3c7e7cb9d5f2da77ddbdd943592a14af10fbfef36f2c0000800100008000000080000000'\n",
    "hex_redeem_scripts = ['47522102c1b6ac6e6a625fee295dc2d580f80aae08b7e76eca54ae88a854e956095af77c210247aed77c3def4b8ce74a8db08d7f5fd315f8d96b6cd801729a910c3045d750f252ae', '47522102db8b701c3210e1bf6f2a8a9a657acad18be1e8bff3f7435d48f973de8408f29021026421c7673552fdad57193e102df96134be00649195b213fec9d07c6d918f418d52ae']\n",
    "psbt_obj = PSBT.parse(BytesIO(bytes.fromhex(hex_psbt)))\n",
    "psbt_obj.tx_obj.testnet = True\n",
    "mnemonic = 'abandon abandon abandon abandon abandon abandon abandon abandon abandon abandon abandon about'\n",
    "passphrase = b'jimmy@programmingblockchain.com Jimmy Song 2'\n",
    "path = \"m/44'/1'/0'\"\n",
    "hd_priv = HDPrivateKey.from_mnemonic(mnemonic, passphrase, testnet=True)\n",
    "# get the tx lookup using get_input_tx_lookup\n",
    "tx_lookup = psbt_obj.tx_obj.get_input_tx_lookup()\n",
    "hd_1 = list(psbt_obj.hd_pubs.values())[0]\n",
    "hd_2 = NamedHDPublicKey.from_hd_priv(hd_priv, path)\n",
    "pubkey_lookup = {**hd_1.bip44_lookup(), **hd_2.bip44_lookup()}\n",
    "redeem_lookup = {}\n",
    "for hex_redeem_script in hex_redeem_scripts:\n",
    "    redeem_script = RedeemScript.parse(BytesIO(bytes.fromhex(hex_redeem_script)))\n",
    "    redeem_lookup[redeem_script.hash160()] = redeem_script\n",
    "psbt_obj.update(tx_lookup, pubkey_lookup, redeem_lookup)\n",
    "print(psbt_obj.serialize().hex())"
   ]
  },
  {
   "cell_type": "markdown",
   "metadata": {
    "slideshow": {
     "slide_type": "slide"
    }
   },
   "source": [
    "### Exercise 12\n",
    "\n",
    "#### Sign the transaction with your HD private key\n",
    "\n"
   ]
  },
  {
   "cell_type": "code",
   "execution_count": null,
   "metadata": {},
   "outputs": [],
   "source": [
    "# Exercise 12\n",
    "\n",
    "from helper import serialize_binary_path, encode_varstr\n",
    "from io import BytesIO\n",
    "from psbt import NamedHDPublicKey, PSBT\n",
    "hex_psbt = '70736274ff0100530100000001e8be6d62ba1983b5d1c65406f87f7d73c2d7200d4075cf52589c53579870542b0000000000ffffffff01583e0f000000000017a91481a19f39772bd741501e851e97ddd6a7f1ec194b87000000004f01043587cf034d513c1580000000fb406c9fec09b6957a3449d2102318717b0c0d230b657d0ebc6698abd52145eb02eaf3397fea02c5dac747888a9e535eaf3c7e7cb9d5f2da77ddbdd943592a14af10fbfef36f2c0000800100008000000080000100fd01010100000000010187a22bb77a836c0a3bbb62e1e04950cffdf6a45489a8d7801b24b18c124d84850100000000ffffffff0340420f000000000017a914c5bea2bad6a3171dff5fad0b99d2e60fca1d8bee8740420f00000000001976a914f0cd79383f13584bdeca184cecd16135b8a79fc288ac10c69b01000000001600146e13971913b9aa89659a9f53d327baa8826f2d750247304402204edcdf923bdddad9b77b17ae0c65817f032b7cb6efd95c0c4101fa48aba17e4e02202158c3a077a0ee0a7bc7e2763a9356470ae3aa4866ae4e62a6f8faa2729b02da0121031dbe3aff7b9ad64e2612b8b15e9f5e4a3130663a526df91abfb7b1bd16de5d6e00000000220202c1b6ac6e6a625fee295dc2d580f80aae08b7e76eca54ae88a854e956095af77c47304402207360ee58276e8135ae1efdf1bbd7b3d87d1c7f072f3141cfe8afa78f3e36cdf7022059462d2e4598e3b441fa2503eb73b6d6b644838d3c9af547f09760b0655ce93801010447522102c1b6ac6e6a625fee295dc2d580f80aae08b7e76eca54ae88a854e956095af77c210247aed77c3def4b8ce74a8db08d7f5fd315f8d96b6cd801729a910c3045d750f252ae22060247aed77c3def4b8ce74a8db08d7f5fd315f8d96b6cd801729a910c3045d750f218797dcdac2c00008001000080000000800000000000000000220602c1b6ac6e6a625fee295dc2d580f80aae08b7e76eca54ae88a854e956095af77c18fbfef36f2c0000800100008000000080000000000000000000010047522102db8b701c3210e1bf6f2a8a9a657acad18be1e8bff3f7435d48f973de8408f29021026421c7673552fdad57193e102df96134be00649195b213fec9d07c6d918f418d52ae2202026421c7673552fdad57193e102df96134be00649195b213fec9d07c6d918f418d18797dcdac2c00008001000080000000800100000000000000220202db8b701c3210e1bf6f2a8a9a657acad18be1e8bff3f7435d48f973de8408f29018fbfef36f2c0000800100008000000080010000000000000000'\n",
    "psbt_obj = PSBT.parse(BytesIO(bytes.fromhex(hex_psbt)))\n",
    "psbt_obj.tx_obj.testnet = True\n",
    "mnemonic = 'abandon abandon abandon abandon abandon abandon abandon abandon abandon abandon abandon about'\n",
    "passphrase = b'jimmy@programmingblockchain.com Jimmy Song 2'\n",
    "# get the private key using the mnemonic, passphrase and testnet=True\n",
    "hd_priv = HDPrivateKey.from_mnemonic(mnemonic, passphrase, testnet=True)\n",
    "# sign the psbt\n",
    "print(psbt_obj.sign(hd_priv))\n",
    "# print the serialized hex of the PSBT to see what it looks like\n",
    "print(psbt_obj.serialize().hex())"
   ]
  },
  {
   "cell_type": "markdown",
   "metadata": {
    "slideshow": {
     "slide_type": "slide"
    }
   },
   "source": [
    "### Exercise 13\n",
    "\n",
    "\n",
    "\n",
    "\n",
    "#### Make [this test](/edit/session4/psbt.py) pass: `psbt.py:PSBTTest:test_finalize_p2sh`"
   ]
  },
  {
   "cell_type": "code",
   "execution_count": null,
   "metadata": {
    "slideshow": {
     "slide_type": "slide"
    }
   },
   "outputs": [],
   "source": [
    "# Exercise 13\n",
    "\n",
    "reload(psbt)\n",
    "run(psbt.PSBTTest('test_finalize_p2sh'))"
   ]
  },
  {
   "cell_type": "markdown",
   "metadata": {
    "slideshow": {
     "slide_type": "slide"
    }
   },
   "source": [
    "### Exercise 14\n",
    "\n",
    "#### Finalize, extract and broadcast the PSBT\n",
    "\n"
   ]
  },
  {
   "cell_type": "code",
   "execution_count": null,
   "metadata": {},
   "outputs": [],
   "source": [
    "# Exercise 14\n",
    "\n",
    "from io import BytesIO\n",
    "from psbt import NamedHDPublicKey, PSBT\n",
    "hex_psbt = '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'\n",
    "psbt_obj = PSBT.parse(BytesIO(bytes.fromhex(hex_psbt)))\n",
    "psbt_obj.tx_obj.testnet = True\n",
    "# finalize\n",
    "psbt_obj.finalize()\n",
    "# get the final Tx\n",
    "final_tx = psbt_obj.final_tx()\n",
    "# print the tx serialized hex to see what it looks like\n",
    "print(final_tx.serialize().hex())"
   ]
  },
  {
   "cell_type": "markdown",
   "metadata": {
    "slideshow": {
     "slide_type": "slide"
    }
   },
   "source": [
    "### Exercise 15\n",
    "\n",
    "\n",
    "\n",
    "\n",
    "#### Make [this test](/edit/session4/psbt.py) pass: `psbt.py:PSBTTest:test_combine`"
   ]
  },
  {
   "cell_type": "code",
   "execution_count": null,
   "metadata": {
    "slideshow": {
     "slide_type": "slide"
    }
   },
   "outputs": [],
   "source": [
    "# Exercise 15\n",
    "\n",
    "reload(psbt)\n",
    "run(psbt.PSBTTest('test_combine'))"
   ]
  },
  {
   "cell_type": "markdown",
   "metadata": {
    "slideshow": {
     "slide_type": "slide"
    }
   },
   "source": [
    "### Exercise 16\n",
    "\n",
    "#### Combine and finalize the transaction\n",
    "\n"
   ]
  },
  {
   "cell_type": "code",
   "execution_count": null,
   "metadata": {},
   "outputs": [],
   "source": [
    "# Exercise 16\n",
    "\n",
    "from hd import HDPrivateKey\n",
    "from io import BytesIO\n",
    "from psbt import NamedHDPublicKey, PSBT\n",
    "hex_psbt_1 = '70736274ff01005301000000016f0a34017a8777b9b68178ef19553cb35ee8f8087fc1513d4e78f1d7908428ff0100000000ffffffff01583e0f000000000017a91481a19f39772bd741501e851e97ddd6a7f1ec194b8700000000000100fd2201010000000001011c6bbc28989a0be9b7bf9f3790a7a4f39b77ac5c4e4084672e31c48699a8f7be0300000000ffffffff0440420f000000000017a914c5bea2bad6a3171dff5fad0b99d2e60fca1d8bee8740420f000000000017a9148fb8b8f8f1d5d9292ebeb765622a50e5eee5e1068740420f00000000001976a914f0cd79383f13584bdeca184cecd16135b8a79fc288acc0304001000000001600146e13971913b9aa89659a9f53d327baa8826f2d7502483045022100a9968c79bdf4d18534995614864109646f0525dba7f557bc840dcadc4ac9fd07022075167f8cbbade9722b08ab4ccf297acf8ce4d47d1f2c61eadc21f453d274fd7e0121031dbe3aff7b9ad64e2612b8b15e9f5e4a3130663a526df91abfb7b1bd16de5d6e00000000220202c1b6ac6e6a625fee295dc2d580f80aae08b7e76eca54ae88a854e956095af77c473044022048654296cf5dd26306757f6df7a86dad698eacff246045e34ab5b5ea448fa456022008d7cf3fe54c8b56128622384bffc43b4cdee714e23c9d7e25bb5afcd0667a5f01010469532102c1b6ac6e6a625fee295dc2d580f80aae08b7e76eca54ae88a854e956095af77c21031b31547c895b5e301206740ea9890a0d6d127baeebb7fffb07356527323c915b210247aed77c3def4b8ce74a8db08d7f5fd315f8d96b6cd801729a910c3045d750f253ae220602c1b6ac6e6a625fee295dc2d580f80aae08b7e76eca54ae88a854e956095af77c18fbfef36f2c000080010000800000008000000000000000002206031b31547c895b5e301206740ea9890a0d6d127baeebb7fffb07356527323c915b18fbfef36f2c000080010000800000008000000000010000000000'\n",
    "hex_psbt_2 = '70736274ff01005301000000016f0a34017a8777b9b68178ef19553cb35ee8f8087fc1513d4e78f1d7908428ff0100000000ffffffff01583e0f000000000017a91481a19f39772bd741501e851e97ddd6a7f1ec194b8700000000000100fd2201010000000001011c6bbc28989a0be9b7bf9f3790a7a4f39b77ac5c4e4084672e31c48699a8f7be0300000000ffffffff0440420f000000000017a914c5bea2bad6a3171dff5fad0b99d2e60fca1d8bee8740420f000000000017a9148fb8b8f8f1d5d9292ebeb765622a50e5eee5e1068740420f00000000001976a914f0cd79383f13584bdeca184cecd16135b8a79fc288acc0304001000000001600146e13971913b9aa89659a9f53d327baa8826f2d7502483045022100a9968c79bdf4d18534995614864109646f0525dba7f557bc840dcadc4ac9fd07022075167f8cbbade9722b08ab4ccf297acf8ce4d47d1f2c61eadc21f453d274fd7e0121031dbe3aff7b9ad64e2612b8b15e9f5e4a3130663a526df91abfb7b1bd16de5d6e000000002202031b31547c895b5e301206740ea9890a0d6d127baeebb7fffb07356527323c915b483045022100e91ed50b397f4f252ea358905e245e9c78758c54aeebbbff903003f442c13413022018d467d17b2880699c3dcd30b26ce80ce9be503454731c0e919701ad4031b90201010469532102c1b6ac6e6a625fee295dc2d580f80aae08b7e76eca54ae88a854e956095af77c21031b31547c895b5e301206740ea9890a0d6d127baeebb7fffb07356527323c915b210247aed77c3def4b8ce74a8db08d7f5fd315f8d96b6cd801729a910c3045d750f253ae220602c1b6ac6e6a625fee295dc2d580f80aae08b7e76eca54ae88a854e956095af77c18fbfef36f2c000080010000800000008000000000000000002206031b31547c895b5e301206740ea9890a0d6d127baeebb7fffb07356527323c915b18fbfef36f2c000080010000800000008000000000010000000000'\n",
    "psbt_obj_1 = PSBT.parse(BytesIO(bytes.fromhex(hex_psbt_1)))\n",
    "psbt_obj_1.tx_obj.testnet = True\n",
    "psbt_obj_2 = PSBT.parse(BytesIO(bytes.fromhex(hex_psbt_2)))\n",
    "psbt_obj_2.tx_obj.testnet = True\n",
    "mnemonic = 'abandon abandon abandon abandon abandon abandon abandon abandon abandon abandon abandon about'\n",
    "passphrase = b'jimmy@programmingblockchain.com Jimmy Song 2'\n",
    "path = \"m/44'/1'/0'\"\n",
    "# get the private key using the mnemonic, passphrase and testnet=True\n",
    "hd_priv = HDPrivateKey.from_mnemonic(mnemonic, passphrase, testnet=True)\n",
    "# create the NamedHDPublicKey using the HDPrivateKey and path\n",
    "named_hd = NamedHDPublicKey.from_hd_priv(hd_priv, path)\n",
    "# combine the two objects\n",
    "psbt_obj_1.combine(psbt_obj_2)\n",
    "# grab the pubkey lookup using bip44_lookup\n",
    "pubkey_lookup = named_hd.bip44_lookup()\n",
    "# update the PSBT\n",
    "psbt_obj_1.update({}, pubkey_lookup)\n",
    "# sign the psbt\n",
    "print(psbt_obj_1.sign(hd_priv))\n",
    "# finalize the transaction\n",
    "psbt_obj_1.finalize()\n",
    "# get the final Tx\n",
    "final_tx = psbt_obj_1.final_tx()\n",
    "# print the tx serialized hex to see what it looks like\n",
    "print(final_tx.serialize().hex())"
   ]
  }
 ],
 "metadata": {},
 "nbformat": 4,
 "nbformat_minor": 2
}
