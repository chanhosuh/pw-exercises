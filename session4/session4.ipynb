{
 "cells": [
  {
   "cell_type": "code",
   "execution_count": null,
   "metadata": {
    "slideshow": {
     "slide_type": "slide"
    }
   },
   "outputs": [],
   "source": [
    "############## PLEASE RUN THIS CELL FIRST! ###################\n",
    "\n",
    "# import everything and define a test runner function\n",
    "from importlib import reload\n",
    "from helper import run\n",
    "import psbt, script, tx"
   ]
  },
  {
   "cell_type": "code",
   "execution_count": null,
   "metadata": {
    "slideshow": {
     "slide_type": "slide"
    }
   },
   "outputs": [],
   "source": [
    "# example creating a PSBT\n",
    "from io import BytesIO\n",
    "from psbt import PSBT, PSBTIn, PSBTOut\n",
    "from script import Script\n",
    "from tx import Tx\n",
    "from witness import Witness\n",
    "hex_tx = '0100000001af70eeccc0098dc1b5c319bbb24fad1e7539ff59f58ddd9ff03b54a0e47c54f70000000000ffffffff014c400f00000000001976a91426d5d464d148454c76f7095fdf03afc8bc8d82c388ac00000000'\n",
    "tx_obj = Tx.parse(BytesIO(bytes.fromhex(hex_tx)), testnet=True)\n",
    "psbt_ins = []\n",
    "for tx_in in tx_obj.tx_ins:\n",
    "    if tx_in.script_sig.commands:\n",
    "        script_sig = tx_in.script_sig\n",
    "        tx_in.script_sig = Script()\n",
    "    else:\n",
    "        script_sig = None\n",
    "    psbt_in = PSBTIn(tx_in, script_sig=script_sig)\n",
    "    psbt_ins.append(psbt_in)\n",
    "psbt_outs = []\n",
    "for tx_out in tx_obj.tx_outs:\n",
    "    psbt_out = PSBTOut(tx_out)\n",
    "    psbt_outs.append(psbt_out)\n",
    "psbt_obj = PSBT(tx_obj, psbt_ins, psbt_outs)\n",
    "print(psbt_obj.serialize().hex())"
   ]
  },
  {
   "cell_type": "markdown",
   "metadata": {
    "slideshow": {
     "slide_type": "slide"
    }
   },
   "source": [
    "### Exercise 1\n",
    "\n",
    "\n",
    "\n",
    "\n",
    "#### Make [this test](/edit/session4/psbt.py) pass: `psbt.py:PSBTTest:test_create`"
   ]
  },
  {
   "cell_type": "code",
   "execution_count": null,
   "metadata": {
    "slideshow": {
     "slide_type": "slide"
    }
   },
   "outputs": [],
   "source": [
    "# Exercise 1\n",
    "\n",
    "reload(psbt)\n",
    "run(psbt.PSBTTest('test_create'))"
   ]
  },
  {
   "cell_type": "markdown",
   "metadata": {
    "slideshow": {
     "slide_type": "slide"
    }
   },
   "source": [
    "### Exercise 2\n",
    "\n",
    "#### Create a PSBT from the transaction you've been sent\n"
   ]
  },
  {
   "cell_type": "code",
   "execution_count": null,
   "metadata": {},
   "outputs": [],
   "source": [
    "# Exercise 2\n",
    "\n",
    "from io import BytesIO\n",
    "from psbt import PSBT\n",
    "from tx import Tx\n",
    "hex_tx = '<fill this in>'\n",
    "# convert the hex transaction to a tx object\n",
    "\n",
    "# if you completed the previous exercise, use the create method\n",
    "\n",
    "# serialize, turn to hex and print it to see what it looks like\n"
   ]
  },
  {
   "cell_type": "code",
   "execution_count": null,
   "metadata": {
    "slideshow": {
     "slide_type": "slide"
    }
   },
   "outputs": [],
   "source": [
    "# example for updating the PSBT\n",
    "from helper import read_varstr\n",
    "from io import BytesIO\n",
    "from psbt import PSBT, PSBTIn, PSBTOut, NamedHDPublicKey\n",
    "from tx import Tx\n",
    "hex_named_hd = '4f01043587cf034d513c1580000000fb406c9fec09b6957a3449d2102318717b0c0d230b657d0ebc6698abd52145eb02eaf3397fea02c5dac747888a9e535eaf3c7e7cb9d5f2da77ddbdd943592a14af10fbfef36f2c0000800100008000000080'\n",
    "stream = BytesIO(bytes.fromhex(hex_named_hd))\n",
    "key = read_varstr(stream)\n",
    "named_hd = NamedHDPublicKey.parse(key, stream)\n",
    "hex_psbt = '70736274ff0100770100000001192f88eeabc44ac213604adbb5b699678815d24b718b5940f5b1b1853f0887480100000000ffffffff0220a10700000000001976a91426d5d464d148454c76f7095fdf03afc8bc8d82c388ac2c9f0700000000001976a9144df14c8c8873451290c53e95ebd1ee8fe488f0ed88ac0000000000000000'\n",
    "psbt_obj = PSBT.parse(BytesIO(bytes.fromhex(hex_psbt)))\n",
    "psbt_obj.tx_obj.testnet = True\n",
    "tx_lookup = psbt_obj.tx_obj.get_input_tx_lookup()\n",
    "pubkey_lookup = named_hd.bip44_lookup()\n",
    "psbt_obj.update(tx_lookup, pubkey_lookup)\n",
    "print(psbt_obj.serialize().hex())"
   ]
  },
  {
   "cell_type": "markdown",
   "metadata": {
    "slideshow": {
     "slide_type": "slide"
    }
   },
   "source": [
    "### Exercise 3\n",
    "\n",
    "\n",
    "\n",
    "\n",
    "#### Make [this test](/edit/session4/psbt.py) pass: `psbt.py:PSBTTest:test_update_p2pkh`"
   ]
  },
  {
   "cell_type": "code",
   "execution_count": null,
   "metadata": {
    "slideshow": {
     "slide_type": "slide"
    }
   },
   "outputs": [],
   "source": [
    "# Exercise 3\n",
    "\n",
    "reload(psbt)\n",
    "run(psbt.PSBTTest('test_update_p2pkh'))"
   ]
  },
  {
   "cell_type": "markdown",
   "metadata": {
    "slideshow": {
     "slide_type": "slide"
    }
   },
   "source": [
    "### Exercise 4\n",
    "\n",
    "#### Update the PSBT that you got.\n",
    "\n"
   ]
  },
  {
   "cell_type": "code",
   "execution_count": null,
   "metadata": {},
   "outputs": [],
   "source": [
    "# Exercise 4\n",
    "\n",
    "from helper import read_varstr\n",
    "from hd import HDPrivateKey\n",
    "from io import BytesIO\n",
    "from psbt import PSBT, PSBTIn, PSBTOut, NamedHDPublicKey\n",
    "from tx import Tx\n",
    "mnemonic = 'abandon abandon abandon abandon abandon abandon abandon abandon abandon abandon abandon about'\n",
    "passphrase = b'<fill this in>'\n",
    "path = \"m/44'/1'/0'\"\n",
    "hd_priv = HDPrivateKey.from_mnemonic(mnemonic, passphrase, testnet=True)\n",
    "hex_psbt = '<fill this in>'\n",
    "psbt_obj = PSBT.parse(BytesIO(bytes.fromhex(hex_psbt)))\n",
    "psbt_obj.tx_obj.testnet = True\n",
    "# create the NamedHDPublicKey using the HDPrivateKey and path\n",
    "\n",
    "# get the tx lookup using the psbt_obj's tx_object's get_input_tx_lookup method\n",
    "\n",
    "# get the pubkey lookup using the bip44_lookup method\n",
    "\n",
    "# update the psbt object with the transaction lookup and the pubkey lookup\n",
    "\n",
    "# print the serialized hex to see what it looks like\n"
   ]
  },
  {
   "cell_type": "markdown",
   "metadata": {
    "slideshow": {
     "slide_type": "slide"
    }
   },
   "source": [
    "### Exercise 5\n",
    "\n",
    "\n",
    "\n",
    "\n",
    "#### Make [this test](/edit/session4/psbt.py) pass: `psbt.py:PSBTTest:test_sign_p2pkh`"
   ]
  },
  {
   "cell_type": "code",
   "execution_count": null,
   "metadata": {
    "slideshow": {
     "slide_type": "slide"
    }
   },
   "outputs": [],
   "source": [
    "# Exercise 5\n",
    "\n",
    "reload(psbt)\n",
    "run(psbt.PSBTTest('test_sign_p2pkh'))"
   ]
  },
  {
   "cell_type": "markdown",
   "metadata": {
    "slideshow": {
     "slide_type": "slide"
    }
   },
   "source": [
    "### Exercise 6\n",
    "\n",
    "#### Sign the PSBT that you got.\n",
    "\n"
   ]
  },
  {
   "cell_type": "code",
   "execution_count": null,
   "metadata": {},
   "outputs": [],
   "source": [
    "# Exercise 6\n",
    "\n",
    "from helper import read_varstr\n",
    "from hd import HDPrivateKey\n",
    "from io import BytesIO\n",
    "from psbt import PSBT, PSBTIn, PSBTOut, NamedHDPublicKey\n",
    "from tx import Tx\n",
    "mnemonic = 'abandon abandon abandon abandon abandon abandon abandon abandon abandon abandon abandon about'\n",
    "passphrase = b'<fill this in>'\n",
    "hd_priv = HDPrivateKey.from_mnemonic(mnemonic, passphrase, testnet=True)\n",
    "hex_psbt = '<fill this in>'\n",
    "psbt_obj = PSBT.parse(BytesIO(bytes.fromhex(hex_psbt)))\n",
    "psbt_obj.tx_obj.testnet = True\n",
    "# use the HDPrivateKey to sign the PSBT\n",
    "\n",
    "# print the serialized hex to see what it looks like\n"
   ]
  },
  {
   "cell_type": "markdown",
   "metadata": {
    "slideshow": {
     "slide_type": "slide"
    }
   },
   "source": [
    "### Exercise 7\n",
    "\n",
    "\n",
    "\n",
    "\n",
    "#### Make [this test](/edit/session4/psbt.py) pass: `psbt.py:PSBTTest:test_finalize_p2pkh`"
   ]
  },
  {
   "cell_type": "code",
   "execution_count": null,
   "metadata": {
    "slideshow": {
     "slide_type": "slide"
    }
   },
   "outputs": [],
   "source": [
    "# Exercise 7\n",
    "\n",
    "reload(psbt)\n",
    "run(psbt.PSBTTest('test_finalize_p2pkh'))"
   ]
  },
  {
   "cell_type": "markdown",
   "metadata": {
    "slideshow": {
     "slide_type": "slide"
    }
   },
   "source": [
    "### Exercise 8\n",
    "\n",
    "\n",
    "\n",
    "\n",
    "#### Make [this test](/edit/session4/psbt.py) pass: `psbt.py:PSBTTest:test_final_tx`"
   ]
  },
  {
   "cell_type": "code",
   "execution_count": null,
   "metadata": {
    "slideshow": {
     "slide_type": "slide"
    }
   },
   "outputs": [],
   "source": [
    "# Exercise 8\n",
    "\n",
    "reload(psbt)\n",
    "run(psbt.PSBTTest('test_final_tx'))"
   ]
  },
  {
   "cell_type": "markdown",
   "metadata": {
    "slideshow": {
     "slide_type": "slide"
    }
   },
   "source": [
    "### Exercise 9\n",
    "\n",
    "#### Finalize, Extract and Broadcast the PSBT that you got.\n",
    "\n"
   ]
  },
  {
   "cell_type": "code",
   "execution_count": null,
   "metadata": {},
   "outputs": [],
   "source": [
    "# Exercise 9\n",
    "\n",
    "from psbt import PSBT\n",
    "hex_psbt = '<fill this in>'\n",
    "psbt_obj = PSBT.parse(BytesIO(bytes.fromhex(hex_psbt)))\n",
    "psbt_obj.tx_obj.testnet = True\n",
    "# finalize the PSBT\n",
    "\n",
    "# extract the transaction using final_tx\n",
    "\n",
    "# breadcast the transaction\n"
   ]
  },
  {
   "cell_type": "code",
   "execution_count": null,
   "metadata": {
    "slideshow": {
     "slide_type": "slide"
    }
   },
   "outputs": [],
   "source": [
    "# example of updating\n",
    "from helper import serialize_binary_path, encode_varstr\n",
    "from io import BytesIO\n",
    "from psbt import PSBT\n",
    "from script import RedeemScript\n",
    "hex_psbt = '70736274ff01007501000000015c59ecb919792ecc26e031e9f4a6d4d74afce7b17dfe039002ef82b1f30bb63e0000000000ffffffff0220a10700000000001976a91426d5d464d148454c76f7095fdf03afc8bc8d82c388ac2c9f07000000000017a91481a19f39772bd741501e851e97ddd6a7f1ec194b870000000000000000'\n",
    "hex_redeem_scripts = ['47522102c1b6ac6e6a625fee295dc2d580f80aae08b7e76eca54ae88a854e956095af77c210247aed77c3def4b8ce74a8db08d7f5fd315f8d96b6cd801729a910c3045d750f252ae', '47522102db8b701c3210e1bf6f2a8a9a657acad18be1e8bff3f7435d48f973de8408f29021026421c7673552fdad57193e102df96134be00649195b213fec9d07c6d918f418d52ae']\n",
    "psbt_obj = PSBT.parse(BytesIO(bytes.fromhex(hex_psbt)))\n",
    "psbt_obj.tx_obj.testnet = True\n",
    "tx_lookup = psbt_obj.tx_obj.get_input_tx_lookup()\n",
    "key_1 = bytes.fromhex('02043587cf034d513c1580000000fb406c9fec09b6957a3449d2102318717b0c0d230b657d0ebc6698abd52145eb02eaf3397fea02c5dac747888a9e535eaf3c7e7cb9d5f2da77ddbdd943592a14af')\n",
    "key_2 = bytes.fromhex('02043587cf0398242fbc80000000959cb81379545d7a34287f41485a3c08fc6ecf66cb89caff8a4f618b484d6e7d0362f19f492715b6041723d97403f166da0e3246eb614d80635c036a8d2f753393')\n",
    "stream_1 = BytesIO(encode_varstr(bytes.fromhex('fbfef36f') + serialize_binary_path(\"m/44'/1'/0'\")))\n",
    "stream_2 = BytesIO(encode_varstr(bytes.fromhex('797dcdac') + serialize_binary_path(\"m/44'/1'/0'\")))\n",
    "hd_1 = NamedHDPublicKey.parse(key_1, stream_1)\n",
    "hd_2 = NamedHDPublicKey.parse(key_2, stream_2)\n",
    "pubkey_lookup = {**hd_1.bip44_lookup(), **hd_2.bip44_lookup()}\n",
    "redeem_lookup = {}\n",
    "for hex_redeem_script in hex_redeem_scripts:\n",
    "    redeem_script = RedeemScript.parse(BytesIO(bytes.fromhex(hex_redeem_script)))\n",
    "    redeem_lookup[redeem_script.hash160()] = redeem_script\n",
    "psbt_obj.update(tx_lookup, pubkey_lookup, redeem_lookup)\n",
    "print(psbt_obj.serialize().hex())"
   ]
  },
  {
   "cell_type": "markdown",
   "metadata": {
    "slideshow": {
     "slide_type": "slide"
    }
   },
   "source": [
    "### Exercise 10\n",
    "\n",
    "\n",
    "\n",
    "\n",
    "#### Make [this test](/edit/session4/psbt.py) pass: `psbt.py:PSBTTest:test_update_p2sh`"
   ]
  },
  {
   "cell_type": "code",
   "execution_count": null,
   "metadata": {
    "slideshow": {
     "slide_type": "slide"
    }
   },
   "outputs": [],
   "source": [
    "# Exercise 10\n",
    "\n",
    "reload(psbt)\n",
    "run(psbt.PSBTTest('test_update_p2sh'))"
   ]
  },
  {
   "cell_type": "markdown",
   "metadata": {
    "slideshow": {
     "slide_type": "slide"
    }
   },
   "source": [
    "### Exercise 11\n",
    "\n",
    "#### Update the transaction that's been given to you\n",
    "\n"
   ]
  },
  {
   "cell_type": "code",
   "execution_count": null,
   "metadata": {},
   "outputs": [],
   "source": [
    "# Exercise 11\n",
    "\n",
    "from helper import serialize_binary_path, encode_varstr\n",
    "from io import BytesIO\n",
    "from psbt import NamedHDPublicKey, PSBT\n",
    "from script import RedeemScript\n",
    "hex_psbt = '70736274ff0100530100000001e8be6d62ba1983b5d1c65406f87f7d73c2d7200d4075cf52589c53579870542b0000000000ffffffff01583e0f000000000017a91481a19f39772bd741501e851e97ddd6a7f1ec194b87000000004f01043587cf034d513c1580000000fb406c9fec09b6957a3449d2102318717b0c0d230b657d0ebc6698abd52145eb02eaf3397fea02c5dac747888a9e535eaf3c7e7cb9d5f2da77ddbdd943592a14af10fbfef36f2c0000800100008000000080000000'\n",
    "hex_redeem_scripts = ['47522102c1b6ac6e6a625fee295dc2d580f80aae08b7e76eca54ae88a854e956095af77c210247aed77c3def4b8ce74a8db08d7f5fd315f8d96b6cd801729a910c3045d750f252ae', '47522102db8b701c3210e1bf6f2a8a9a657acad18be1e8bff3f7435d48f973de8408f29021026421c7673552fdad57193e102df96134be00649195b213fec9d07c6d918f418d52ae']\n",
    "psbt_obj = PSBT.parse(BytesIO(bytes.fromhex(hex_psbt)))\n",
    "psbt_obj.tx_obj.testnet = True\n",
    "mnemonic = 'abandon abandon abandon abandon abandon abandon abandon abandon abandon abandon abandon about'\n",
    "passphrase = b'<fill this in>'\n",
    "path = \"m/44'/1'/0'\"\n",
    "hd_priv = HDPrivateKey.from_mnemonic(mnemonic, passphrase, testnet=True)\n",
    "# get the tx lookup using get_input_tx_lookup\n",
    "\n",
    "hd_1 = list(psbt_obj.hd_pubs.values())[0]\n",
    "hd_2 = NamedHDPublicKey.from_hd_priv(hd_priv, path)\n",
    "pubkey_lookup = {**hd_1.bip44_lookup(), **hd_2.bip44_lookup()}\n",
    "redeem_lookup = {}\n",
    "for hex_redeem_script in hex_redeem_scripts:\n",
    "    redeem_script = RedeemScript.parse(BytesIO(bytes.fromhex(hex_redeem_script)))\n",
    "    redeem_lookup[redeem_script.hash160()] = redeem_script\n",
    "psbt_obj.update(tx_lookup, pubkey_lookup, redeem_lookup)\n",
    "print(psbt_obj.serialize().hex())"
   ]
  },
  {
   "cell_type": "markdown",
   "metadata": {
    "slideshow": {
     "slide_type": "slide"
    }
   },
   "source": [
    "### Exercise 12\n",
    "\n",
    "#### Sign the transaction with your HD private key\n",
    "\n"
   ]
  },
  {
   "cell_type": "code",
   "execution_count": null,
   "metadata": {},
   "outputs": [],
   "source": [
    "# Exercise 12\n",
    "\n",
    "from helper import serialize_binary_path, encode_varstr\n",
    "from io import BytesIO\n",
    "from psbt import NamedHDPublicKey, PSBT\n",
    "hex_psbt = '<fill this in>'\n",
    "psbt_obj = PSBT.parse(BytesIO(bytes.fromhex(hex_psbt)))\n",
    "psbt_obj.tx_obj.testnet = True\n",
    "mnemonic = 'abandon abandon abandon abandon abandon abandon abandon abandon abandon abandon abandon about'\n",
    "passphrase = b'<fill this in>'\n",
    "# get the private key using the mnemonic, passphrase and testnet=True\n",
    "\n",
    "# sign the psbt\n",
    "\n",
    "# print the serialized hex of the PSBT to see what it looks like\n"
   ]
  },
  {
   "cell_type": "markdown",
   "metadata": {
    "slideshow": {
     "slide_type": "slide"
    }
   },
   "source": [
    "### Exercise 13\n",
    "\n",
    "\n",
    "\n",
    "\n",
    "#### Make [this test](/edit/session4/psbt.py) pass: `psbt.py:PSBTTest:test_finalize_p2sh`"
   ]
  },
  {
   "cell_type": "code",
   "execution_count": null,
   "metadata": {
    "slideshow": {
     "slide_type": "slide"
    }
   },
   "outputs": [],
   "source": [
    "# Exercise 13\n",
    "\n",
    "reload(psbt)\n",
    "run(psbt.PSBTTest('test_finalize_p2sh'))"
   ]
  },
  {
   "cell_type": "markdown",
   "metadata": {
    "slideshow": {
     "slide_type": "slide"
    }
   },
   "source": [
    "### Exercise 14\n",
    "\n",
    "#### Finalize, extract and broadcast the PSBT\n",
    "\n"
   ]
  },
  {
   "cell_type": "code",
   "execution_count": null,
   "metadata": {},
   "outputs": [],
   "source": [
    "# Exercise 14\n",
    "\n",
    "from io import BytesIO\n",
    "from psbt import NamedHDPublicKey, PSBT\n",
    "hex_psbt = '<fill this in>'\n",
    "psbt_obj = PSBT.parse(BytesIO(bytes.fromhex(hex_psbt)))\n",
    "psbt_obj.tx_obj.testnet = True\n",
    "# finalize\n",
    "\n",
    "# get the final Tx\n",
    "\n",
    "# print the tx serialized hex to see what it looks like\n"
   ]
  },
  {
   "cell_type": "markdown",
   "metadata": {
    "slideshow": {
     "slide_type": "slide"
    }
   },
   "source": [
    "### Exercise 15\n",
    "\n",
    "\n",
    "\n",
    "\n",
    "#### Make [this test](/edit/session4/psbt.py) pass: `psbt.py:PSBTTest:test_combine`"
   ]
  },
  {
   "cell_type": "code",
   "execution_count": null,
   "metadata": {
    "slideshow": {
     "slide_type": "slide"
    }
   },
   "outputs": [],
   "source": [
    "# Exercise 15\n",
    "\n",
    "reload(psbt)\n",
    "run(psbt.PSBTTest('test_combine'))"
   ]
  },
  {
   "cell_type": "markdown",
   "metadata": {
    "slideshow": {
     "slide_type": "slide"
    }
   },
   "source": [
    "### Exercise 16\n",
    "\n",
    "#### Combine and finalize the transaction\n",
    "\n"
   ]
  },
  {
   "cell_type": "code",
   "execution_count": null,
   "metadata": {},
   "outputs": [],
   "source": [
    "# Exercise 16\n",
    "\n",
    "from hd import HDPrivateKey\n",
    "from io import BytesIO\n",
    "from psbt import NamedHDPublicKey, PSBT\n",
    "hex_psbt_1 = '<fill this in>'\n",
    "hex_psbt_2 = '<fill this in>'\n",
    "psbt_obj_1 = PSBT.parse(BytesIO(bytes.fromhex(hex_psbt_1)))\n",
    "psbt_obj_1.tx_obj.testnet = True\n",
    "psbt_obj_2 = PSBT.parse(BytesIO(bytes.fromhex(hex_psbt_2)))\n",
    "psbt_obj_2.tx_obj.testnet = True\n",
    "mnemonic = 'abandon abandon abandon abandon abandon abandon abandon abandon abandon abandon abandon about'\n",
    "passphrase = b'<fill this in>'\n",
    "path = \"m/44'/1'/0'\"\n",
    "# get the private key using the mnemonic, passphrase and testnet=True\n",
    "\n",
    "# create the NamedHDPublicKey using the HDPrivateKey and path\n",
    "\n",
    "# combine the two objects\n",
    "\n",
    "# grab the pubkey lookup using bip44_lookup\n",
    "\n",
    "# update the PSBT\n",
    "\n",
    "# sign the psbt\n",
    "\n",
    "# finalize the transaction\n",
    "\n",
    "# get the final Tx\n",
    "\n",
    "# print the tx serialized hex to see what it looks like\n"
   ]
  }
 ],
 "metadata": {},
 "nbformat": 4,
 "nbformat_minor": 2
}
