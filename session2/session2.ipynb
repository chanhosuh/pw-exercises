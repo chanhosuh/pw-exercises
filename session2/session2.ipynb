{
 "cells": [
  {
   "cell_type": "code",
   "execution_count": 2,
   "metadata": {},
   "outputs": [],
   "source": [
    "############## PLEASE RUN THIS CELL FIRST! ###################\n",
    "\n",
    "# import everything and define a test runner function\n",
    "from importlib import reload\n",
    "from helper import run\n",
    "import ecc, tx"
   ]
  },
  {
   "cell_type": "markdown",
   "metadata": {},
   "source": [
    "### Exercise 1\n",
    "\n",
    "\n",
    "\n",
    "\n",
    "#### Make [this test](/edit/session2/tx.py) pass: `tx.py:TxTest:test_verify_p2wsh`"
   ]
  },
  {
   "cell_type": "code",
   "execution_count": null,
   "metadata": {},
   "outputs": [],
   "source": [
    "# Exercise 1\n",
    "\n",
    "reload(tx)\n",
    "run(tx.TxTest('test_verify_p2wsh'))"
   ]
  },
  {
   "cell_type": "code",
   "execution_count": null,
   "metadata": {},
   "outputs": [],
   "source": [
    "# example for creating a p2wsh bech32 address\n",
    "from ecc import S256Point\n",
    "from helper import encode_bech32_checksum, encode_varstr, sha256\n",
    "from script import Script\n",
    "sec1_hex = '0375e00eb72e29da82b89367947f29ef34afb75e8654f6ea368e0acdfd92976b7c'\n",
    "sec2_hex = '03a1b26313f430c4b15bb1fdce663207659d8cac749a0e53d70eff01874496feff'\n",
    "sec3_hex = '03c96d495bfdd5ba4145e3e046fee45e84a8a48ad05bd8dbb395c011a32cf9f880'\n",
    "sec1 = bytes.fromhex(sec1_hex)\n",
    "sec2 = bytes.fromhex(sec2_hex)\n",
    "sec3 = bytes.fromhex(sec3_hex)\n",
    "witness_script = Script([0x52, sec1, sec2, sec3, 0x53, 0xae])  # 2-of-3 multisig\n",
    "s256 = sha256(witness_script.raw_serialize())\n",
    "s = Script([0, s256])\n",
    "raw = s.raw_serialize()\n",
    "bech32 = encode_bech32_checksum(raw, testnet=False)\n",
    "print(bech32)"
   ]
  },
  {
   "cell_type": "markdown",
   "metadata": {},
   "source": [
    "### Exercise 2\n",
    "#### Create a testnet 2-of-2 multisig p2wsh bech32 address using your private key from the Session 0 and this SEC public key:\n",
    "`031dbe3aff7b9ad64e2612b8b15e9f5e4a3130663a526df91abfb7b1bd16de5d6e`\n",
    "\n",
    "Fill in the spreadsheet with the address.\n"
   ]
  },
  {
   "cell_type": "code",
   "execution_count": null,
   "metadata": {},
   "outputs": [],
   "source": [
    "# Exercise 2\n",
    "\n",
    "from ecc import PrivateKey\n",
    "from helper import encode_bech32_checksum, encode_varstr, hash256, little_endian_to_int, sha256\n",
    "from script import Script\n",
    "sec2 = bytes.fromhex('031dbe3aff7b9ad64e2612b8b15e9f5e4a3130663a526df91abfb7b1bd16de5d6e')\n",
    "# use the same passphrase from session 0\n",
    "passphrase = b'<fill this in>'\n",
    "secret = little_endian_to_int(hash256(passphrase))\n",
    "# create a private key using the secret\n",
    "\n",
    "# get the public key using the .point property\n",
    "\n",
    "# get the compressed SEC format of the point\n",
    "\n",
    "# create the WitnessScript 0x52 (OP_2), sec1, sec2, 0x52, 0xae (OP_CHECKMULTISIG)\n",
    "witness_script = Script([0x52, sec1, sec2, 0x52, 0xae])\n",
    "# get the sha256 of the raw serialization of the script\n",
    "s256 = sha256(witness_script.raw_serialize())\n",
    "# create another script of 0 (OP_0) and the hash\n",
    "s = Script([0, s256])\n",
    "# get the raw serialization of the second script you just made\n",
    "\n",
    "# encode to bech32 using encode_bech32_checksum, remember testnet=True\n",
    "\n",
    "# print the address\n"
   ]
  },
  {
   "cell_type": "markdown",
   "metadata": {},
   "source": [
    "### Exercise 3\n",
    "\n",
    "\n",
    "\n",
    "\n",
    "#### Make [this test](/edit/session2/script.py) pass: `script.py:ScriptTest:test_p2wsh_address`"
   ]
  },
  {
   "cell_type": "code",
   "execution_count": null,
   "metadata": {},
   "outputs": [],
   "source": [
    "# Exercise 3\n",
    "\n",
    "reload(script)\n",
    "run(script.ScriptTest('test_p2wsh_address'))"
   ]
  },
  {
   "cell_type": "code",
   "execution_count": null,
   "metadata": {},
   "outputs": [],
   "source": [
    "# Example for signing a p2wsh input\n",
    "from io import BytesIO\n",
    "from ecc import PrivateKey\n",
    "from helper import hash256, little_endian_to_int, SIGHASH_ALL\n",
    "from script import Script\n",
    "from tx import Tx\n",
    "private_key = PrivateKey(little_endian_to_int(hash256(b'jimmy@programmingblockchain.com Jimmy Song')))\n",
    "sec1 = private_key.point.sec()\n",
    "sec2 = bytes.fromhex('031dbe3aff7b9ad64e2612b8b15e9f5e4a3130663a526df91abfb7b1bd16de5d6e')\n",
    "raw_tx_hex = '01000000000101dc60d3cc9fbfbfeae68031ee987d674315e3ec6fa5a910d913d1d70cc24bf6a70000000000ffffffff014c400f0000000000160014092ab91b37b4182061d9c01199aaac029f89561f0000000000'\n",
    "input_index = 0\n",
    "stream = BytesIO(bytes.fromhex(raw_tx_hex))\n",
    "tx_obj = Tx.parse(stream, testnet=True)\n",
    "witness_script = Script([0x52, sec1, sec2, 0x52, 0xae])\n",
    "z = tx_obj.sig_hash_bip143(input_index, witness_script=witness_script)\n",
    "der = private_key.sign(z).der()\n",
    "sig = der + SIGHASH_ALL.to_bytes(1, 'big')\n",
    "print(sig.hex())"
   ]
  },
  {
   "cell_type": "markdown",
   "metadata": {},
   "source": [
    "### Exercise 4\n",
    "\n",
    "\n",
    "\n",
    "\n",
    "#### Make [this test](/edit/session2/tx.py) pass: `tx.py:TxTest:test_sign_p2wsh_multisig`"
   ]
  },
  {
   "cell_type": "code",
   "execution_count": null,
   "metadata": {},
   "outputs": [],
   "source": [
    "# Exercise 4\n",
    "\n",
    "reload(tx)\n",
    "run(tx.TxTest('test_sign_p2wsh_multisig'))"
   ]
  },
  {
   "cell_type": "code",
   "execution_count": null,
   "metadata": {},
   "outputs": [],
   "source": [
    "# Example for creating a p2wsh multisig transaction\n",
    "from ecc import PrivateKey\n",
    "from helper import decode_bech32, hash256, little_endian_to_int\n",
    "from script import p2wpkh_script\n",
    "from tx import Tx, TxIn, TxOut\n",
    "private_key = PrivateKey(little_endian_to_int(hash256(b'jimmy@programmingblockchain.com Jimmy Song')))\n",
    "sec1 = private_key.point.sec()\n",
    "sec2 = bytes.fromhex('031dbe3aff7b9ad64e2612b8b15e9f5e4a3130663a526df91abfb7b1bd16de5d6e')\n",
    "witness_script = Script([0x52, sec1, sec2, 0x52, 0xae])\n",
    "sig2 = bytes.fromhex('304402206f68a4c8731b1981fde3ae2f8ac3e21dbb42903853a3cecf18c30c31d36b510102207e5eba87f5d9134307d0f0cfb3eb065b18bf8a35df9a8b10538586328d1c7aa101')\n",
    "prev_tx_hex = 'a7f64bc20cd7d113d910a9a56fece31543677d98ee3180e6eabfbf9fccd360dc'\n",
    "prev_tx = bytes.fromhex(prev_tx_hex)\n",
    "prev_index = 0\n",
    "fee = 500\n",
    "tx_in = TxIn(prev_tx, prev_index)\n",
    "amount = tx_in.value(testnet=True) - fee\n",
    "target_address = 'tb1qdcfewxgnhx4gjev6nafaxfa64zpx7tt470r3au'\n",
    "_, _, h160 = decode_bech32(target_address)\n",
    "script_pubkey = p2wpkh_script(h160)\n",
    "tx_out = TxOut(amount, script_pubkey)\n",
    "tx_obj = Tx(1, [tx_in], [tx_out], 0, testnet=True, segwit=True)\n",
    "sig1 = tx_obj.get_sig_p2wsh_multisig(0, private_key, witness_script)\n",
    "tx_obj.finalize_p2wsh_multisig_input(0, [sig1, sig2], witness_script)\n",
    "print(tx_obj.serialize().hex())"
   ]
  },
  {
   "cell_type": "markdown",
   "metadata": {},
   "source": [
    "### Exercise 5\n",
    "\n",
    "#### Create a p2wpkh spending transaction\n",
    "\n",
    "You have been sent 0.05 testnet BTC. Send 0.03 to `tb1qdcfewxgnhx4gjev6nafaxfa64zpx7tt470r3au`\n",
    "and the change back to your bech32 address.\n"
   ]
  },
  {
   "cell_type": "code",
   "execution_count": null,
   "metadata": {},
   "outputs": [],
   "source": [
    "# Exercise 5\n",
    "\n",
    "from ecc import PrivateKey\n",
    "from helper import decode_bech32, hash256, little_endian_to_int\n",
    "from network import SimpleNode\n",
    "from script import p2wpkh_script\n",
    "from tx import Tx, TxIn, TxOut\n",
    "passphrase = b'<fill this in>'\n",
    "private_key = PrivateKey(little_endian_to_int(hash256(passphrase)))\n",
    "prev_tx_hex = '<fill this in>'\n",
    "prev_tx = bytes.fromhex(prev_tx_hex)\n",
    "prev_index = -1  # fill this in\n",
    "fee = 500\n",
    "target_address = 'tb1qdcfewxgnhx4gjev6nafaxfa64zpx7tt470r3au'\n",
    "target_amount = 3000000\n",
    "# create the transaction input\n",
    "\n",
    "# create an array of tx_outs\n",
    "\n",
    "# decode the target address to get the hash160 of the address\n",
    "\n",
    "# create the target script pubkey using p2wpkh_script\n",
    "\n",
    "# add the target transaction output\n",
    "tx_outs.append(TxOut(target_amount, target_script_pubkey))\n",
    "# calculate the change amount, remember you were sent 5000000 sats\n",
    "\n",
    "# calculate the hash160 for your private key\n",
    "\n",
    "# create the change script pubkey using p2wpkh_script\n",
    "\n",
    "\n",
    "# create the transaction with testnet=True and segwit=True\n",
    "\n",
    "# sign the one input with your private key\n",
    "\n",
    "# print the hex to see what it looks like\n"
   ]
  },
  {
   "cell_type": "markdown",
   "metadata": {},
   "source": [
    "### Exercise 6\n",
    "\n",
    "\n",
    "\n",
    "\n",
    "#### Make [this test](/edit/session2/tx.py) pass: `tx.py:TxTest:test_verify_p2sh_p2wpkh`"
   ]
  },
  {
   "cell_type": "code",
   "execution_count": null,
   "metadata": {},
   "outputs": [],
   "source": [
    "# Exercise 6\n",
    "\n",
    "reload(tx)\n",
    "run(tx.TxTest('test_verify_p2sh_p2wpkh'))"
   ]
  },
  {
   "cell_type": "code",
   "execution_count": null,
   "metadata": {},
   "outputs": [],
   "source": [
    "# Example of generating a p2sh-p2wpkh address\n",
    "from ecc import S256Point\n",
    "from helper import encode_base58_checksum, hash160, h160_to_p2sh_address\n",
    "sec_hex = '02c3700ce19990bccbfa1e072d287049d7c0e07ed15c9aeac84bbc2c38ea667a5d'\n",
    "point = S256Point.parse(bytes.fromhex(sec_hex))\n",
    "h160 = point.hash160()\n",
    "redeem_script = bytes([0]) + encode_varstr(h160)\n",
    "h160_p2sh = hash160(redeem_script)\n",
    "address = h160_to_p2sh_address(h160_p2sh, testnet=False)\n",
    "print(address)"
   ]
  },
  {
   "cell_type": "markdown",
   "metadata": {},
   "source": [
    "### Exercise 7\n",
    "#### Create a testnet p2sh-p2wpkh address with your private key.\n",
    "\n"
   ]
  },
  {
   "cell_type": "code",
   "execution_count": null,
   "metadata": {},
   "outputs": [],
   "source": [
    "# Exercise 7\n",
    "\n",
    "from ecc import PrivateKey\n",
    "from helper import encode_varstr, h160_to_p2sh_address, hash160, hash256, little_endian_to_int\n",
    "# use the same passphrase from session 0\n",
    "passphrase = b'<fill this in>'\n",
    "secret = little_endian_to_int(hash256(passphrase))\n",
    "# create a private key using the secret\n",
    "\n",
    "# get the public key using the .point property\n",
    "\n",
    "# get the hash160 of the point\n",
    "\n",
    "# the RedeemScript starts with the segwit version (0 or b'\\x00)\n",
    "\n",
    "# next, add the hash160 to the RedeemScript using encode_varstr\n",
    "\n",
    "# perform a hash160 to get the hash160 of the redeem script\n",
    "\n",
    "# encode to base58 using h160_to_p2sh_address, remember testnet=True\n",
    "\n",
    "# print the address\n"
   ]
  },
  {
   "cell_type": "markdown",
   "metadata": {},
   "source": [
    "### Exercise 8\n",
    "\n",
    "\n",
    "\n",
    "\n",
    "#### Make [this test](/edit/session2/ecc.py) pass: `ecc.py:S256Test:test_p2sh_p2wpkh_address`"
   ]
  },
  {
   "cell_type": "code",
   "execution_count": null,
   "metadata": {},
   "outputs": [],
   "source": [
    "# Exercise 8\n",
    "\n",
    "reload(ecc)\n",
    "run(ecc.S256Test('test_p2sh_p2wpkh_address'))"
   ]
  },
  {
   "cell_type": "code",
   "execution_count": null,
   "metadata": {},
   "outputs": [],
   "source": [
    "# Example for signing a p2sh-p2wpkh input\n",
    "from io import BytesIO\n",
    "from ecc import PrivateKey\n",
    "from helper import hash256, little_endian_to_int, SIGHASH_ALL\n",
    "from script import Script\n",
    "from tx import Tx\n",
    "private_key = PrivateKey(little_endian_to_int(hash256(b'jimmy@programmingblockchain.com Jimmy Song')))\n",
    "redeem_script = private_key.point.p2sh_p2wpkh_redeem_script()\n",
    "raw_tx_hex = '010000000001014e6b786f3cd70ab1ffd75caa6bb252c9888fdca9ca94d40fec24bec3e643d89e0000000000ffffffff014c400f0000000000160014401af0b57c7a4b7490c508a47d0747d03cf6ac2e0000000000'\n",
    "input_index = 0\n",
    "stream = BytesIO(bytes.fromhex(raw_tx_hex))\n",
    "tx_obj = Tx.parse(stream, testnet=True)\n",
    "z = tx_obj.sig_hash_bip143(input_index, redeem_script=redeem_script)\n",
    "der = private_key.sign(z).der()\n",
    "sig = der + SIGHASH_ALL.to_bytes(1, 'big')\n",
    "sec = private_key.point.sec()\n",
    "tx_in = tx_obj.tx_ins[input_index]\n",
    "tx_in.witness = [sig, sec]\n",
    "tx_in.script_sig = Script([redeem_script.raw_serialize()])\n",
    "print(tx_obj.verify_input(input_index))"
   ]
  },
  {
   "cell_type": "markdown",
   "metadata": {},
   "source": [
    "### Exercise 9\n",
    "\n",
    "\n",
    "\n",
    "\n",
    "#### Make [this test](/edit/session2/tx.py) pass: `tx.py:TxTest:test_sign_p2sh_p2wpkh`"
   ]
  },
  {
   "cell_type": "code",
   "execution_count": null,
   "metadata": {},
   "outputs": [],
   "source": [
    "# Exercise 9\n",
    "\n",
    "reload(tx)\n",
    "run(tx.TxTest('test_sign_p2sh_p2wpkh'))"
   ]
  },
  {
   "cell_type": "code",
   "execution_count": null,
   "metadata": {},
   "outputs": [],
   "source": [
    "# Example for creating a p2sh-p2wpkh transaction\n",
    "from ecc import PrivateKey\n",
    "from helper import decode_bech32, hash256, little_endian_to_int\n",
    "from script import p2wpkh_script\n",
    "from tx import Tx, TxIn, TxOut\n",
    "private_key = PrivateKey(little_endian_to_int(hash256(b'jimmy@programmingblockchain.com Jimmy Song')))\n",
    "prev_tx_hex = '6c14a8370da20c7de5ebf216ece3156e99e7d6070442d93b80cdc344b2e80867'\n",
    "prev_tx = bytes.fromhex(prev_tx_hex)\n",
    "prev_index = 1\n",
    "fee = 500\n",
    "tx_in = TxIn(prev_tx, prev_index)\n",
    "amount = tx_in.value(testnet=True) - fee\n",
    "target_address = 'tb1qdcfewxgnhx4gjev6nafaxfa64zpx7tt470r3au'\n",
    "_, _, h160 = decode_bech32(target_address)\n",
    "script_pubkey = p2wpkh_script(h160)\n",
    "tx_out = TxOut(amount, script_pubkey)\n",
    "tx_obj = Tx(1, [tx_in], [tx_out], 0, testnet=True, segwit=True)\n",
    "redeem_script = private_key.point.p2sh_p2wpkh_redeem_script()\n",
    "tx_obj.sign_input(0, private_key, redeem_script=redeem_script)\n",
    "print(tx_obj.serialize().hex())"
   ]
  }
 ],
 "metadata": {
  "kernelspec": {
   "display_name": "Python 3",
   "language": "python",
   "name": "python3"
  },
  "language_info": {
   "codemirror_mode": {
    "name": "ipython",
    "version": 3
   },
   "file_extension": ".py",
   "mimetype": "text/x-python",
   "name": "python",
   "nbconvert_exporter": "python",
   "pygments_lexer": "ipython3",
   "version": "3.6.7"
  }
 },
 "nbformat": 4,
 "nbformat_minor": 2
}
