{
 "cells": [
  {
   "cell_type": "code",
   "execution_count": null,
   "metadata": {},
   "outputs": [],
   "source": [
    "############## PLEASE RUN THIS CELL FIRST! ###################\n",
    "\n",
    "# import everything and define a test runner function\n",
    "from importlib import reload\n",
    "from helper import run\n",
    "import ecc, script, tx"
   ]
  },
  {
   "cell_type": "markdown",
   "metadata": {},
   "source": [
    "### Exercise 1\n",
    "\n",
    "\n",
    "\n",
    "\n",
    "#### Make [this test](/edit/session2/tx.py) pass: `tx.py:TxTest:test_verify_p2wsh`"
   ]
  },
  {
   "cell_type": "code",
   "execution_count": null,
   "metadata": {},
   "outputs": [],
   "source": [
    "# Exercise 1\n",
    "\n",
    "reload(tx)\n",
    "run(tx.TxTest('test_verify_p2wsh'))"
   ]
  },
  {
   "cell_type": "code",
   "execution_count": null,
   "metadata": {},
   "outputs": [],
   "source": [
    "# example for creating a p2wsh bech32 address\n",
    "from ecc import S256Point\n",
    "from helper import encode_bech32_checksum, encode_varstr, sha256\n",
    "from script import Script\n",
    "sec1_hex = '0375e00eb72e29da82b89367947f29ef34afb75e8654f6ea368e0acdfd92976b7c'\n",
    "sec2_hex = '03a1b26313f430c4b15bb1fdce663207659d8cac749a0e53d70eff01874496feff'\n",
    "sec3_hex = '03c96d495bfdd5ba4145e3e046fee45e84a8a48ad05bd8dbb395c011a32cf9f880'\n",
    "sec1 = bytes.fromhex(sec1_hex)\n",
    "sec2 = bytes.fromhex(sec2_hex)\n",
    "sec3 = bytes.fromhex(sec3_hex)\n",
    "witness_script = Script([0x52, sec1, sec2, sec3, 0x53, 0xae])  # 2-of-3 multisig\n",
    "s256 = sha256(witness_script.raw_serialize())\n",
    "s = Script([0, s256])\n",
    "raw = s.raw_serialize()\n",
    "bech32 = encode_bech32_checksum(raw, testnet=False)\n",
    "print(bech32)"
   ]
  },
  {
   "cell_type": "markdown",
   "metadata": {},
   "source": [
    "### Exercise 2\n",
    "#### Create a testnet 2-of-2 multisig p2wsh bech32 address using your private key from the Session 0 and this SEC public key:\n",
    "`031dbe3aff7b9ad64e2612b8b15e9f5e4a3130663a526df91abfb7b1bd16de5d6e`\n",
    "\n",
    "Fill in the spreadsheet with the address.\n"
   ]
  },
  {
   "cell_type": "code",
   "execution_count": null,
   "metadata": {},
   "outputs": [],
   "source": [
    "# Exercise 2\n",
    "\n",
    "from ecc import PrivateKey\n",
    "from helper import encode_bech32_checksum, encode_varstr, hash256, little_endian_to_int, sha256\n",
    "from script import Script\n",
    "sec2 = bytes.fromhex('031dbe3aff7b9ad64e2612b8b15e9f5e4a3130663a526df91abfb7b1bd16de5d6e')\n",
    "# use the same passphrase from session 0\n",
    "passphrase = b'<fill this in>'\n",
    "secret = little_endian_to_int(hash256(passphrase))\n",
    "# create a private key using the secret\n",
    "\n",
    "# get the public key using the .point property\n",
    "\n",
    "# get the compressed SEC format of the point\n",
    "\n",
    "# create the WitnessScript 0x52 (OP_2), sec1, sec2, 0x52, 0xae (OP_CHECKMULTISIG)\n",
    "\n",
    "# get the sha256 of the raw serialization of the script\n",
    "\n",
    "# create another script of 0 (OP_0) and the hash\n",
    "\n",
    "# get the raw serialization of the second script you just made\n",
    "\n",
    "# encode to bech32 using encode_bech32_checksum, remember testnet=True\n",
    "\n",
    "# print the address\n"
   ]
  },
  {
   "cell_type": "markdown",
   "metadata": {},
   "source": [
    "### Exercise 3\n",
    "\n",
    "\n",
    "\n",
    "\n",
    "#### Make [this test](/edit/session2/script.py) pass: `script.py:ScriptTest:test_p2wsh_address`"
   ]
  },
  {
   "cell_type": "code",
   "execution_count": null,
   "metadata": {},
   "outputs": [],
   "source": [
    "# Exercise 3\n",
    "\n",
    "reload(script)\n",
    "run(script.ScriptTest('test_p2wsh_address'))"
   ]
  },
  {
   "cell_type": "code",
   "execution_count": null,
   "metadata": {},
   "outputs": [],
   "source": [
    "# Example for signing a p2wsh input\n",
    "from io import BytesIO\n",
    "from ecc import PrivateKey\n",
    "from helper import hash256, little_endian_to_int, SIGHASH_ALL\n",
    "from script import Script\n",
    "from tx import Tx\n",
    "private_key = PrivateKey(little_endian_to_int(hash256(b'jimmy@programmingblockchain.com Jimmy Song')))\n",
    "sec1 = private_key.point.sec()\n",
    "sec2 = bytes.fromhex('031dbe3aff7b9ad64e2612b8b15e9f5e4a3130663a526df91abfb7b1bd16de5d6e')\n",
    "raw_tx_hex = '01000000000101dc60d3cc9fbfbfeae68031ee987d674315e3ec6fa5a910d913d1d70cc24bf6a70000000000ffffffff014c400f0000000000160014092ab91b37b4182061d9c01199aaac029f89561f0000000000'\n",
    "input_index = 0\n",
    "stream = BytesIO(bytes.fromhex(raw_tx_hex))\n",
    "tx_obj = Tx.parse(stream, testnet=True)\n",
    "witness_script = Script([0x52, sec1, sec2, 0x52, 0xae])\n",
    "z = tx_obj.sig_hash_bip143(input_index, witness_script=witness_script)\n",
    "der = private_key.sign(z).der()\n",
    "sig = der + SIGHASH_ALL.to_bytes(1, 'big')\n",
    "print(sig.hex())"
   ]
  },
  {
   "cell_type": "markdown",
   "metadata": {},
   "source": [
    "### Exercise 4\n",
    "\n",
    "\n",
    "\n",
    "\n",
    "#### Make [this test](/edit/session2/tx.py) pass: `tx.py:TxTest:test_sign_p2wsh_multisig`"
   ]
  },
  {
   "cell_type": "code",
   "execution_count": null,
   "metadata": {},
   "outputs": [],
   "source": [
    "# Exercise 4\n",
    "\n",
    "reload(tx)\n",
    "run(tx.TxTest('test_sign_p2wsh_multisig'))"
   ]
  },
  {
   "cell_type": "code",
   "execution_count": null,
   "metadata": {},
   "outputs": [],
   "source": [
    "# Example for signing a p2wsh multisig transaction\n",
    "from ecc import PrivateKey\n",
    "from helper import decode_bech32, hash256, little_endian_to_int\n",
    "from script import p2wpkh_script\n",
    "from tx import Tx, TxIn, TxOut\n",
    "private_key = PrivateKey(little_endian_to_int(hash256(b'jimmy@programmingblockchain.com Jimmy Song')))\n",
    "sec1 = private_key.point.sec()\n",
    "sec2 = bytes.fromhex('031dbe3aff7b9ad64e2612b8b15e9f5e4a3130663a526df91abfb7b1bd16de5d6e')\n",
    "witness_script = Script([0x52, sec1, sec2, 0x52, 0xae])\n",
    "sig2 = bytes.fromhex('304402206f68a4c8731b1981fde3ae2f8ac3e21dbb42903853a3cecf18c30c31d36b510102207e5eba87f5d9134307d0f0cfb3eb065b18bf8a35df9a8b10538586328d1c7aa101')\n",
    "prev_tx_hex = 'a7f64bc20cd7d113d910a9a56fece31543677d98ee3180e6eabfbf9fccd360dc'\n",
    "prev_tx = bytes.fromhex(prev_tx_hex)\n",
    "prev_index = 0\n",
    "fee = 500\n",
    "tx_in = TxIn(prev_tx, prev_index)\n",
    "amount = tx_in.value(testnet=True) - fee\n",
    "target_address = 'tb1qdcfewxgnhx4gjev6nafaxfa64zpx7tt470r3au'\n",
    "_, _, h160 = decode_bech32(target_address)\n",
    "script_pubkey = p2wpkh_script(h160)\n",
    "tx_out = TxOut(amount, script_pubkey)\n",
    "tx_obj = Tx(1, [tx_in], [tx_out], 0, testnet=True, segwit=True)\n",
    "sig1 = tx_obj.get_sig_p2wsh_multisig(0, private_key, witness_script)\n",
    "tx_obj.finalize_p2wsh_multisig_input(0, [sig1, sig2], witness_script)\n",
    "print(tx_obj.serialize().hex())"
   ]
  },
  {
   "cell_type": "markdown",
   "metadata": {},
   "source": [
    "### Exercise 5\n",
    "\n",
    "#### Create a p2wsh spending transaction\n",
    "\n",
    "You have been provided with an unsigned transaction, witness script and 1 of the 2 required signatures. Sign and broadcast the transaction!\n",
    "\n"
   ]
  },
  {
   "cell_type": "code",
   "execution_count": null,
   "metadata": {},
   "outputs": [],
   "source": [
    "# Exercise 5\n",
    "\n",
    "from io import BytesIO\n",
    "from ecc import PrivateKey\n",
    "from helper import decode_bech32, hash256, little_endian_to_int\n",
    "from network import SimpleNode\n",
    "from script import Script\n",
    "from tx import Tx, TxIn, TxOut\n",
    "hex_tx = '<fill this in>'\n",
    "hex_sig2 = '<fill this in>'\n",
    "hex_witness_script = '<fill this in>'\n",
    "passphrase = b'<fill this in>'\n",
    "private_key = PrivateKey(little_endian_to_int(hash256(passphrase)))\n",
    "# turn the hex raw transaction into a stream\n",
    "\n",
    "# parse the transaction, testnet=True\n",
    "\n",
    "# turn the hex witness script into a stream\n",
    "\n",
    "# parse the witness script using Script.parse\n",
    "\n",
    "# convert the signature to bytes\n",
    "\n",
    "# get the other signature using get_sig_p2wsh_multisig for input 0\n",
    "\n",
    "# finalize the transaction with the two signatures\n",
    "\n",
    "# print the hex to see what it looks like\n"
   ]
  },
  {
   "cell_type": "code",
   "execution_count": null,
   "metadata": {},
   "outputs": [],
   "source": [
    "# Example of generating a p2sh-p2wsh address\n",
    "from ecc import S256Point\n",
    "from helper import encode_base58_checksum, hash160, sha256, h160_to_p2sh_address\n",
    "from script import Script, p2wsh_script\n",
    "sec1_hex = '026ccfb8061f235cc110697c0bfb3afb99d82c886672f6b9b5393b25a434c0cbf3'\n",
    "sec2_hex = '03befa190c0c22e2f53720b1be9476dcf11917da4665c44c9c71c3a2d28a933c35'\n",
    "sec3_hex = '02be46dc245f58085743b1cc37c82f0d63a960efa43b5336534275fc469b49f4ac'\n",
    "sec1 = bytes.fromhex(sec1_hex)\n",
    "sec2 = bytes.fromhex(sec2_hex)\n",
    "sec3 = bytes.fromhex(sec3_hex)\n",
    "witness_script = Script([0x52, sec1, sec2, sec3, 0x53, 0xae])  # 2-of-3 multisig\n",
    "s256 = sha256(witness_script.raw_serialize())\n",
    "redeem_script = p2wsh_script(s256)\n",
    "print(redeem_script.p2sh_address(testnet=True))"
   ]
  },
  {
   "cell_type": "markdown",
   "metadata": {},
   "source": [
    "### Exercise 6\n",
    "#### Create a testnet 2-of-3 multisig p2sh-p2wsh address with your private key and the two sec pubkeys provided.\n",
    "\n"
   ]
  },
  {
   "cell_type": "code",
   "execution_count": null,
   "metadata": {},
   "outputs": [],
   "source": [
    "# Exercise 6\n",
    "\n",
    "from ecc import PrivateKey\n",
    "from helper import encode_varstr, h160_to_p2sh_address, hash160, hash256, sha256, little_endian_to_int\n",
    "from script import p2wsh_script, Script\n",
    "sec2 = bytes.fromhex('031dbe3aff7b9ad64e2612b8b15e9f5e4a3130663a526df91abfb7b1bd16de5d6e')\n",
    "sec3 = bytes.fromhex('02618b836fc32578538bb8440f5e89d916844dd828981a9bc33f9a736638b538d2')\n",
    "# use the same passphrase from session 0\n",
    "passphrase = b'<fill this in>'\n",
    "secret = little_endian_to_int(hash256(passphrase))\n",
    "# create a private key using the secret\n",
    "\n",
    "# get the sec using the .point property\n",
    "\n",
    "# create a WitnessScript that's 2 of 3 multisig\n",
    "\n",
    "# get the sha256 of the raw serialization of the witness script\n",
    "\n",
    "# make the RedeemScript using the p2wsh_script function on the sha256\n",
    "\n",
    "# print the RedeemScript's p2sh address\n"
   ]
  },
  {
   "cell_type": "markdown",
   "metadata": {},
   "source": [
    "### Exercise 7\n",
    "\n",
    "\n",
    "\n",
    "\n",
    "#### Make [this test](/edit/session2/script.py) pass: `script.py:ScriptTest:test_p2sh_p2wsh_address`"
   ]
  },
  {
   "cell_type": "code",
   "execution_count": null,
   "metadata": {},
   "outputs": [],
   "source": [
    "# Exercise 7\n",
    "\n",
    "reload(script)\n",
    "run(script.ScriptTest('test_p2sh_p2wsh_address'))"
   ]
  },
  {
   "cell_type": "code",
   "execution_count": null,
   "metadata": {},
   "outputs": [],
   "source": [
    "# Example for signing a p2sh-p2wsh input\n",
    "from io import BytesIO\n",
    "from ecc import PrivateKey\n",
    "from helper import hash256, little_endian_to_int, SIGHASH_ALL\n",
    "from script import Script\n",
    "from tx import Tx\n",
    "private_key = PrivateKey(little_endian_to_int(hash256(b'jimmy@programmingblockchain.com Jimmy Song')))\n",
    "hex_tx = '01000000000101ec13653fae5706168e92d9a3e4d98044d4af001a3081a70e57865caf94e0b7ee0000000000ffffffff014c400f00000000001600146e13971913b9aa89659a9f53d327baa8826f2d750000000000'\n",
    "hex_witness_script = '69522102c3700ce19990bccbfa1e072d287049d7c0e07ed15c9aeac84bbc2c38ea667a5d21031dbe3aff7b9ad64e2612b8b15e9f5e4a3130663a526df91abfb7b1bd16de5d6e2102618b836fc32578538bb8440f5e89d916844dd828981a9bc33f9a736638b538d253ae'\n",
    "stream = BytesIO(bytes.fromhex(hex_tx))\n",
    "tx_obj = Tx.parse(stream, testnet=True)\n",
    "stream = BytesIO(bytes.fromhex(hex_witness_script))\n",
    "witness_script = Script.parse(stream)\n",
    "z = tx_obj.sig_hash_bip143(input_index, witness_script=witness_script)\n",
    "der = private_key.sign(z).der()\n",
    "sig = der + SIGHASH_ALL.to_bytes(1, 'big')\n",
    "print(sig.hex())"
   ]
  },
  {
   "cell_type": "markdown",
   "metadata": {},
   "source": [
    "### Exercise 8\n",
    "\n",
    "\n",
    "\n",
    "\n",
    "#### Make [this test](/edit/session2/tx.py) pass: `tx.py:TxTest:test_sign_p2sh_p2wsh_multisig`"
   ]
  },
  {
   "cell_type": "code",
   "execution_count": null,
   "metadata": {},
   "outputs": [],
   "source": [
    "# Exercise 8\n",
    "\n",
    "reload(tx)\n",
    "run(tx.TxTest('test_sign_p2sh_p2wsh_multisig'))"
   ]
  },
  {
   "cell_type": "code",
   "execution_count": null,
   "metadata": {},
   "outputs": [],
   "source": [
    "# Example for signing a p2sh-p2wsh multisig transaction\n",
    "from ecc import PrivateKey\n",
    "from helper import decode_bech32, hash256, little_endian_to_int\n",
    "from script import Script\n",
    "from tx import Tx, TxIn, TxOut\n",
    "private_key = PrivateKey(little_endian_to_int(hash256(b'jimmy@programmingblockchain.com Jimmy Song')))\n",
    "hex_tx = '01000000000101ec13653fae5706168e92d9a3e4d98044d4af001a3081a70e57865caf94e0b7ee0000000000ffffffff014c400f00000000001600146e13971913b9aa89659a9f53d327baa8826f2d750000000000'\n",
    "hex_witness_script = '69522102c3700ce19990bccbfa1e072d287049d7c0e07ed15c9aeac84bbc2c38ea667a5d21031dbe3aff7b9ad64e2612b8b15e9f5e4a3130663a526df91abfb7b1bd16de5d6e2102618b836fc32578538bb8440f5e89d916844dd828981a9bc33f9a736638b538d253ae'\n",
    "hex_sig2 = '3045022100e9fa8587958b540ac71f128629e3019f07b14b0e5eb248afb3d4f92ddfee9f6002201bda6dc9297471419a00d86899f753d6c015e42d51df9aa1d8b5dc53f595d9e401'\n",
    "stream = BytesIO(bytes.fromhex(hex_tx))\n",
    "tx_obj = Tx.parse(stream, testnet=True)\n",
    "stream = BytesIO(bytes.fromhex(hex_witness_script))\n",
    "witness_script = Script.parse(stream)\n",
    "sig2 = bytes.fromhex(hex_sig2)\n",
    "sig1 = tx_obj.get_sig_p2wsh_multisig(0, private_key, witness_script)\n",
    "tx_obj.finalize_p2sh_p2wsh_multisig_input(0, [sig1, sig2], witness_script)\n",
    "print(tx_obj.serialize().hex())"
   ]
  },
  {
   "cell_type": "markdown",
   "metadata": {},
   "source": [
    "### Exercise 9\n",
    "\n",
    "#### Create a p2sh-p2wsh spending transaction\n",
    "\n",
    "You have been provided with an unsigned transaction, witness script and 1 of the 2 required signatures. Sign and broadcast the transaction!\n",
    "02c3700ce19990bccbfa1e072d287049d7c0e07ed15c9aeac84bbc2c38ea667a5d,2N6x1Y58uwZ7oYAZSeYveaYHGKHvotUUfyZ,010000000001010b73fcaf0ca900bcc86017773be47d6533a3da445e962b0c708d012fb025943d0000000000ffffffff014c494c00000000001600146e13971913b9aa89659a9f53d327baa8826f2d750000000000,3045022100e220b8ebb30bdd78135d4f397881e7754453c3470e6eaa016c1db66ed2106ecf022035d496ca50a6bd5a494e5250c1ed1797faa7afa496aa0599f759d596ed74ef4601\n"
   ]
  },
  {
   "cell_type": "code",
   "execution_count": null,
   "metadata": {},
   "outputs": [],
   "source": [
    "# Exercise 9\n",
    "\n",
    "from io import BytesIO\n",
    "from ecc import PrivateKey\n",
    "from helper import decode_bech32, hash256, little_endian_to_int\n",
    "from network import SimpleNode\n",
    "from script import Script\n",
    "from tx import Tx, TxIn, TxOut\n",
    "hex_tx = '<fill this in>'\n",
    "hex_witness_script = '<fill this in>'\n",
    "hex_sig2 = '<fill this in>'\n",
    "passphrase = b'<fill this in>'\n",
    "private_key = PrivateKey(little_endian_to_int(hash256(passphrase)))\n",
    "# turn the hex raw transaction into a stream\n",
    "\n",
    "# parse the transaction, testnet=True\n",
    "\n",
    "# turn the hex witness script into a stream\n",
    "\n",
    "# parse the witness script using Script.parse\n",
    "\n",
    "# convert the signature to bytes\n",
    "\n",
    "# get the other signature using get_sig_p2wsh_multisig for input 0\n",
    "\n",
    "# finalize the transaction with the two signatures\n",
    "\n",
    "# print the hex to see what it looks like\n"
   ]
  }
 ],
 "metadata": {},
 "nbformat": 4,
 "nbformat_minor": 2
}
