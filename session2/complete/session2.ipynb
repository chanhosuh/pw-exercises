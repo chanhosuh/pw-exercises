{
 "cells": [
  {
   "cell_type": "code",
   "execution_count": 1,
   "metadata": {},
   "outputs": [],
   "source": [
    "############## PLEASE RUN THIS CELL FIRST! ###################\n",
    "\n",
    "# import everything and define a test runner function\n",
    "from importlib import reload\n",
    "from helper import run\n",
    "import ecc, script, tx"
   ]
  },
  {
   "cell_type": "markdown",
   "metadata": {},
   "source": [
    "### Exercise 1\n",
    "\n",
    "\n",
    "\n",
    "\n",
    "#### Make [this test](/edit/session2/tx.py) pass: `tx.py:TxTest:test_verify_p2wsh`"
   ]
  },
  {
   "cell_type": "code",
   "execution_count": 2,
   "metadata": {},
   "outputs": [
    {
     "name": "stderr",
     "output_type": "stream",
     "text": [
      ".\n",
      "----------------------------------------------------------------------\n",
      "Ran 1 test in 0.550s\n",
      "\n",
      "OK\n"
     ]
    }
   ],
   "source": [
    "# Exercise 1\n",
    "\n",
    "reload(tx)\n",
    "run(tx.TxTest('test_verify_p2wsh'))"
   ]
  },
  {
   "cell_type": "code",
   "execution_count": 3,
   "metadata": {},
   "outputs": [
    {
     "name": "stdout",
     "output_type": "stream",
     "text": [
      "bc1qwqdg6squsna38e46795at95yu9atm8azzmyvckulcc7kytlcckxswvvzej\n"
     ]
    }
   ],
   "source": [
    "# example for creating a p2wsh bech32 address\n",
    "from ecc import S256Point\n",
    "from helper import encode_bech32_checksum, encode_varstr, sha256\n",
    "from script import Script, WitnessScript\n",
    "sec1_hex = '0375e00eb72e29da82b89367947f29ef34afb75e8654f6ea368e0acdfd92976b7c'\n",
    "sec2_hex = '03a1b26313f430c4b15bb1fdce663207659d8cac749a0e53d70eff01874496feff'\n",
    "sec3_hex = '03c96d495bfdd5ba4145e3e046fee45e84a8a48ad05bd8dbb395c011a32cf9f880'\n",
    "sec1 = bytes.fromhex(sec1_hex)\n",
    "sec2 = bytes.fromhex(sec2_hex)\n",
    "sec3 = bytes.fromhex(sec3_hex)\n",
    "witness_script = WitnessScript([0x52, sec1, sec2, sec3, 0x53, 0xae])  # 2-of-3 multisig\n",
    "s256 = sha256(witness_script.raw_serialize())\n",
    "s = Script([0, s256])\n",
    "raw = s.raw_serialize()\n",
    "bech32 = encode_bech32_checksum(raw, testnet=False)\n",
    "print(bech32)"
   ]
  },
  {
   "cell_type": "markdown",
   "metadata": {},
   "source": [
    "### Exercise 2\n",
    "#### Create a testnet 2-of-2 multisig p2wsh bech32 address using your private key from the Session 0 and this SEC public key:\n",
    "`031dbe3aff7b9ad64e2612b8b15e9f5e4a3130663a526df91abfb7b1bd16de5d6e`\n",
    "\n",
    "Fill in the spreadsheet with the address.\n"
   ]
  },
  {
   "cell_type": "code",
   "execution_count": 4,
   "metadata": {},
   "outputs": [
    {
     "name": "stdout",
     "output_type": "stream",
     "text": [
      "tb1qk9g26ycdn47n2uhzl0nnj7ayxmzlveuhvzg7vtdkpcl3smkquvgqlp5t8w\n"
     ]
    }
   ],
   "source": [
    "# Exercise 2\n",
    "\n",
    "from ecc import PrivateKey\n",
    "from helper import encode_bech32_checksum, encode_varstr, hash256, little_endian_to_int, sha256\n",
    "from script import Script, WitnessScript\n",
    "sec2 = bytes.fromhex('031dbe3aff7b9ad64e2612b8b15e9f5e4a3130663a526df91abfb7b1bd16de5d6e')\n",
    "# use the same passphrase from session 0\n",
    "passphrase = b'jimmy@programmingblockchain.com Jimmy Song'\n",
    "secret = little_endian_to_int(hash256(passphrase))\n",
    "# create a private key using the secret\n",
    "private_key = PrivateKey(secret)\n",
    "# get the public key using the .point property\n",
    "public_key = private_key.point\n",
    "# get the compressed SEC format of the point\n",
    "sec1 = public_key.sec()\n",
    "# create the WitnessScript 0x52 (OP_2), sec1, sec2, 0x52, 0xae (OP_CHECKMULTISIG)\n",
    "witness_script = WitnessScript([0x52, sec1, sec2, 0x52, 0xae])\n",
    "# get the sha256 of the raw serialization of the script\n",
    "s256 = sha256(witness_script.raw_serialize())\n",
    "# create another script of 0 (OP_0) and the hash\n",
    "s = Script([0, s256])\n",
    "# get the raw serialization of the second script you just made\n",
    "raw = s.raw_serialize()\n",
    "# encode to bech32 using encode_bech32_checksum, remember testnet=True\n",
    "bech32 = encode_bech32_checksum(raw, testnet=True)\n",
    "# print the address\n",
    "print(bech32)"
   ]
  },
  {
   "cell_type": "markdown",
   "metadata": {},
   "source": [
    "### Exercise 3\n",
    "\n",
    "\n",
    "\n",
    "\n",
    "#### Make [this test](/edit/session2/script.py) pass: `script.py:WitnessScriptTest:test_address`"
   ]
  },
  {
   "cell_type": "code",
   "execution_count": 5,
   "metadata": {},
   "outputs": [
    {
     "name": "stderr",
     "output_type": "stream",
     "text": [
      ".\n",
      "----------------------------------------------------------------------\n",
      "Ran 1 test in 0.002s\n",
      "\n",
      "OK\n"
     ]
    }
   ],
   "source": [
    "# Exercise 3\n",
    "\n",
    "reload(script)\n",
    "run(script.WitnessScriptTest('test_address'))"
   ]
  },
  {
   "cell_type": "code",
   "execution_count": 6,
   "metadata": {},
   "outputs": [
    {
     "name": "stdout",
     "output_type": "stream",
     "text": [
      "304402202770904ce7d2166fdc361ac5e2b3cf4acb02234b9c8d1ce540a3adc139a45b1802202bb03a8ce5cce7c70fe6eea32035e56970959feaea47bfe61a4cf78d7121b6ba01\n"
     ]
    }
   ],
   "source": [
    "# Example for signing a p2wsh input\n",
    "from io import BytesIO\n",
    "from ecc import PrivateKey\n",
    "from helper import hash256, little_endian_to_int, SIGHASH_ALL\n",
    "from script import Script\n",
    "from tx import Tx\n",
    "private_key = PrivateKey(little_endian_to_int(hash256(b'jimmy@programmingblockchain.com Jimmy Song')))\n",
    "sec1 = private_key.point.sec()\n",
    "sec2 = bytes.fromhex('031dbe3aff7b9ad64e2612b8b15e9f5e4a3130663a526df91abfb7b1bd16de5d6e')\n",
    "raw_tx_hex = '01000000000101dc60d3cc9fbfbfeae68031ee987d674315e3ec6fa5a910d913d1d70cc24bf6a70000000000ffffffff014c400f0000000000160014092ab91b37b4182061d9c01199aaac029f89561f0000000000'\n",
    "input_index = 0\n",
    "stream = BytesIO(bytes.fromhex(raw_tx_hex))\n",
    "tx_obj = Tx.parse(stream, testnet=True)\n",
    "witness_script = WitnessScript([0x52, sec1, sec2, 0x52, 0xae])\n",
    "z = tx_obj.sig_hash_bip143(input_index, witness_script=witness_script)\n",
    "der = private_key.sign(z).der()\n",
    "sig = der + SIGHASH_ALL.to_bytes(1, 'big')\n",
    "print(sig.hex())"
   ]
  },
  {
   "cell_type": "markdown",
   "metadata": {},
   "source": [
    "### Exercise 4\n",
    "\n",
    "\n",
    "\n",
    "\n",
    "#### Make [this test](/edit/session2/tx.py) pass: `tx.py:TxTest:test_sign_p2wsh_multisig`"
   ]
  },
  {
   "cell_type": "code",
   "execution_count": 7,
   "metadata": {},
   "outputs": [
    {
     "name": "stderr",
     "output_type": "stream",
     "text": [
      ".\n",
      "----------------------------------------------------------------------\n",
      "Ran 1 test in 1.019s\n",
      "\n",
      "OK\n"
     ]
    }
   ],
   "source": [
    "# Exercise 4\n",
    "\n",
    "reload(tx)\n",
    "run(tx.TxTest('test_sign_p2wsh_multisig'))"
   ]
  },
  {
   "cell_type": "code",
   "execution_count": 8,
   "metadata": {},
   "outputs": [
    {
     "name": "stdout",
     "output_type": "stream",
     "text": [
      "01000000000101dc60d3cc9fbfbfeae68031ee987d674315e3ec6fa5a910d913d1d70cc24bf6a70000000000ffffffff014c400f00000000001600146e13971913b9aa89659a9f53d327baa8826f2d750400473044022041a5f6066f066bb35d2e426bec0fa673fe9737461153eea66e23ab39ffc4f73602203e351dee8e0e3dd3fb5a86adca7c5a0eaee48e4d655c3a9d4655d235e6ad5a630147304402206f68a4c8731b1981fde3ae2f8ac3e21dbb42903853a3cecf18c30c31d36b510102207e5eba87f5d9134307d0f0cfb3eb065b18bf8a35df9a8b10538586328d1c7aa10147522102c3700ce19990bccbfa1e072d287049d7c0e07ed15c9aeac84bbc2c38ea667a5d21031dbe3aff7b9ad64e2612b8b15e9f5e4a3130663a526df91abfb7b1bd16de5d6e52ae00000000\n"
     ]
    }
   ],
   "source": [
    "# Example for signing a p2wsh multisig transaction\n",
    "from ecc import PrivateKey\n",
    "from helper import decode_bech32, hash256, little_endian_to_int\n",
    "from script import P2WPKHScriptPubKey\n",
    "from tx import Tx, TxIn, TxOut\n",
    "private_key = PrivateKey(little_endian_to_int(hash256(b'jimmy@programmingblockchain.com Jimmy Song')))\n",
    "sec1 = private_key.point.sec()\n",
    "sec2 = bytes.fromhex('031dbe3aff7b9ad64e2612b8b15e9f5e4a3130663a526df91abfb7b1bd16de5d6e')\n",
    "witness_script = WitnessScript([0x52, sec1, sec2, 0x52, 0xae])\n",
    "sig2 = bytes.fromhex('304402206f68a4c8731b1981fde3ae2f8ac3e21dbb42903853a3cecf18c30c31d36b510102207e5eba87f5d9134307d0f0cfb3eb065b18bf8a35df9a8b10538586328d1c7aa101')\n",
    "prev_tx_hex = 'a7f64bc20cd7d113d910a9a56fece31543677d98ee3180e6eabfbf9fccd360dc'\n",
    "prev_tx = bytes.fromhex(prev_tx_hex)\n",
    "prev_index = 0\n",
    "fee = 500\n",
    "tx_in = TxIn(prev_tx, prev_index)\n",
    "amount = tx_in.value(testnet=True) - fee\n",
    "target_address = 'tb1qdcfewxgnhx4gjev6nafaxfa64zpx7tt470r3au'\n",
    "_, _, h160 = decode_bech32(target_address)\n",
    "script_pubkey = P2WPKHScriptPubKey(h160)\n",
    "tx_out = TxOut(amount, script_pubkey)\n",
    "tx_obj = Tx(1, [tx_in], [tx_out], 0, testnet=True, segwit=True)\n",
    "sig1 = tx_obj.get_sig_p2wsh_multisig(0, private_key, witness_script)\n",
    "tx_obj.finalize_p2wsh_multisig_input(0, [sig1, sig2], witness_script)\n",
    "print(tx_obj.serialize().hex())"
   ]
  },
  {
   "cell_type": "markdown",
   "metadata": {},
   "source": [
    "### Exercise 5\n",
    "\n",
    "#### Create a p2wsh spending transaction\n",
    "\n",
    "You have been provided with an unsigned transaction, witness script and 1 of the 2 required signatures. Sign and broadcast the transaction!\n",
    "\n"
   ]
  },
  {
   "cell_type": "code",
   "execution_count": 9,
   "metadata": {},
   "outputs": [
    {
     "name": "stdout",
     "output_type": "stream",
     "text": [
      "01000000000101dc60d3cc9fbfbfeae68031ee987d674315e3ec6fa5a910d913d1d70cc24bf6a70000000000ffffffff014c400f00000000001600146e13971913b9aa89659a9f53d327baa8826f2d750400473044022041a5f6066f066bb35d2e426bec0fa673fe9737461153eea66e23ab39ffc4f73602203e351dee8e0e3dd3fb5a86adca7c5a0eaee48e4d655c3a9d4655d235e6ad5a630147304402206f68a4c8731b1981fde3ae2f8ac3e21dbb42903853a3cecf18c30c31d36b510102207e5eba87f5d9134307d0f0cfb3eb065b18bf8a35df9a8b10538586328d1c7aa10147522102c3700ce19990bccbfa1e072d287049d7c0e07ed15c9aeac84bbc2c38ea667a5d21031dbe3aff7b9ad64e2612b8b15e9f5e4a3130663a526df91abfb7b1bd16de5d6e52ae00000000\n"
     ]
    }
   ],
   "source": [
    "# Exercise 5\n",
    "\n",
    "from io import BytesIO\n",
    "from ecc import PrivateKey\n",
    "from helper import decode_bech32, hash256, little_endian_to_int\n",
    "from network import SimpleNode\n",
    "from script import Script, WitnessScript\n",
    "from tx import Tx, TxIn, TxOut\n",
    "hex_tx = '01000000000101dc60d3cc9fbfbfeae68031ee987d674315e3ec6fa5a910d913d1d70cc24bf6a70000000000ffffffff014c400f00000000001600146e13971913b9aa89659a9f53d327baa8826f2d750000000000'\n",
    "hex_sig2 = '304402206f68a4c8731b1981fde3ae2f8ac3e21dbb42903853a3cecf18c30c31d36b510102207e5eba87f5d9134307d0f0cfb3eb065b18bf8a35df9a8b10538586328d1c7aa101'\n",
    "hex_witness_script = '47522102c3700ce19990bccbfa1e072d287049d7c0e07ed15c9aeac84bbc2c38ea667a5d21031dbe3aff7b9ad64e2612b8b15e9f5e4a3130663a526df91abfb7b1bd16de5d6e52ae'\n",
    "passphrase = b'jimmy@programmingblockchain.com Jimmy Song'\n",
    "private_key = PrivateKey(little_endian_to_int(hash256(passphrase)))\n",
    "# turn the hex raw transaction into a stream\n",
    "stream = BytesIO(bytes.fromhex(hex_tx))\n",
    "# parse the transaction, testnet=True\n",
    "tx_obj = Tx.parse(stream, testnet=True)\n",
    "# turn the hex witness script into a stream\n",
    "stream = BytesIO(bytes.fromhex(hex_witness_script))\n",
    "# parse the witness script using Script.parse\n",
    "witness_script = WitnessScript.parse(stream)\n",
    "# convert the signature to bytes\n",
    "sig2 = bytes.fromhex(hex_sig2)\n",
    "# get the other signature using get_sig_p2wsh_multisig for input 0\n",
    "sig1 = tx_obj.get_sig_p2wsh_multisig(0, private_key, witness_script=witness_script)\n",
    "# finalize the transaction with the two signatures\n",
    "tx_obj.finalize_p2wsh_multisig_input(0, [sig1, sig2], witness_script=witness_script)\n",
    "# print the hex to see what it looks like\n",
    "print(tx_obj.serialize().hex())"
   ]
  },
  {
   "cell_type": "code",
   "execution_count": 10,
   "metadata": {},
   "outputs": [
    {
     "name": "stdout",
     "output_type": "stream",
     "text": [
      "2MvVx9ccWqyYVNa5Xz9pfCEVk99zVBZh9ms\n"
     ]
    }
   ],
   "source": [
    "# Example of generating a p2sh-p2wsh address\n",
    "from ecc import S256Point\n",
    "from helper import encode_base58_checksum, hash160, sha256\n",
    "from script import Script, WitnessScript, P2WSHScriptPubKey\n",
    "sec1_hex = '026ccfb8061f235cc110697c0bfb3afb99d82c886672f6b9b5393b25a434c0cbf3'\n",
    "sec2_hex = '03befa190c0c22e2f53720b1be9476dcf11917da4665c44c9c71c3a2d28a933c35'\n",
    "sec3_hex = '02be46dc245f58085743b1cc37c82f0d63a960efa43b5336534275fc469b49f4ac'\n",
    "sec1 = bytes.fromhex(sec1_hex)\n",
    "sec2 = bytes.fromhex(sec2_hex)\n",
    "sec3 = bytes.fromhex(sec3_hex)\n",
    "witness_script = WitnessScript([0x52, sec1, sec2, sec3, 0x53, 0xae])  # 2-of-3 multisig\n",
    "s256 = sha256(witness_script.raw_serialize())\n",
    "redeem_script = P2WSHScriptPubKey(s256)\n",
    "print(redeem_script.p2sh_address(testnet=True))"
   ]
  },
  {
   "cell_type": "markdown",
   "metadata": {},
   "source": [
    "### Exercise 6\n",
    "#### Create a testnet 2-of-3 multisig p2sh-p2wsh address with your private key and the two sec pubkeys provided.\n",
    "\n"
   ]
  },
  {
   "cell_type": "code",
   "execution_count": 11,
   "metadata": {},
   "outputs": [
    {
     "name": "stdout",
     "output_type": "stream",
     "text": [
      "2N6x1Y58uwZ7oYAZSeYveaYHGKHvotUUfyZ\n"
     ]
    }
   ],
   "source": [
    "# Exercise 6\n",
    "\n",
    "from ecc import PrivateKey\n",
    "from helper import encode_varstr, hash160, hash256, sha256, little_endian_to_int\n",
    "from script import P2WSHScriptPubKey, Script\n",
    "sec2 = bytes.fromhex('031dbe3aff7b9ad64e2612b8b15e9f5e4a3130663a526df91abfb7b1bd16de5d6e')\n",
    "sec3 = bytes.fromhex('02618b836fc32578538bb8440f5e89d916844dd828981a9bc33f9a736638b538d2')\n",
    "# use the same passphrase from session 0\n",
    "passphrase = b'jimmy@programmingblockchain.com Jimmy Song'\n",
    "secret = little_endian_to_int(hash256(passphrase))\n",
    "# create a private key using the secret\n",
    "private_key = PrivateKey(secret)\n",
    "# get the sec using the .point property\n",
    "sec1 = private_key.point.sec()\n",
    "# create a WitnessScript that's 2 of 3 multisig\n",
    "witness_script = WitnessScript([0x52, sec1, sec2, sec3, 0x53, 0xae])\n",
    "# get the sha256 of the raw serialization of the witness script\n",
    "s256 = sha256(witness_script.raw_serialize())\n",
    "# make the RedeemScript using the P2WSHScriptPubKey function on the sha256\n",
    "redeem_script = P2WSHScriptPubKey(s256)\n",
    "# print the RedeemScript's p2sh address\n",
    "print(redeem_script.p2sh_address(testnet=True))"
   ]
  },
  {
   "cell_type": "markdown",
   "metadata": {},
   "source": [
    "### Exercise 7\n",
    "\n",
    "\n",
    "\n",
    "\n",
    "#### Make [this test](/edit/session2/script.py) pass: `script.py:WitnessScriptTest:test_p2sh_address`"
   ]
  },
  {
   "cell_type": "code",
   "execution_count": 12,
   "metadata": {},
   "outputs": [
    {
     "name": "stderr",
     "output_type": "stream",
     "text": [
      ".\n",
      "----------------------------------------------------------------------\n",
      "Ran 1 test in 0.001s\n",
      "\n",
      "OK\n"
     ]
    }
   ],
   "source": [
    "# Exercise 7\n",
    "\n",
    "reload(script)\n",
    "run(script.WitnessScriptTest('test_p2sh_address'))"
   ]
  },
  {
   "cell_type": "code",
   "execution_count": 13,
   "metadata": {},
   "outputs": [
    {
     "name": "stdout",
     "output_type": "stream",
     "text": [
      "30440220603857be62aec5b6e16a13659fd7ca36f822b92999a7303f7ab3be6481227acf022020a56a52cb2088def4c12d2e2fa7055f4582b0a5aba7db4c169777456378db0501\n"
     ]
    }
   ],
   "source": [
    "# Example for signing a p2sh-p2wsh input\n",
    "from io import BytesIO\n",
    "from ecc import PrivateKey\n",
    "from helper import hash256, little_endian_to_int, SIGHASH_ALL\n",
    "from script import Script, WitnessScript\n",
    "from tx import Tx\n",
    "private_key = PrivateKey(little_endian_to_int(hash256(b'jimmy@programmingblockchain.com Jimmy Song')))\n",
    "hex_tx = '01000000000101ec13653fae5706168e92d9a3e4d98044d4af001a3081a70e57865caf94e0b7ee0000000000ffffffff014c400f00000000001600146e13971913b9aa89659a9f53d327baa8826f2d750000000000'\n",
    "hex_witness_script = '69522102c3700ce19990bccbfa1e072d287049d7c0e07ed15c9aeac84bbc2c38ea667a5d21031dbe3aff7b9ad64e2612b8b15e9f5e4a3130663a526df91abfb7b1bd16de5d6e2102618b836fc32578538bb8440f5e89d916844dd828981a9bc33f9a736638b538d253ae'\n",
    "stream = BytesIO(bytes.fromhex(hex_tx))\n",
    "tx_obj = Tx.parse(stream, testnet=True)\n",
    "stream = BytesIO(bytes.fromhex(hex_witness_script))\n",
    "witness_script = WitnessScript.parse(stream)\n",
    "z = tx_obj.sig_hash_bip143(input_index, witness_script=witness_script)\n",
    "der = private_key.sign(z).der()\n",
    "sig = der + SIGHASH_ALL.to_bytes(1, 'big')\n",
    "print(sig.hex())"
   ]
  },
  {
   "cell_type": "markdown",
   "metadata": {},
   "source": [
    "### Exercise 8\n",
    "\n",
    "\n",
    "\n",
    "\n",
    "#### Make [this test](/edit/session2/tx.py) pass: `tx.py:TxTest:test_sign_p2sh_p2wsh_multisig`"
   ]
  },
  {
   "cell_type": "code",
   "execution_count": 14,
   "metadata": {},
   "outputs": [
    {
     "name": "stderr",
     "output_type": "stream",
     "text": [
      ".\n",
      "----------------------------------------------------------------------\n",
      "Ran 1 test in 1.021s\n",
      "\n",
      "OK\n"
     ]
    }
   ],
   "source": [
    "# Exercise 8\n",
    "\n",
    "reload(tx)\n",
    "run(tx.TxTest('test_sign_p2sh_p2wsh_multisig'))"
   ]
  },
  {
   "cell_type": "code",
   "execution_count": 15,
   "metadata": {},
   "outputs": [
    {
     "name": "stdout",
     "output_type": "stream",
     "text": [
      "01000000000101ec13653fae5706168e92d9a3e4d98044d4af001a3081a70e57865caf94e0b7ee0000000023220020df9f2354c7040acd8ab725dc356bfafcae5b291e4d3f30685aede1d2a5d35dacffffffff014c400f00000000001600146e13971913b9aa89659a9f53d327baa8826f2d7504004730440220603857be62aec5b6e16a13659fd7ca36f822b92999a7303f7ab3be6481227acf022020a56a52cb2088def4c12d2e2fa7055f4582b0a5aba7db4c169777456378db0501483045022100e9fa8587958b540ac71f128629e3019f07b14b0e5eb248afb3d4f92ddfee9f6002201bda6dc9297471419a00d86899f753d6c015e42d51df9aa1d8b5dc53f595d9e40169522102c3700ce19990bccbfa1e072d287049d7c0e07ed15c9aeac84bbc2c38ea667a5d21031dbe3aff7b9ad64e2612b8b15e9f5e4a3130663a526df91abfb7b1bd16de5d6e2102618b836fc32578538bb8440f5e89d916844dd828981a9bc33f9a736638b538d253ae00000000\n"
     ]
    }
   ],
   "source": [
    "# Example for signing a p2sh-p2wsh multisig transaction\n",
    "from ecc import PrivateKey\n",
    "from helper import decode_bech32, hash256, little_endian_to_int\n",
    "from script import Script, WitnessScript\n",
    "from tx import Tx, TxIn, TxOut\n",
    "private_key = PrivateKey(little_endian_to_int(hash256(b'jimmy@programmingblockchain.com Jimmy Song')))\n",
    "hex_tx = '01000000000101ec13653fae5706168e92d9a3e4d98044d4af001a3081a70e57865caf94e0b7ee0000000000ffffffff014c400f00000000001600146e13971913b9aa89659a9f53d327baa8826f2d750000000000'\n",
    "hex_witness_script = '69522102c3700ce19990bccbfa1e072d287049d7c0e07ed15c9aeac84bbc2c38ea667a5d21031dbe3aff7b9ad64e2612b8b15e9f5e4a3130663a526df91abfb7b1bd16de5d6e2102618b836fc32578538bb8440f5e89d916844dd828981a9bc33f9a736638b538d253ae'\n",
    "hex_sig2 = '3045022100e9fa8587958b540ac71f128629e3019f07b14b0e5eb248afb3d4f92ddfee9f6002201bda6dc9297471419a00d86899f753d6c015e42d51df9aa1d8b5dc53f595d9e401'\n",
    "stream = BytesIO(bytes.fromhex(hex_tx))\n",
    "tx_obj = Tx.parse(stream, testnet=True)\n",
    "stream = BytesIO(bytes.fromhex(hex_witness_script))\n",
    "witness_script = WitnessScript.parse(stream)\n",
    "sig2 = bytes.fromhex(hex_sig2)\n",
    "sig1 = tx_obj.get_sig_p2wsh_multisig(0, private_key, witness_script)\n",
    "tx_obj.finalize_p2sh_p2wsh_multisig_input(0, [sig1, sig2], witness_script)\n",
    "print(tx_obj.serialize().hex())"
   ]
  },
  {
   "cell_type": "markdown",
   "metadata": {},
   "source": [
    "### Exercise 9\n",
    "\n",
    "#### Create a p2sh-p2wsh spending transaction\n",
    "\n",
    "You have been provided with an unsigned transaction, witness script and 1 of the 2 required signatures. Sign and broadcast the transaction!\n",
    "02c3700ce19990bccbfa1e072d287049d7c0e07ed15c9aeac84bbc2c38ea667a5d,2N6x1Y58uwZ7oYAZSeYveaYHGKHvotUUfyZ,010000000001010b73fcaf0ca900bcc86017773be47d6533a3da445e962b0c708d012fb025943d0000000000ffffffff014c494c00000000001600146e13971913b9aa89659a9f53d327baa8826f2d750000000000,3045022100e220b8ebb30bdd78135d4f397881e7754453c3470e6eaa016c1db66ed2106ecf022035d496ca50a6bd5a494e5250c1ed1797faa7afa496aa0599f759d596ed74ef4601\n"
   ]
  },
  {
   "cell_type": "code",
   "execution_count": 16,
   "metadata": {},
   "outputs": [
    {
     "name": "stdout",
     "output_type": "stream",
     "text": [
      "010000000001010b73fcaf0ca900bcc86017773be47d6533a3da445e962b0c708d012fb025943d0000000023220020df9f2354c7040acd8ab725dc356bfafcae5b291e4d3f30685aede1d2a5d35dacffffffff014c494c00000000001600146e13971913b9aa89659a9f53d327baa8826f2d750400483045022100d634e45c226811e12918413c914393d4f631812111030cb91344920e4ced03e50220335f404884d2b33fa0fa4149e77ec47b41a0c3ec5b4c91fcf2a70a2e92ee83a701483045022100e220b8ebb30bdd78135d4f397881e7754453c3470e6eaa016c1db66ed2106ecf022035d496ca50a6bd5a494e5250c1ed1797faa7afa496aa0599f759d596ed74ef460169522102c3700ce19990bccbfa1e072d287049d7c0e07ed15c9aeac84bbc2c38ea667a5d21031dbe3aff7b9ad64e2612b8b15e9f5e4a3130663a526df91abfb7b1bd16de5d6e2102618b836fc32578538bb8440f5e89d916844dd828981a9bc33f9a736638b538d253ae00000000\n"
     ]
    }
   ],
   "source": [
    "# Exercise 9\n",
    "\n",
    "from io import BytesIO\n",
    "from ecc import PrivateKey\n",
    "from helper import decode_bech32, hash256, little_endian_to_int\n",
    "from network import SimpleNode\n",
    "from script import Script, WitnessScript\n",
    "from tx import Tx, TxIn, TxOut\n",
    "hex_tx = '010000000001010b73fcaf0ca900bcc86017773be47d6533a3da445e962b0c708d012fb025943d0000000000ffffffff014c494c00000000001600146e13971913b9aa89659a9f53d327baa8826f2d750000000000'\n",
    "hex_witness_script = '69522102c3700ce19990bccbfa1e072d287049d7c0e07ed15c9aeac84bbc2c38ea667a5d21031dbe3aff7b9ad64e2612b8b15e9f5e4a3130663a526df91abfb7b1bd16de5d6e2102618b836fc32578538bb8440f5e89d916844dd828981a9bc33f9a736638b538d253ae'\n",
    "hex_sig2 = '3045022100e220b8ebb30bdd78135d4f397881e7754453c3470e6eaa016c1db66ed2106ecf022035d496ca50a6bd5a494e5250c1ed1797faa7afa496aa0599f759d596ed74ef4601'\n",
    "passphrase = b'jimmy@programmingblockchain.com Jimmy Song'\n",
    "private_key = PrivateKey(little_endian_to_int(hash256(passphrase)))\n",
    "# turn the hex raw transaction into a stream\n",
    "stream = BytesIO(bytes.fromhex(hex_tx))\n",
    "# parse the transaction, testnet=True\n",
    "tx_obj = Tx.parse(stream, testnet=True)\n",
    "# turn the hex witness script into a stream\n",
    "stream = BytesIO(bytes.fromhex(hex_witness_script))\n",
    "# parse the witness script using Script.parse\n",
    "witness_script = WitnessScript.parse(stream)\n",
    "# convert the signature to bytes\n",
    "sig2 = bytes.fromhex(hex_sig2)\n",
    "# get the other signature using get_sig_p2wsh_multisig for input 0\n",
    "sig1 = tx_obj.get_sig_p2wsh_multisig(0, private_key, witness_script=witness_script)\n",
    "# finalize the transaction with the two signatures\n",
    "tx_obj.finalize_p2sh_p2wsh_multisig_input(0, [sig1, sig2], witness_script=witness_script)\n",
    "# print the hex to see what it looks like\n",
    "print(tx_obj.serialize().hex())"
   ]
  }
 ],
 "metadata": {
  "kernelspec": {
   "display_name": "Python 3",
   "language": "python",
   "name": "python3"
  },
  "language_info": {
   "codemirror_mode": {
    "name": "ipython",
    "version": 3
   },
   "file_extension": ".py",
   "mimetype": "text/x-python",
   "name": "python",
   "nbconvert_exporter": "python",
   "pygments_lexer": "ipython3",
   "version": "3.6.7"
  }
 },
 "nbformat": 4,
 "nbformat_minor": 2
}
