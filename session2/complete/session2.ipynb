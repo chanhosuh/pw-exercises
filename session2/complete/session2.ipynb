{
 "cells": [
  {
   "cell_type": "markdown",
   "metadata": {
    "slideshow": {
     "slide_type": "slide"
    }
   },
   "source": [
    "![](/files/programmingwallet.png)\n"
   ]
  },
  {
   "cell_type": "markdown",
   "metadata": {
    "slideshow": {
     "slide_type": "slide"
    }
   },
   "source": [
    "![](/files/session2/s2.png)\n"
   ]
  },
  {
   "cell_type": "markdown",
   "metadata": {
    "slideshow": {
     "slide_type": "slide"
    }
   },
   "source": [
    "# Session 2 Objectives\n",
    "* Learn pay-to-witness-script-hash\n",
    "* Learn how to make p2wsh addresses\n",
    "* Redeem a pay-to-witness-script-hash multisig outputs\n"
   ]
  },
  {
   "cell_type": "markdown",
   "metadata": {
    "slideshow": {
     "slide_type": "slide"
    }
   },
   "source": [
    "# Pay to Witness Script Hash (p2wsh)\n"
   ]
  },
  {
   "cell_type": "markdown",
   "metadata": {
    "slideshow": {
     "slide_type": "slide"
    }
   },
   "source": [
    "## Pay-to-witness-script-hash (p2wsh)\n",
    "* Like p2sh, but not malleable\n",
    "* Requires version 0 and a 32-byte hash\n",
    "* When redeeming, the last element must be the WitnessScript\n",
    "* The Witness Script's sha256 must equal the 32-byte hash\n"
   ]
  },
  {
   "cell_type": "markdown",
   "metadata": {
    "slideshow": {
     "slide_type": "slide"
    }
   },
   "source": [
    "## p2pkh\n",
    "![](/files/session2/p2wsh-old.png)\n"
   ]
  },
  {
   "cell_type": "markdown",
   "metadata": {
    "slideshow": {
     "slide_type": "slide"
    }
   },
   "source": [
    "## p2wpkh\n",
    "![](/files/session2/p2wsh-new.png)\n"
   ]
  },
  {
   "cell_type": "markdown",
   "metadata": {
    "slideshow": {
     "slide_type": "slide"
    }
   },
   "source": [
    "## Pay to Witness Script Hash (aka \"Native Segwit\")\n",
    "* Acts like p2sh but puts the ScriptSig data in another place\n",
    "* New type of ScriptPubKey (0 and 32 bytes)\n",
    "* Different Data is sent to pre-Segwit nodes vs Segwit nodes\n"
   ]
  },
  {
   "cell_type": "markdown",
   "metadata": {
    "slideshow": {
     "slide_type": "slide"
    }
   },
   "source": [
    "## Non-Segwit Nodes\n",
    "![](/files/session2/p2wsh-old-nodes.png)\n"
   ]
  },
  {
   "cell_type": "markdown",
   "metadata": {
    "slideshow": {
     "slide_type": "slide"
    }
   },
   "source": [
    "## Segwit Nodes\n",
    "![](/files/session2/p2wsh-new-nodes.png)\n"
   ]
  },
  {
   "cell_type": "markdown",
   "metadata": {
    "slideshow": {
     "slide_type": "slide"
    }
   },
   "source": [
    "## Combined\n",
    "![](/files/session2/p2wsh-combined.png)\n"
   ]
  },
  {
   "cell_type": "markdown",
   "metadata": {
    "slideshow": {
     "slide_type": "slide"
    }
   },
   "source": [
    "## Witness\n",
    "![](/files/session2/p2wsh-witness.png)\n"
   ]
  },
  {
   "cell_type": "markdown",
   "metadata": {
    "slideshow": {
     "slide_type": "slide"
    }
   },
   "source": [
    "## WitnessScript\n",
    "![](/files/session2/p2wsh-witnessscript.png)\n"
   ]
  },
  {
   "cell_type": "code",
   "execution_count": null,
   "metadata": {
    "slideshow": {
     "slide_type": "slide"
    }
   },
   "outputs": [],
   "source": [
    "from IPython.display import YouTubeVideo\n",
    "YouTubeVideo('39g9OS4H-no')"
   ]
  },
  {
   "cell_type": "markdown",
   "metadata": {
    "slideshow": {
     "slide_type": "slide"
    }
   },
   "source": [
    "## Differences with p2wpkh\n",
    "* Witness is not just the signature and pubkey\n",
    "* Last element of Witness is required to be the WitnessScript\n",
    "* WitnessScript's sha256 must be the 32-bytes of the ScriptPubKey\n",
    "* Addresses are longer (32-bytes vs 20-bytes encoded)\n",
    "* Much more flexible (p2wsh is to p2wpkh as p2sh is to p2pkh)\n",
    "* ScriptCode = WitnessScript, not the p2pkh\n"
   ]
  },
  {
   "cell_type": "code",
   "execution_count": null,
   "metadata": {
    "slideshow": {
     "slide_type": "skip"
    }
   },
   "outputs": [],
   "source": [
    "############## PLEASE RUN THIS CELL FIRST! ###################\n",
    "\n",
    "# import everything and define a test runner function\n",
    "from importlib import reload\n",
    "from helper import run\n",
    "import ecc, script, tx"
   ]
  },
  {
   "cell_type": "markdown",
   "metadata": {
    "slideshow": {
     "slide_type": "slide"
    }
   },
   "source": [
    "### Exercise 1\n",
    "\n",
    "\n",
    "\n",
    "\n",
    "#### Make [this test](/edit/session2/tx.py) pass: `tx.py:TxTest:test_verify_p2wsh`"
   ]
  },
  {
   "cell_type": "code",
   "execution_count": null,
   "metadata": {},
   "outputs": [],
   "source": [
    "# Exercise 1\n",
    "\n",
    "reload(tx)\n",
    "run(tx.TxTest('test_verify_p2wsh'))"
   ]
  },
  {
   "cell_type": "code",
   "execution_count": null,
   "metadata": {
    "slideshow": {
     "slide_type": "slide"
    }
   },
   "outputs": [],
   "source": [
    "# example for creating a p2wsh bech32 address\n",
    "from ecc import S256Point\n",
    "from helper import encode_bech32_checksum, encode_varstr, sha256\n",
    "from script import Script, WitnessScript\n",
    "sec1_hex = '0375e00eb72e29da82b89367947f29ef34afb75e8654f6ea368e0acdfd92976b7c'\n",
    "sec2_hex = '03a1b26313f430c4b15bb1fdce663207659d8cac749a0e53d70eff01874496feff'\n",
    "sec3_hex = '03c96d495bfdd5ba4145e3e046fee45e84a8a48ad05bd8dbb395c011a32cf9f880'\n",
    "sec1 = bytes.fromhex(sec1_hex)\n",
    "sec2 = bytes.fromhex(sec2_hex)\n",
    "sec3 = bytes.fromhex(sec3_hex)\n",
    "witness_script = WitnessScript([0x52, sec1, sec2, sec3, 0x53, 0xae])  # 2-of-3 multisig\n",
    "s256 = sha256(witness_script.raw_serialize())\n",
    "s = Script([0, s256])\n",
    "raw = s.raw_serialize()\n",
    "bech32 = encode_bech32_checksum(raw, testnet=False)\n",
    "print(bech32)"
   ]
  },
  {
   "cell_type": "markdown",
   "metadata": {
    "slideshow": {
     "slide_type": "slide"
    }
   },
   "source": [
    "### Exercise 2\n",
    "#### Create a testnet 2-of-2 multisig p2wsh bech32 address using your private key from the Session 0 and this SEC public key:\n",
    "`031dbe3aff7b9ad64e2612b8b15e9f5e4a3130663a526df91abfb7b1bd16de5d6e`\n",
    "\n",
    "Fill in the spreadsheet with the address.\n"
   ]
  },
  {
   "cell_type": "code",
   "execution_count": null,
   "metadata": {},
   "outputs": [],
   "source": [
    "# Exercise 2\n",
    "\n",
    "from ecc import PrivateKey\n",
    "from helper import encode_bech32_checksum, encode_varstr, hash256, little_endian_to_int, sha256\n",
    "from script import Script, WitnessScript\n",
    "sec2 = bytes.fromhex('031dbe3aff7b9ad64e2612b8b15e9f5e4a3130663a526df91abfb7b1bd16de5d6e')\n",
    "# use the same passphrase from session 0\n",
    "passphrase = b'jimmy@programmingblockchain.com Jimmy Song'\n",
    "secret = little_endian_to_int(hash256(passphrase))\n",
    "# create a private key using the secret\n",
    "private_key = PrivateKey(secret)\n",
    "# get the public key using the .point property\n",
    "public_key = private_key.point\n",
    "# get the compressed SEC format of the point\n",
    "sec1 = public_key.sec()\n",
    "# create the WitnessScript 0x52 (OP_2), sec1, sec2, 0x52, 0xae (OP_CHECKMULTISIG)\n",
    "witness_script = WitnessScript([0x52, sec1, sec2, 0x52, 0xae])\n",
    "# get the sha256 of the raw serialization of the script\n",
    "s256 = sha256(witness_script.raw_serialize())\n",
    "# create another script of 0 (OP_0) and the hash\n",
    "s = Script([0, s256])\n",
    "# get the raw serialization of the second script you just made\n",
    "raw = s.raw_serialize()\n",
    "# encode to bech32 using encode_bech32_checksum, remember testnet=True\n",
    "bech32 = encode_bech32_checksum(raw, testnet=True)\n",
    "# print the address\n",
    "print(bech32)"
   ]
  },
  {
   "cell_type": "markdown",
   "metadata": {
    "slideshow": {
     "slide_type": "slide"
    }
   },
   "source": [
    "### Exercise 3\n",
    "\n",
    "\n",
    "\n",
    "\n",
    "#### Make [this test](/edit/session2/script.py) pass: `script.py:WitnessScriptTest:test_address`"
   ]
  },
  {
   "cell_type": "code",
   "execution_count": null,
   "metadata": {},
   "outputs": [],
   "source": [
    "# Exercise 3\n",
    "\n",
    "reload(script)\n",
    "run(script.WitnessScriptTest('test_address'))"
   ]
  },
  {
   "cell_type": "code",
   "execution_count": null,
   "metadata": {
    "slideshow": {
     "slide_type": "slide"
    }
   },
   "outputs": [],
   "source": [
    "# Example for signing a p2wsh input\n",
    "from io import BytesIO\n",
    "from ecc import PrivateKey\n",
    "from helper import hash256, little_endian_to_int, SIGHASH_ALL\n",
    "from script import Script\n",
    "from tx import Tx\n",
    "private_key = PrivateKey(little_endian_to_int(hash256(b'jimmy@programmingblockchain.com Jimmy Song')))\n",
    "sec1 = private_key.point.sec()\n",
    "sec2 = bytes.fromhex('031dbe3aff7b9ad64e2612b8b15e9f5e4a3130663a526df91abfb7b1bd16de5d6e')\n",
    "raw_tx_hex = '01000000000101dc60d3cc9fbfbfeae68031ee987d674315e3ec6fa5a910d913d1d70cc24bf6a70000000000ffffffff014c400f0000000000160014092ab91b37b4182061d9c01199aaac029f89561f0000000000'\n",
    "input_index = 0\n",
    "stream = BytesIO(bytes.fromhex(raw_tx_hex))\n",
    "tx_obj = Tx.parse(stream, testnet=True)\n",
    "witness_script = WitnessScript([0x52, sec1, sec2, 0x52, 0xae])\n",
    "z = tx_obj.sig_hash_bip143(input_index, witness_script=witness_script)\n",
    "der = private_key.sign(z).der()\n",
    "sig = der + SIGHASH_ALL.to_bytes(1, 'big')\n",
    "print(sig.hex())"
   ]
  },
  {
   "cell_type": "markdown",
   "metadata": {
    "slideshow": {
     "slide_type": "slide"
    }
   },
   "source": [
    "### Exercise 4\n",
    "\n",
    "\n",
    "\n",
    "\n",
    "#### Make [this test](/edit/session2/tx.py) pass: `tx.py:TxTest:test_sign_p2wsh_multisig`"
   ]
  },
  {
   "cell_type": "code",
   "execution_count": null,
   "metadata": {},
   "outputs": [],
   "source": [
    "# Exercise 4\n",
    "\n",
    "reload(tx)\n",
    "run(tx.TxTest('test_sign_p2wsh_multisig'))"
   ]
  },
  {
   "cell_type": "code",
   "execution_count": null,
   "metadata": {
    "slideshow": {
     "slide_type": "slide"
    }
   },
   "outputs": [],
   "source": [
    "# Example for signing a p2wsh multisig transaction\n",
    "from ecc import PrivateKey\n",
    "from helper import decode_bech32, hash256, little_endian_to_int\n",
    "from script import P2WPKHScriptPubKey\n",
    "from tx import Tx, TxIn, TxOut\n",
    "private_key = PrivateKey(little_endian_to_int(hash256(b'jimmy@programmingblockchain.com Jimmy Song')))\n",
    "sec1 = private_key.point.sec()\n",
    "sec2 = bytes.fromhex('031dbe3aff7b9ad64e2612b8b15e9f5e4a3130663a526df91abfb7b1bd16de5d6e')\n",
    "witness_script = WitnessScript([0x52, sec1, sec2, 0x52, 0xae])\n",
    "sig2 = bytes.fromhex('304402206f68a4c8731b1981fde3ae2f8ac3e21dbb42903853a3cecf18c30c31d36b510102207e5eba87f5d9134307d0f0cfb3eb065b18bf8a35df9a8b10538586328d1c7aa101')\n",
    "prev_tx_hex = 'a7f64bc20cd7d113d910a9a56fece31543677d98ee3180e6eabfbf9fccd360dc'\n",
    "prev_tx = bytes.fromhex(prev_tx_hex)\n",
    "prev_index = 0\n",
    "fee = 500\n",
    "tx_in = TxIn(prev_tx, prev_index)\n",
    "amount = tx_in.value(testnet=True) - fee\n",
    "target_address = 'tb1qdcfewxgnhx4gjev6nafaxfa64zpx7tt470r3au'\n",
    "_, _, h160 = decode_bech32(target_address)\n",
    "script_pubkey = P2WPKHScriptPubKey(h160)\n",
    "tx_out = TxOut(amount, script_pubkey)\n",
    "tx_obj = Tx(1, [tx_in], [tx_out], 0, testnet=True, segwit=True)\n",
    "sig1 = tx_obj.get_sig_segwit(0, private_key, witness_script=witness_script)\n",
    "tx_in.finalize_p2wsh_multisig([sig1, sig2], witness_script)\n",
    "print(tx_obj.serialize().hex())"
   ]
  },
  {
   "cell_type": "markdown",
   "metadata": {
    "slideshow": {
     "slide_type": "slide"
    }
   },
   "source": [
    "### Exercise 5\n",
    "\n",
    "#### Create a p2wsh spending transaction\n",
    "\n",
    "You have been provided with an unsigned transaction, witness script and 1 of the 2 required signatures. Sign and broadcast the transaction!\n",
    "\n"
   ]
  },
  {
   "cell_type": "code",
   "execution_count": null,
   "metadata": {},
   "outputs": [],
   "source": [
    "# Exercise 5\n",
    "\n",
    "from io import BytesIO\n",
    "from ecc import PrivateKey\n",
    "from helper import decode_bech32, hash256, little_endian_to_int\n",
    "from network import SimpleNode\n",
    "from script import Script, WitnessScript\n",
    "from tx import Tx, TxIn, TxOut\n",
    "hex_tx = '01000000000101dc60d3cc9fbfbfeae68031ee987d674315e3ec6fa5a910d913d1d70cc24bf6a70000000000ffffffff014c400f00000000001600146e13971913b9aa89659a9f53d327baa8826f2d750000000000'\n",
    "hex_sig2 = '304402206f68a4c8731b1981fde3ae2f8ac3e21dbb42903853a3cecf18c30c31d36b510102207e5eba87f5d9134307d0f0cfb3eb065b18bf8a35df9a8b10538586328d1c7aa101'\n",
    "hex_witness_script = '47522102c3700ce19990bccbfa1e072d287049d7c0e07ed15c9aeac84bbc2c38ea667a5d21031dbe3aff7b9ad64e2612b8b15e9f5e4a3130663a526df91abfb7b1bd16de5d6e52ae'\n",
    "passphrase = b'jimmy@programmingblockchain.com Jimmy Song'\n",
    "private_key = PrivateKey(little_endian_to_int(hash256(passphrase)))\n",
    "# turn the hex raw transaction into a stream\n",
    "stream = BytesIO(bytes.fromhex(hex_tx))\n",
    "# parse the transaction, testnet=True\n",
    "tx_obj = Tx.parse(stream, testnet=True)\n",
    "# turn the hex witness script into a stream\n",
    "stream = BytesIO(bytes.fromhex(hex_witness_script))\n",
    "# parse the witness script using Script.parse\n",
    "witness_script = WitnessScript.parse(stream)\n",
    "# convert the signature to bytes\n",
    "sig2 = bytes.fromhex(hex_sig2)\n",
    "# get the other signature using get_sig_segwit for input 0\n",
    "sig1 = tx_obj.get_sig_segwit(0, private_key, witness_script=witness_script)\n",
    "# finalize the first input with the two signatures\n",
    "tx_obj.tx_ins[0].finalize_p2wsh_multisig([sig1, sig2], witness_script=witness_script)\n",
    "# print the hex to see what it looks like\n",
    "print(tx_obj.serialize().hex())"
   ]
  },
  {
   "cell_type": "markdown",
   "metadata": {
    "slideshow": {
     "slide_type": "slide"
    }
   },
   "source": [
    "# p2sh-p2wsh\n"
   ]
  },
  {
   "cell_type": "markdown",
   "metadata": {
    "slideshow": {
     "slide_type": "slide"
    }
   },
   "source": [
    "## What is P2SH-P2WPKH?\n",
    "* Backwards-compatible p2wpkh\n",
    "* Uses p2sh to wrap more complicated segwit (p2wsh)\n",
    "* Looks like p2sh addresses which start with a 3\n"
   ]
  },
  {
   "cell_type": "markdown",
   "metadata": {
    "slideshow": {
     "slide_type": "slide"
    }
   },
   "source": [
    "## p2pkh\n",
    "![](/files/session2/p2sh-p2wsh-old.png)\n"
   ]
  },
  {
   "cell_type": "markdown",
   "metadata": {
    "slideshow": {
     "slide_type": "slide"
    }
   },
   "source": [
    "## p2wpkh\n",
    "![](/files/session2/p2sh-p2wsh-new.png)\n"
   ]
  },
  {
   "cell_type": "markdown",
   "metadata": {
    "slideshow": {
     "slide_type": "slide"
    }
   },
   "source": [
    "## P2SH-P2WSH (aka \"Nested Segwit\")\n",
    "* Acts like p2wsh but looks like p2sh\n",
    "* ScriptPubKey looks exactly like p2sh\n",
    "* Different Data is sent to pre-Segwit nodes vs Segwit nodes\n"
   ]
  },
  {
   "cell_type": "markdown",
   "metadata": {
    "slideshow": {
     "slide_type": "slide"
    }
   },
   "source": [
    "## Non-Segwit Nodes\n",
    "![](/files/session2/p2sh-p2wsh-old-nodes.png)\n"
   ]
  },
  {
   "cell_type": "markdown",
   "metadata": {
    "slideshow": {
     "slide_type": "slide"
    }
   },
   "source": [
    "## Segwit Nodes\n",
    "![](/files/session2/p2sh-p2wsh-new-nodes.png)\n"
   ]
  },
  {
   "cell_type": "markdown",
   "metadata": {
    "slideshow": {
     "slide_type": "slide"
    }
   },
   "source": [
    "## Combined\n",
    "![](/files/session2/p2sh-p2wsh-combined.png)\n"
   ]
  },
  {
   "cell_type": "markdown",
   "metadata": {
    "slideshow": {
     "slide_type": "slide"
    }
   },
   "source": [
    "## RedeemScript\n",
    "![](/files/session2/p2sh-p2wsh-redeemscript.png)\n"
   ]
  },
  {
   "cell_type": "markdown",
   "metadata": {
    "slideshow": {
     "slide_type": "slide"
    }
   },
   "source": [
    "## Witness\n",
    "![](/files/session2/p2sh-p2wsh-witness.png)\n"
   ]
  },
  {
   "cell_type": "markdown",
   "metadata": {
    "slideshow": {
     "slide_type": "slide"
    }
   },
   "source": [
    "## WitnessScript\n",
    "![](/files/session2/p2sh-p2wsh-witnessscript.png)\n"
   ]
  },
  {
   "cell_type": "code",
   "execution_count": null,
   "metadata": {
    "slideshow": {
     "slide_type": "slide"
    }
   },
   "outputs": [],
   "source": [
    "from IPython.display import YouTubeVideo\n",
    "YouTubeVideo('ZROtlZlZHZs')"
   ]
  },
  {
   "cell_type": "code",
   "execution_count": null,
   "metadata": {
    "slideshow": {
     "slide_type": "slide"
    }
   },
   "outputs": [],
   "source": [
    "# Example of generating a p2sh-p2wsh address\n",
    "from ecc import S256Point\n",
    "from helper import encode_base58_checksum, hash160, sha256\n",
    "from script import Script, WitnessScript, P2WSHScriptPubKey\n",
    "sec1_hex = '026ccfb8061f235cc110697c0bfb3afb99d82c886672f6b9b5393b25a434c0cbf3'\n",
    "sec2_hex = '03befa190c0c22e2f53720b1be9476dcf11917da4665c44c9c71c3a2d28a933c35'\n",
    "sec3_hex = '02be46dc245f58085743b1cc37c82f0d63a960efa43b5336534275fc469b49f4ac'\n",
    "sec1 = bytes.fromhex(sec1_hex)\n",
    "sec2 = bytes.fromhex(sec2_hex)\n",
    "sec3 = bytes.fromhex(sec3_hex)\n",
    "witness_script = WitnessScript([0x52, sec1, sec2, sec3, 0x53, 0xae])  # 2-of-3 multisig\n",
    "s256 = sha256(witness_script.raw_serialize())\n",
    "redeem_script = P2WSHScriptPubKey(s256)\n",
    "print(redeem_script.p2sh_address(testnet=True))"
   ]
  },
  {
   "cell_type": "markdown",
   "metadata": {
    "slideshow": {
     "slide_type": "slide"
    }
   },
   "source": [
    "### Exercise 6\n",
    "#### Create a testnet 2-of-3 multisig p2sh-p2wsh address with your private key and the two sec pubkeys provided.\n",
    "\n"
   ]
  },
  {
   "cell_type": "code",
   "execution_count": null,
   "metadata": {},
   "outputs": [],
   "source": [
    "# Exercise 6\n",
    "\n",
    "from ecc import PrivateKey\n",
    "from helper import encode_varstr, hash160, hash256, sha256, little_endian_to_int\n",
    "from script import P2WSHScriptPubKey, Script\n",
    "sec2 = bytes.fromhex('031dbe3aff7b9ad64e2612b8b15e9f5e4a3130663a526df91abfb7b1bd16de5d6e')\n",
    "sec3 = bytes.fromhex('02618b836fc32578538bb8440f5e89d916844dd828981a9bc33f9a736638b538d2')\n",
    "# use the same passphrase from session 0\n",
    "passphrase = b'jimmy@programmingblockchain.com Jimmy Song'\n",
    "secret = little_endian_to_int(hash256(passphrase))\n",
    "# create a private key using the secret\n",
    "private_key = PrivateKey(secret)\n",
    "# get the sec using the .point property\n",
    "sec1 = private_key.point.sec()\n",
    "# create a WitnessScript that's 2 of 3 multisig\n",
    "witness_script = WitnessScript([0x52, sec1, sec2, sec3, 0x53, 0xae])\n",
    "# get the sha256 of the raw serialization of the witness script\n",
    "s256 = sha256(witness_script.raw_serialize())\n",
    "# make the RedeemScript using the P2WSHScriptPubKey function on the sha256\n",
    "redeem_script = P2WSHScriptPubKey(s256)\n",
    "# print the RedeemScript's p2sh address\n",
    "print(redeem_script.p2sh_address(testnet=True))"
   ]
  },
  {
   "cell_type": "markdown",
   "metadata": {
    "slideshow": {
     "slide_type": "slide"
    }
   },
   "source": [
    "### Exercise 7\n",
    "\n",
    "\n",
    "\n",
    "\n",
    "#### Make [this test](/edit/session2/script.py) pass: `script.py:WitnessScriptTest:test_p2sh_address`"
   ]
  },
  {
   "cell_type": "code",
   "execution_count": null,
   "metadata": {},
   "outputs": [],
   "source": [
    "# Exercise 7\n",
    "\n",
    "reload(script)\n",
    "run(script.WitnessScriptTest('test_p2sh_address'))"
   ]
  },
  {
   "cell_type": "code",
   "execution_count": null,
   "metadata": {
    "slideshow": {
     "slide_type": "slide"
    }
   },
   "outputs": [],
   "source": [
    "# Example for signing a p2sh-p2wsh input\n",
    "from io import BytesIO\n",
    "from ecc import PrivateKey\n",
    "from helper import hash256, little_endian_to_int, SIGHASH_ALL\n",
    "from script import Script, WitnessScript\n",
    "from tx import Tx\n",
    "private_key = PrivateKey(little_endian_to_int(hash256(b'jimmy@programmingblockchain.com Jimmy Song')))\n",
    "hex_tx = '01000000000101ec13653fae5706168e92d9a3e4d98044d4af001a3081a70e57865caf94e0b7ee0000000000ffffffff014c400f00000000001600146e13971913b9aa89659a9f53d327baa8826f2d750000000000'\n",
    "hex_witness_script = '69522102c3700ce19990bccbfa1e072d287049d7c0e07ed15c9aeac84bbc2c38ea667a5d21031dbe3aff7b9ad64e2612b8b15e9f5e4a3130663a526df91abfb7b1bd16de5d6e2102618b836fc32578538bb8440f5e89d916844dd828981a9bc33f9a736638b538d253ae'\n",
    "stream = BytesIO(bytes.fromhex(hex_tx))\n",
    "tx_obj = Tx.parse(stream, testnet=True)\n",
    "stream = BytesIO(bytes.fromhex(hex_witness_script))\n",
    "witness_script = WitnessScript.parse(stream)\n",
    "z = tx_obj.sig_hash_bip143(input_index, witness_script=witness_script)\n",
    "der = private_key.sign(z).der()\n",
    "sig = der + SIGHASH_ALL.to_bytes(1, 'big')\n",
    "print(sig.hex())"
   ]
  },
  {
   "cell_type": "markdown",
   "metadata": {
    "slideshow": {
     "slide_type": "slide"
    }
   },
   "source": [
    "### Exercise 8\n",
    "\n",
    "\n",
    "\n",
    "\n",
    "#### Make [this test](/edit/session2/tx.py) pass: `tx.py:TxTest:test_sign_p2sh_p2wsh_multisig`"
   ]
  },
  {
   "cell_type": "code",
   "execution_count": null,
   "metadata": {},
   "outputs": [],
   "source": [
    "# Exercise 8\n",
    "\n",
    "reload(tx)\n",
    "run(tx.TxTest('test_sign_p2sh_p2wsh_multisig'))"
   ]
  },
  {
   "cell_type": "code",
   "execution_count": null,
   "metadata": {
    "slideshow": {
     "slide_type": "slide"
    }
   },
   "outputs": [],
   "source": [
    "# Example for signing a p2sh-p2wsh multisig transaction\n",
    "from ecc import PrivateKey\n",
    "from helper import decode_bech32, hash256, little_endian_to_int\n",
    "from script import Script, WitnessScript\n",
    "from tx import Tx, TxIn, TxOut\n",
    "private_key = PrivateKey(little_endian_to_int(hash256(b'jimmy@programmingblockchain.com Jimmy Song')))\n",
    "hex_tx = '01000000000101ec13653fae5706168e92d9a3e4d98044d4af001a3081a70e57865caf94e0b7ee0000000000ffffffff014c400f00000000001600146e13971913b9aa89659a9f53d327baa8826f2d750000000000'\n",
    "hex_witness_script = '69522102c3700ce19990bccbfa1e072d287049d7c0e07ed15c9aeac84bbc2c38ea667a5d21031dbe3aff7b9ad64e2612b8b15e9f5e4a3130663a526df91abfb7b1bd16de5d6e2102618b836fc32578538bb8440f5e89d916844dd828981a9bc33f9a736638b538d253ae'\n",
    "hex_sig2 = '3045022100e9fa8587958b540ac71f128629e3019f07b14b0e5eb248afb3d4f92ddfee9f6002201bda6dc9297471419a00d86899f753d6c015e42d51df9aa1d8b5dc53f595d9e401'\n",
    "stream = BytesIO(bytes.fromhex(hex_tx))\n",
    "tx_obj = Tx.parse(stream, testnet=True)\n",
    "stream = BytesIO(bytes.fromhex(hex_witness_script))\n",
    "witness_script = WitnessScript.parse(stream)\n",
    "sig2 = bytes.fromhex(hex_sig2)\n",
    "sig1 = tx_obj.get_sig_segwit(0, private_key, witness_script=witness_script)\n",
    "tx_obj.tx_ins[0].finalize_p2sh_p2wsh_multisig([sig1, sig2], witness_script)\n",
    "print(tx_obj.serialize().hex())"
   ]
  },
  {
   "cell_type": "markdown",
   "metadata": {
    "slideshow": {
     "slide_type": "slide"
    }
   },
   "source": [
    "### Exercise 9\n",
    "\n",
    "#### Create a p2sh-p2wsh spending transaction\n",
    "\n",
    "You have been provided with an unsigned transaction, witness script and 1 of the 2 required signatures. Sign and broadcast the transaction!\n",
    "02c3700ce19990bccbfa1e072d287049d7c0e07ed15c9aeac84bbc2c38ea667a5d,2N6x1Y58uwZ7oYAZSeYveaYHGKHvotUUfyZ,010000000001010b73fcaf0ca900bcc86017773be47d6533a3da445e962b0c708d012fb025943d0000000000ffffffff014c494c00000000001600146e13971913b9aa89659a9f53d327baa8826f2d750000000000,3045022100e220b8ebb30bdd78135d4f397881e7754453c3470e6eaa016c1db66ed2106ecf022035d496ca50a6bd5a494e5250c1ed1797faa7afa496aa0599f759d596ed74ef4601\n"
   ]
  },
  {
   "cell_type": "code",
   "execution_count": null,
   "metadata": {},
   "outputs": [],
   "source": [
    "# Exercise 9\n",
    "\n",
    "from io import BytesIO\n",
    "from ecc import PrivateKey\n",
    "from helper import decode_bech32, hash256, little_endian_to_int\n",
    "from network import SimpleNode\n",
    "from script import Script, WitnessScript\n",
    "from tx import Tx, TxIn, TxOut\n",
    "hex_tx = '010000000001010b73fcaf0ca900bcc86017773be47d6533a3da445e962b0c708d012fb025943d0000000000ffffffff014c494c00000000001600146e13971913b9aa89659a9f53d327baa8826f2d750000000000'\n",
    "hex_witness_script = '69522102c3700ce19990bccbfa1e072d287049d7c0e07ed15c9aeac84bbc2c38ea667a5d21031dbe3aff7b9ad64e2612b8b15e9f5e4a3130663a526df91abfb7b1bd16de5d6e2102618b836fc32578538bb8440f5e89d916844dd828981a9bc33f9a736638b538d253ae'\n",
    "hex_sig2 = '3045022100e220b8ebb30bdd78135d4f397881e7754453c3470e6eaa016c1db66ed2106ecf022035d496ca50a6bd5a494e5250c1ed1797faa7afa496aa0599f759d596ed74ef4601'\n",
    "passphrase = b'jimmy@programmingblockchain.com Jimmy Song'\n",
    "private_key = PrivateKey(little_endian_to_int(hash256(passphrase)))\n",
    "# turn the hex raw transaction into a stream\n",
    "stream = BytesIO(bytes.fromhex(hex_tx))\n",
    "# parse the transaction, testnet=True\n",
    "tx_obj = Tx.parse(stream, testnet=True)\n",
    "# turn the hex witness script into a stream\n",
    "stream = BytesIO(bytes.fromhex(hex_witness_script))\n",
    "# parse the witness script using Script.parse\n",
    "witness_script = WitnessScript.parse(stream)\n",
    "# convert the signature to bytes\n",
    "sig2 = bytes.fromhex(hex_sig2)\n",
    "# get the other signature using get_sig_segwit for input 0\n",
    "sig1 = tx_obj.get_sig_segwit(0, private_key, witness_script=witness_script)\n",
    "# finalize the first input with the two signatures\n",
    "tx_obj.tx_ins[0].finalize_p2sh_p2wsh_multisig([sig1, sig2], witness_script=witness_script)\n",
    "# print the hex to see what it looks like\n",
    "print(tx_obj.serialize().hex())"
   ]
  }
 ],
 "metadata": {},
 "nbformat": 4,
 "nbformat_minor": 2
}
