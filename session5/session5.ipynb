{
 "cells": [
  {
   "cell_type": "code",
   "execution_count": null,
   "metadata": {},
   "outputs": [],
   "source": [
    "############## PLEASE RUN THIS CELL FIRST! ###################\n",
    "\n",
    "# import everything and define a test runner function\n",
    "from importlib import reload\n",
    "from helper import run\n",
    "import psbt"
   ]
  },
  {
   "cell_type": "markdown",
   "metadata": {},
   "source": [
    "### Exercise 1\n",
    "\n",
    "#### Create a PSBT from the p2wpkh transaction you've been sent\n"
   ]
  },
  {
   "cell_type": "code",
   "execution_count": null,
   "metadata": {},
   "outputs": [],
   "source": [
    "# Exercise 1\n",
    "\n",
    "from io import BytesIO\n",
    "from psbt import PSBT\n",
    "from tx import Tx\n",
    "hex_tx = '<fill this in>'\n",
    "# convert the hex transaction to a tx object\n",
    "\n",
    "# use the create method to create a PSBT object\n",
    "\n",
    "# serialize, turn to hex and print it to see what it looks like\n"
   ]
  },
  {
   "cell_type": "code",
   "execution_count": null,
   "metadata": {},
   "outputs": [],
   "source": [
    "# example for updating the PSBT\n",
    "from helper import read_varstr\n",
    "from io import BytesIO\n",
    "from psbt import PSBT, PSBTIn, PSBTOut, NamedHDPublicKey\n",
    "from tx import Tx\n",
    "hex_named_hd = '4f01043587cf034d513c1580000000fb406c9fec09b6957a3449d2102318717b0c0d230b657d0ebc6698abd52145eb02eaf3397fea02c5dac747888a9e535eaf3c7e7cb9d5f2da77ddbdd943592a14af10fbfef36f2c0000800100008000000080'\n",
    "stream = BytesIO(bytes.fromhex(hex_named_hd))\n",
    "key = read_varstr(stream)\n",
    "named_hd = NamedHDPublicKey.parse(key, stream)\n",
    "hex_psbt = '70736274ff0100770100000001192f88eeabc44ac213604adbb5b699678815d24b718b5940f5b1b1853f0887480100000000ffffffff0220a10700000000001976a91426d5d464d148454c76f7095fdf03afc8bc8d82c388ac2c9f0700000000001976a9144df14c8c8873451290c53e95ebd1ee8fe488f0ed88ac0000000000000000'\n",
    "psbt_obj = PSBT.parse(BytesIO(bytes.fromhex(hex_psbt)))\n",
    "psbt_obj.tx_obj.testnet = True\n",
    "tx_lookup = psbt_obj.tx_obj.get_input_tx_lookup()\n",
    "pubkey_lookup = named_hd.bip44_lookup()\n",
    "psbt_obj.update(tx_lookup, pubkey_lookup)\n",
    "print(psbt_obj.serialize().hex())"
   ]
  },
  {
   "cell_type": "markdown",
   "metadata": {},
   "source": [
    "### Exercise 2\n",
    "\n",
    "\n",
    "\n",
    "\n",
    "#### Make [this test](/edit/session5/psbt.py) pass: `psbt.py:PSBTTest:test_update_p2wpkh`"
   ]
  },
  {
   "cell_type": "code",
   "execution_count": null,
   "metadata": {},
   "outputs": [],
   "source": [
    "# Exercise 2\n",
    "\n",
    "reload(psbt)\n",
    "run(psbt.PSBTTest('test_update_p2wpkh'))"
   ]
  },
  {
   "cell_type": "markdown",
   "metadata": {},
   "source": [
    "### Exercise 3\n",
    "\n",
    "#### Update the PSBT that you got.\n",
    "\n"
   ]
  },
  {
   "cell_type": "code",
   "execution_count": null,
   "metadata": {},
   "outputs": [],
   "source": [
    "# Exercise 3\n",
    "\n",
    "from helper import read_varstr\n",
    "from hd import HDPrivateKey\n",
    "from io import BytesIO\n",
    "from psbt import PSBT, PSBTIn, PSBTOut, NamedHDPublicKey\n",
    "from tx import Tx\n",
    "mnemonic = 'abandon abandon abandon abandon abandon abandon abandon abandon abandon abandon abandon about'\n",
    "passphrase = b'<fill this in>'\n",
    "path = \"m/44'/1'/0'\"\n",
    "hd_priv = HDPrivateKey.from_mnemonic(mnemonic, passphrase, testnet=True)\n",
    "hex_psbt = '<fill this in>'\n",
    "psbt_obj = PSBT.parse(BytesIO(bytes.fromhex(hex_psbt)))\n",
    "psbt_obj.tx_obj.testnet = True\n",
    "# create the NamedHDPublicKey using the HDPrivateKey and path\n",
    "\n",
    "# get the tx lookup using the psbt_obj's tx_object's get_input_tx_lookup method\n",
    "\n",
    "# get the pubkey lookup using the bip44_lookup method\n",
    "\n",
    "# update the psbt object with the transaction lookup and the pubkey lookup\n",
    "\n",
    "# print the serialized hex to see what it looks like\n"
   ]
  },
  {
   "cell_type": "markdown",
   "metadata": {},
   "source": [
    "### Exercise 4\n",
    "\n",
    "\n",
    "\n",
    "\n",
    "#### Make [this test](/edit/session5/psbt.py) pass: `psbt.py:PSBTTest:test_sign_p2wpkh`"
   ]
  },
  {
   "cell_type": "code",
   "execution_count": null,
   "metadata": {},
   "outputs": [],
   "source": [
    "# Exercise 4\n",
    "\n",
    "reload(psbt)\n",
    "run(psbt.PSBTTest('test_sign_p2wpkh'))"
   ]
  },
  {
   "cell_type": "markdown",
   "metadata": {},
   "source": [
    "### Exercise 5\n",
    "\n",
    "#### Sign the PSBT that you got.\n",
    "\n"
   ]
  },
  {
   "cell_type": "code",
   "execution_count": null,
   "metadata": {},
   "outputs": [],
   "source": [
    "# Exercise 5\n",
    "\n",
    "from helper import read_varstr\n",
    "from hd import HDPrivateKey\n",
    "from io import BytesIO\n",
    "from psbt import PSBT, PSBTIn, PSBTOut, NamedHDPublicKey\n",
    "from tx import Tx\n",
    "mnemonic = 'abandon abandon abandon abandon abandon abandon abandon abandon abandon abandon abandon about'\n",
    "passphrase = b'<fill this in>'\n",
    "path = \"m/44'/1'/0'\"\n",
    "hd_priv = HDPrivateKey.from_mnemonic(mnemonic, passphrase, testnet=True)\n",
    "hex_psbt = '<fill this in>'\n",
    "psbt_obj = PSBT.parse(BytesIO(bytes.fromhex(hex_psbt)))\n",
    "psbt_obj.tx_obj.testnet = True\n",
    "# use the HDPrivateKey to sign the PSBT\n",
    "\n",
    "# print the serialized hex to see what it looks like\n"
   ]
  },
  {
   "cell_type": "markdown",
   "metadata": {},
   "source": [
    "### Exercise 6\n",
    "\n",
    "\n",
    "\n",
    "\n",
    "#### Make [this test](/edit/session5/psbt.py) pass: `psbt.py:PSBTTest:test_finalize_p2wpkh`"
   ]
  },
  {
   "cell_type": "code",
   "execution_count": null,
   "metadata": {},
   "outputs": [],
   "source": [
    "# Exercise 6\n",
    "\n",
    "reload(psbt)\n",
    "run(psbt.PSBTTest('test_finalize_p2wpkh'))"
   ]
  },
  {
   "cell_type": "markdown",
   "metadata": {},
   "source": [
    "### Exercise 7\n",
    "\n",
    "\n",
    "\n",
    "\n",
    "#### Make [this test](/edit/session5/psbt.py) pass: `psbt.py:PSBTTest:test_final_tx_p2wpkh`"
   ]
  },
  {
   "cell_type": "code",
   "execution_count": null,
   "metadata": {},
   "outputs": [],
   "source": [
    "# Exercise 7\n",
    "\n",
    "reload(psbt)\n",
    "run(psbt.PSBTTest('test_final_tx_p2wpkh'))"
   ]
  },
  {
   "cell_type": "markdown",
   "metadata": {},
   "source": [
    "### Exercise 8\n",
    "\n",
    "#### Finalize, Extract and Broadcast the PSBT that you got.\n",
    "\n"
   ]
  },
  {
   "cell_type": "code",
   "execution_count": null,
   "metadata": {},
   "outputs": [],
   "source": [
    "# Exercise 8\n",
    "\n",
    "from psbt import PSBT\n",
    "hex_psbt = '<fill this in>'\n",
    "psbt_obj = PSBT.parse(BytesIO(bytes.fromhex(hex_psbt)))\n",
    "psbt_obj.tx_obj.testnet = True\n",
    "# finalize the PSBT\n",
    "\n",
    "# extract the transaction using final_tx\n",
    "\n",
    "# breadcast the transaction\n"
   ]
  },
  {
   "cell_type": "markdown",
   "metadata": {},
   "source": [
    "### Exercise 9\n",
    "\n",
    "\n",
    "\n",
    "\n",
    "#### Make [this test](/edit/session5/psbt.py) pass: `psbt.py:NamedHDPublicKeyTest:test_redeem_script_lookup`"
   ]
  },
  {
   "cell_type": "code",
   "execution_count": null,
   "metadata": {},
   "outputs": [],
   "source": [
    "# Exercise 9\n",
    "\n",
    "reload(psbt)\n",
    "run(psbt.NamedHDPublicKeyTest('test_redeem_script_lookup'))"
   ]
  },
  {
   "cell_type": "markdown",
   "metadata": {},
   "source": [
    "### Exercise 10\n",
    "\n",
    "\n",
    "\n",
    "\n",
    "#### Make [this test](/edit/session5/psbt.py) pass: `psbt.py:PSBTTest:test_p2sh_p2wpkh`"
   ]
  },
  {
   "cell_type": "code",
   "execution_count": null,
   "metadata": {},
   "outputs": [],
   "source": [
    "# Exercise 10\n",
    "\n",
    "reload(psbt)\n",
    "run(psbt.PSBTTest('test_p2sh_p2wpkh'))"
   ]
  },
  {
   "cell_type": "markdown",
   "metadata": {},
   "source": [
    "### Exercise 11\n",
    "\n",
    "#### You have been sent an empty p2sh-p2wpkh transaction. Update, sign, finalize, extract and broadcast the signed transaction.\n",
    "\n"
   ]
  },
  {
   "cell_type": "code",
   "execution_count": null,
   "metadata": {},
   "outputs": [],
   "source": [
    "# Exercise 11\n",
    "\n",
    "from helper import read_varstr\n",
    "from hd import HDPrivateKey\n",
    "from io import BytesIO\n",
    "from psbt import PSBT, PSBTIn, PSBTOut, NamedHDPublicKey\n",
    "from tx import Tx\n",
    "mnemonic = 'abandon abandon abandon abandon abandon abandon abandon abandon abandon abandon abandon about'\n",
    "passphrase = b'<fill this in>'\n",
    "path = \"m/44'/1'/0'\"\n",
    "hd_priv = HDPrivateKey.from_mnemonic(mnemonic, passphrase, testnet=True)\n",
    "hex_tx = '<fill this in>'\n",
    "# convert the hex transaction to a tx object\n",
    "\n",
    "# use the create method to create a PSBT object\n",
    "\n",
    "psbt_obj.tx_obj.testnet = True\n",
    "# create the NamedHDPublicKey using the HDPrivateKey and path\n",
    "\n",
    "# get the tx lookup using the psbt_obj's tx_object's get_input_tx_lookup method\n",
    "\n",
    "# get the pubkey lookup using the bip44_lookup method\n",
    "\n",
    "# get the RedeemScript lookup using the redeem_script_lookup method\n",
    "\n",
    "# update the psbt object with the transaction lookup and the pubkey lookup\n",
    "\n",
    "# use the HDPrivateKey to sign the PSBT\n",
    "\n",
    "# finalize the PSBT\n",
    "\n",
    "# extract the transaction using final_tx\n",
    "\n",
    "# breadcast the transaction\n"
   ]
  },
  {
   "cell_type": "code",
   "execution_count": null,
   "metadata": {},
   "outputs": [],
   "source": [
    "# example of updating\n",
    "from helper import serialize_binary_path, encode_varstr\n",
    "from io import BytesIO\n",
    "from psbt import PSBT\n",
    "from script import WitnessScript\n",
    "hex_psbt = '70736274ff01005e01000000015c89191dc2abf62339e0f114cb4c3bf8fb399d522d112c9afa2dc7a43759f9060200000000ffffffff01583e0f0000000000220020878ce58b26789632a24ec6b62542e5d4e844dee56a7ddce7db41618049c3928c000000004f01043587cf034d513c1580000000fb406c9fec09b6957a3449d2102318717b0c0d230b657d0ebc6698abd52145eb02eaf3397fea02c5dac747888a9e535eaf3c7e7cb9d5f2da77ddbdd943592a14af10fbfef36f2c0000800100008000000080000000'\n",
    "hex_witness_scripts = ['47522102c1b6ac6e6a625fee295dc2d580f80aae08b7e76eca54ae88a854e956095af77c210247aed77c3def4b8ce74a8db08d7f5fd315f8d96b6cd801729a910c3045d750f252ae', '47522102db8b701c3210e1bf6f2a8a9a657acad18be1e8bff3f7435d48f973de8408f29021026421c7673552fdad57193e102df96134be00649195b213fec9d07c6d918f418d52ae']\n",
    "psbt_obj = PSBT.parse(BytesIO(bytes.fromhex(hex_psbt)))\n",
    "psbt_obj.tx_obj.testnet = True\n",
    "tx_lookup = psbt_obj.tx_obj.get_input_tx_lookup()\n",
    "key_1 = bytes.fromhex('02043587cf034d513c1580000000fb406c9fec09b6957a3449d2102318717b0c0d230b657d0ebc6698abd52145eb02eaf3397fea02c5dac747888a9e535eaf3c7e7cb9d5f2da77ddbdd943592a14af')\n",
    "key_2 = bytes.fromhex('02043587cf0398242fbc80000000959cb81379545d7a34287f41485a3c08fc6ecf66cb89caff8a4f618b484d6e7d0362f19f492715b6041723d97403f166da0e3246eb614d80635c036a8d2f753393')\n",
    "path = \"m/44'/1'/0'\"\n",
    "stream_1 = BytesIO(encode_varstr(bytes.fromhex('fbfef36f') + serialize_binary_path(path)))\n",
    "stream_2 = BytesIO(encode_varstr(bytes.fromhex('797dcdac') + serialize_binary_path(path)))\n",
    "hd_1 = NamedHDPublicKey.parse(key_1, stream_1)\n",
    "hd_2 = NamedHDPublicKey.parse(key_2, stream_2)\n",
    "pubkey_lookup = {**hd_1.bip44_lookup(), **hd_2.bip44_lookup()}\n",
    "witness_lookup = {}\n",
    "for hex_witness_script in hex_witness_scripts:\n",
    "    witness_script = WitnessScript.parse(BytesIO(bytes.fromhex(hex_witness_script)))\n",
    "    witness_lookup[witness_script.sha256()] = witness_script\n",
    "psbt_obj.update(tx_lookup, pubkey_lookup, witness_lookup=witness_lookup)\n",
    "print(psbt_obj.serialize().hex())"
   ]
  },
  {
   "cell_type": "markdown",
   "metadata": {},
   "source": [
    "### Exercise 12\n",
    "\n",
    "\n",
    "\n",
    "\n",
    "#### Make [this test](/edit/session5/psbt.py) pass: `psbt.py:PSBTTest:test_update_p2wsh`"
   ]
  },
  {
   "cell_type": "code",
   "execution_count": null,
   "metadata": {},
   "outputs": [],
   "source": [
    "# Exercise 12\n",
    "\n",
    "reload(psbt)\n",
    "run(psbt.PSBTTest('test_update_p2wsh'))"
   ]
  },
  {
   "cell_type": "markdown",
   "metadata": {},
   "source": [
    "### Exercise 13\n",
    "\n",
    "#### Update the transaction that's been given to you\n",
    "\n"
   ]
  },
  {
   "cell_type": "code",
   "execution_count": null,
   "metadata": {},
   "outputs": [],
   "source": [
    "# Exercise 13\n",
    "\n",
    "from helper import serialize_binary_path, encode_varstr\n",
    "from io import BytesIO\n",
    "from psbt import NamedHDPublicKey, PSBT\n",
    "from script import WitnessScript\n",
    "hex_psbt = '70736274ff01005e01000000015c89191dc2abf62339e0f114cb4c3bf8fb399d522d112c9afa2dc7a43759f9060200000000ffffffff01583e0f0000000000220020878ce58b26789632a24ec6b62542e5d4e844dee56a7ddce7db41618049c3928c000000004f01043587cf034d513c1580000000fb406c9fec09b6957a3449d2102318717b0c0d230b657d0ebc6698abd52145eb02eaf3397fea02c5dac747888a9e535eaf3c7e7cb9d5f2da77ddbdd943592a14af10fbfef36f2c0000800100008000000080000000'\n",
    "hex_witness_scripts = ['47522102c1b6ac6e6a625fee295dc2d580f80aae08b7e76eca54ae88a854e956095af77c210247aed77c3def4b8ce74a8db08d7f5fd315f8d96b6cd801729a910c3045d750f252ae', '47522102db8b701c3210e1bf6f2a8a9a657acad18be1e8bff3f7435d48f973de8408f29021026421c7673552fdad57193e102df96134be00649195b213fec9d07c6d918f418d52ae']\n",
    "psbt_obj = PSBT.parse(BytesIO(bytes.fromhex(hex_psbt)))\n",
    "psbt_obj.tx_obj.testnet = True\n",
    "mnemonic = 'abandon abandon abandon abandon abandon abandon abandon abandon abandon abandon abandon about'\n",
    "passphrase = b'<fill this in>'\n",
    "path = \"m/44'/1'/0'\"\n",
    "hd_priv = HDPrivateKey.from_mnemonic(mnemonic, passphrase, testnet=True)\n",
    "# get the tx lookup using get_input_tx_lookup\n",
    "\n",
    "hd_1 = list(psbt_obj.hd_pubs.values())[0]\n",
    "hd_2 = NamedHDPublicKey.from_hd_priv(hd_priv, path)\n",
    "pubkey_lookup = {**hd_1.bip44_lookup(), **hd_2.bip44_lookup()}\n",
    "witness_lookup = {}\n",
    "for hex_witness_script in hex_witness_scripts:\n",
    "    witness_script = WitnessScript.parse(BytesIO(bytes.fromhex(hex_witness_script)))\n",
    "    witness_lookup[witness_script.sha256()] = witness_script\n",
    "psbt_obj.update(tx_lookup, pubkey_lookup, witness_lookup=witness_lookup)\n",
    "print(psbt_obj.serialize().hex())"
   ]
  },
  {
   "cell_type": "markdown",
   "metadata": {},
   "source": [
    "### Exercise 14\n",
    "\n",
    "#### Sign the transaction with your HD private key\n",
    "\n"
   ]
  },
  {
   "cell_type": "code",
   "execution_count": null,
   "metadata": {},
   "outputs": [],
   "source": [
    "# Exercise 14\n",
    "\n",
    "from helper import serialize_binary_path, encode_varstr\n",
    "from io import BytesIO\n",
    "from psbt import NamedHDPublicKey, PSBT\n",
    "hex_psbt = '<fill this in>'\n",
    "psbt_obj = PSBT.parse(BytesIO(bytes.fromhex(hex_psbt)))\n",
    "psbt_obj.tx_obj.testnet = True\n",
    "mnemonic = 'abandon abandon abandon abandon abandon abandon abandon abandon abandon abandon abandon about'\n",
    "passphrase = b'<fill this in>'\n",
    "path = \"m/44'/1'/0'\"\n",
    "# get the private key using the mnemonic, passphrase and testnet=True\n",
    "\n",
    "# sign the psbt\n",
    "\n",
    "# print the serialized hex of the PSBT to see what it looks like\n"
   ]
  },
  {
   "cell_type": "markdown",
   "metadata": {},
   "source": [
    "### Exercise 15\n",
    "\n",
    "\n",
    "\n",
    "\n",
    "#### Make [this test](/edit/session5/psbt.py) pass: `psbt.py:PSBTTest:test_finalize_p2wsh`"
   ]
  },
  {
   "cell_type": "code",
   "execution_count": null,
   "metadata": {},
   "outputs": [],
   "source": [
    "# Exercise 15\n",
    "\n",
    "reload(psbt)\n",
    "run(psbt.PSBTTest('test_finalize_p2wsh'))"
   ]
  },
  {
   "cell_type": "markdown",
   "metadata": {},
   "source": [
    "### Exercise 16\n",
    "\n",
    "#### Finalize, extract and broadcast the PSBT\n",
    "\n"
   ]
  },
  {
   "cell_type": "code",
   "execution_count": null,
   "metadata": {},
   "outputs": [],
   "source": [
    "# Exercise 16\n",
    "\n",
    "from io import BytesIO\n",
    "from psbt import NamedHDPublicKey, PSBT\n",
    "hex_psbt = '<fill this in>'\n",
    "psbt_obj = PSBT.parse(BytesIO(bytes.fromhex(hex_psbt)))\n",
    "psbt_obj.tx_obj.testnet = True\n",
    "# finalize\n",
    "\n",
    "# get the final Tx\n",
    "\n",
    "# print the tx serialized hex to see what it looks like\n"
   ]
  },
  {
   "cell_type": "markdown",
   "metadata": {},
   "source": [
    "### Exercise 17\n",
    "\n",
    "\n",
    "\n",
    "\n",
    "#### Make [this test](/edit/session5/psbt.py) pass: `psbt.py:PSBTTest:test_p2sh_p2wsh`"
   ]
  },
  {
   "cell_type": "code",
   "execution_count": null,
   "metadata": {},
   "outputs": [],
   "source": [
    "# Exercise 17\n",
    "\n",
    "reload(psbt)\n",
    "run(psbt.PSBTTest('test_p2sh_p2wsh'))"
   ]
  },
  {
   "cell_type": "markdown",
   "metadata": {},
   "source": [
    "### Exercise 18\n",
    "\n",
    "#### Combine, update, sign, finalize, extract and finalize the PSBTs sent to you\n",
    "\n"
   ]
  },
  {
   "cell_type": "code",
   "execution_count": null,
   "metadata": {},
   "outputs": [],
   "source": [
    "# Exercise 18\n",
    "\n",
    "from hd import HDPrivateKey\n",
    "from io import BytesIO\n",
    "from psbt import NamedHDPublicKey, PSBT\n",
    "hex_psbt_1 = '<fill this in>'\n",
    "hex_psbt_2 = '<fill this in>'\n",
    "psbt_obj_1 = PSBT.parse(BytesIO(bytes.fromhex(hex_psbt_1)))\n",
    "psbt_obj_1.tx_obj.testnet = True\n",
    "psbt_obj_2 = PSBT.parse(BytesIO(bytes.fromhex(hex_psbt_2)))\n",
    "psbt_obj_2.tx_obj.testnet = True\n",
    "mnemonic = 'abandon abandon abandon abandon abandon abandon abandon abandon abandon abandon abandon about'\n",
    "passphrase = b'<fill this in>'\n",
    "path = \"m/44'/1'/0'\"\n",
    "# get the private key using the mnemonic, passphrase and testnet=True\n",
    "\n",
    "# create the NamedHDPublicKey using the HDPrivateKey and path\n",
    "\n",
    "# combine the two objects\n",
    "\n",
    "# grab the pubkey lookup using bip44_lookup\n",
    "\n",
    "# update the PSBT\n",
    "\n",
    "# sign the psbt\n",
    "\n",
    "# finalize the transaction\n",
    "\n",
    "# get the final Tx\n",
    "\n",
    "# print the tx serialized hex to see what it looks like\n"
   ]
  }
 ],
 "metadata": {},
 "nbformat": 4,
 "nbformat_minor": 2
}
