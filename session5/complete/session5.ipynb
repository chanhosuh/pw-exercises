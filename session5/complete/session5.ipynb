{
 "cells": [
  {
   "cell_type": "code",
   "execution_count": 1,
   "metadata": {},
   "outputs": [],
   "source": [
    "############## PLEASE RUN THIS CELL FIRST! ###################\n",
    "\n",
    "# import everything and define a test runner function\n",
    "from importlib import reload\n",
    "from helper import run\n",
    "import psbt"
   ]
  },
  {
   "cell_type": "markdown",
   "metadata": {},
   "source": [
    "### Exercise 1\n",
    "\n",
    "#### Create a PSBT from the p2wpkh transaction you've been sent\n"
   ]
  },
  {
   "cell_type": "code",
   "execution_count": 2,
   "metadata": {},
   "outputs": [
    {
     "name": "stdout",
     "output_type": "stream",
     "text": [
      "70736274ff01005201000000015c89191dc2abf62339e0f114cb4c3bf8fb399d522d112c9afa2dc7a43759f9060000000000ffffffff01583e0f000000000016001427459b7e4317d1c9e1d0f8320d557c6bb08731ef00000000000000\n"
     ]
    }
   ],
   "source": [
    "# Exercise 1\n",
    "\n",
    "from io import BytesIO\n",
    "from psbt import PSBT\n",
    "from tx import Tx\n",
    "hex_tx = '01000000015c89191dc2abf62339e0f114cb4c3bf8fb399d522d112c9afa2dc7a43759f9060000000000ffffffff01583e0f000000000016001427459b7e4317d1c9e1d0f8320d557c6bb08731ef00000000'\n",
    "# convert the hex transaction to a tx object\n",
    "tx_obj = Tx.parse(BytesIO(bytes.fromhex(hex_tx)))\n",
    "# use the create method to create a PSBT object\n",
    "psbt_obj = PSBT.create(tx_obj)\n",
    "# serialize, turn to hex and print it to see what it looks like\n",
    "print(psbt_obj.serialize().hex())"
   ]
  },
  {
   "cell_type": "code",
   "execution_count": 3,
   "metadata": {},
   "outputs": [
    {
     "name": "stdout",
     "output_type": "stream",
     "text": [
      "70736274ff0100770100000001192f88eeabc44ac213604adbb5b699678815d24b718b5940f5b1b1853f0887480100000000ffffffff0220a10700000000001976a91426d5d464d148454c76f7095fdf03afc8bc8d82c388ac2c9f0700000000001976a9144df14c8c8873451290c53e95ebd1ee8fe488f0ed88ac00000000000100fda40102000000000102816f71fa2b62d7235ae316d54cb174053c793d16644064405a8326094518aaa901000000171600148900fe9d1950305978d57ebbc25f722bbf131b53feffffff6e3e62f2e005db1bb2a1f12e5ca2bfbb4f82f2ca023c23b0a10a035cabb38fb60000000017160014ae01dce99edb5398cee5e4dc536173d35a9495a9feffffff0278de16000000000017a914a2be7a5646958a5b53f1c3de5a896f6c0ff5419f8740420f00000000001976a9149a9bfaf8ef6c4b061a30e8e162da3458cfa122c688ac02473044022017506b1a15e0540efe5453fcc9c61dcc4457dd00d22cba5e5b937c56944f96ff02207a1c071a8e890cf69c4adef5154d6556e5b356fc09d74a7c811484de289c2d41012102de6c105c8ed6c54d9f7a166fbe3012fecbf4bb3cecda49a8aad1d0c07784110c0247304402207035217de1a2c587b1aaeb5605b043189d551451697acb74ffc99e5a288f4fde022013b7f33a916f9e05846d333b6ea314f56251e74f243682e0ec45ce9e16c6344d01210205174b405fba1b53a44faf08679d63c871cece6c3b2c343bd2d7c559aa32dfb1a2271800220602c1b6ac6e6a625fee295dc2d580f80aae08b7e76eca54ae88a854e956095af77c18fbfef36f2c00008001000080000000800000000000000000000000\n"
     ]
    }
   ],
   "source": [
    "# example for updating the PSBT\n",
    "from helper import read_varstr\n",
    "from io import BytesIO\n",
    "from psbt import PSBT, PSBTIn, PSBTOut, NamedHDPublicKey\n",
    "from tx import Tx\n",
    "hex_named_hd = '4f01043587cf034d513c1580000000fb406c9fec09b6957a3449d2102318717b0c0d230b657d0ebc6698abd52145eb02eaf3397fea02c5dac747888a9e535eaf3c7e7cb9d5f2da77ddbdd943592a14af10fbfef36f2c0000800100008000000080'\n",
    "stream = BytesIO(bytes.fromhex(hex_named_hd))\n",
    "key = read_varstr(stream)\n",
    "named_hd = NamedHDPublicKey.parse(key, stream)\n",
    "hex_psbt = '70736274ff0100770100000001192f88eeabc44ac213604adbb5b699678815d24b718b5940f5b1b1853f0887480100000000ffffffff0220a10700000000001976a91426d5d464d148454c76f7095fdf03afc8bc8d82c388ac2c9f0700000000001976a9144df14c8c8873451290c53e95ebd1ee8fe488f0ed88ac0000000000000000'\n",
    "psbt_obj = PSBT.parse(BytesIO(bytes.fromhex(hex_psbt)))\n",
    "psbt_obj.tx_obj.testnet = True\n",
    "tx_lookup = psbt_obj.tx_obj.get_input_tx_lookup()\n",
    "pubkey_lookup = named_hd.bip44_lookup()\n",
    "psbt_obj.update(tx_lookup, pubkey_lookup)\n",
    "print(psbt_obj.serialize().hex())"
   ]
  },
  {
   "cell_type": "markdown",
   "metadata": {},
   "source": [
    "### Exercise 2\n",
    "\n",
    "\n",
    "\n",
    "\n",
    "#### Make [this test](/edit/session5/psbt.py) pass: `psbt.py:PSBTTest:test_update_p2wpkh`"
   ]
  },
  {
   "cell_type": "code",
   "execution_count": 4,
   "metadata": {},
   "outputs": [
    {
     "name": "stderr",
     "output_type": "stream",
     "text": [
      ".\n",
      "----------------------------------------------------------------------\n",
      "Ran 1 test in 1.372s\n",
      "\n",
      "OK\n"
     ]
    }
   ],
   "source": [
    "# Exercise 2\n",
    "\n",
    "reload(psbt)\n",
    "run(psbt.PSBTTest('test_update_p2wpkh'))"
   ]
  },
  {
   "cell_type": "markdown",
   "metadata": {},
   "source": [
    "### Exercise 3\n",
    "\n",
    "#### Update the PSBT that you got.\n",
    "\n"
   ]
  },
  {
   "cell_type": "code",
   "execution_count": 5,
   "metadata": {},
   "outputs": [
    {
     "name": "stdout",
     "output_type": "stream",
     "text": [
      "70736274ff01005201000000015c89191dc2abf62339e0f114cb4c3bf8fb399d522d112c9afa2dc7a43759f9060000000000ffffffff01583e0f000000000016001427459b7e4317d1c9e1d0f8320d557c6bb08731ef000000000001011f40420f0000000000160014f0cd79383f13584bdeca184cecd16135b8a79fc222060247aed77c3def4b8ce74a8db08d7f5fd315f8d96b6cd801729a910c3045d750f218797dcdac2c00008001000080000000800000000000000000002202026421c7673552fdad57193e102df96134be00649195b213fec9d07c6d918f418d18797dcdac2c0000800100008000000080010000000000000000\n"
     ]
    }
   ],
   "source": [
    "# Exercise 3\n",
    "\n",
    "from helper import read_varstr\n",
    "from hd import HDPrivateKey\n",
    "from io import BytesIO\n",
    "from psbt import PSBT, PSBTIn, PSBTOut, NamedHDPublicKey\n",
    "from tx import Tx\n",
    "mnemonic = 'abandon abandon abandon abandon abandon abandon abandon abandon abandon abandon abandon about'\n",
    "passphrase = b'jimmy@programmingblockchain.com Jimmy Song 2'\n",
    "path = \"m/44'/1'/0'\"\n",
    "hd_priv = HDPrivateKey.from_mnemonic(mnemonic, passphrase, testnet=True)\n",
    "hex_psbt = '70736274ff01005201000000015c89191dc2abf62339e0f114cb4c3bf8fb399d522d112c9afa2dc7a43759f9060000000000ffffffff01583e0f000000000016001427459b7e4317d1c9e1d0f8320d557c6bb08731ef00000000000000'\n",
    "psbt_obj = PSBT.parse(BytesIO(bytes.fromhex(hex_psbt)))\n",
    "psbt_obj.tx_obj.testnet = True\n",
    "# create the NamedHDPublicKey using the HDPrivateKey and path\n",
    "named_hd = NamedHDPublicKey.from_hd_priv(hd_priv, path)\n",
    "# get the tx lookup using the psbt_obj's tx_object's get_input_tx_lookup method\n",
    "tx_lookup = psbt_obj.tx_obj.get_input_tx_lookup()\n",
    "# get the pubkey lookup using the bip44_lookup method\n",
    "pubkey_lookup = named_hd.bip44_lookup()\n",
    "# update the psbt object with the transaction lookup and the pubkey lookup\n",
    "psbt_obj.update(tx_lookup, pubkey_lookup)\n",
    "# print the serialized hex to see what it looks like\n",
    "print(psbt_obj.serialize().hex())"
   ]
  },
  {
   "cell_type": "markdown",
   "metadata": {},
   "source": [
    "### Exercise 4\n",
    "\n",
    "\n",
    "\n",
    "\n",
    "#### Make [this test](/edit/session5/psbt.py) pass: `psbt.py:PSBTTest:test_sign_p2wpkh`"
   ]
  },
  {
   "cell_type": "code",
   "execution_count": 6,
   "metadata": {},
   "outputs": [
    {
     "name": "stderr",
     "output_type": "stream",
     "text": [
      ".\n",
      "----------------------------------------------------------------------\n",
      "Ran 1 test in 0.474s\n",
      "\n",
      "OK\n"
     ]
    }
   ],
   "source": [
    "# Exercise 4\n",
    "\n",
    "reload(psbt)\n",
    "run(psbt.PSBTTest('test_sign_p2wpkh'))"
   ]
  },
  {
   "cell_type": "markdown",
   "metadata": {},
   "source": [
    "### Exercise 5\n",
    "\n",
    "#### Sign the PSBT that you got.\n",
    "\n"
   ]
  },
  {
   "cell_type": "code",
   "execution_count": 7,
   "metadata": {},
   "outputs": [
    {
     "name": "stdout",
     "output_type": "stream",
     "text": [
      "70736274ff01005201000000015c89191dc2abf62339e0f114cb4c3bf8fb399d522d112c9afa2dc7a43759f9060000000000ffffffff01583e0f000000000016001427459b7e4317d1c9e1d0f8320d557c6bb08731ef000000000001011f40420f0000000000160014f0cd79383f13584bdeca184cecd16135b8a79fc222020247aed77c3def4b8ce74a8db08d7f5fd315f8d96b6cd801729a910c3045d750f24730440220575870ef714252a26bc4e61a6ee31db0f3896606a4792d11a42ef7d30c9f1b33022007cd28fb8618b704cbcf1cc6292d9be901bf3c99d967b0cace7307532619811e0122060247aed77c3def4b8ce74a8db08d7f5fd315f8d96b6cd801729a910c3045d750f218797dcdac2c00008001000080000000800000000000000000002202026421c7673552fdad57193e102df96134be00649195b213fec9d07c6d918f418d18797dcdac2c0000800100008000000080010000000000000000\n"
     ]
    }
   ],
   "source": [
    "# Exercise 5\n",
    "\n",
    "from helper import read_varstr\n",
    "from hd import HDPrivateKey\n",
    "from io import BytesIO\n",
    "from psbt import PSBT, PSBTIn, PSBTOut, NamedHDPublicKey\n",
    "from tx import Tx\n",
    "mnemonic = 'abandon abandon abandon abandon abandon abandon abandon abandon abandon abandon abandon about'\n",
    "passphrase = b'jimmy@programmingblockchain.com Jimmy Song 2'\n",
    "path = \"m/44'/1'/0'\"\n",
    "hd_priv = HDPrivateKey.from_mnemonic(mnemonic, passphrase, testnet=True)\n",
    "hex_psbt = '70736274ff01005201000000015c89191dc2abf62339e0f114cb4c3bf8fb399d522d112c9afa2dc7a43759f9060000000000ffffffff01583e0f000000000016001427459b7e4317d1c9e1d0f8320d557c6bb08731ef000000000001011f40420f0000000000160014f0cd79383f13584bdeca184cecd16135b8a79fc222060247aed77c3def4b8ce74a8db08d7f5fd315f8d96b6cd801729a910c3045d750f218797dcdac2c00008001000080000000800000000000000000002202026421c7673552fdad57193e102df96134be00649195b213fec9d07c6d918f418d18797dcdac2c0000800100008000000080010000000000000000'\n",
    "psbt_obj = PSBT.parse(BytesIO(bytes.fromhex(hex_psbt)))\n",
    "psbt_obj.tx_obj.testnet = True\n",
    "# use the HDPrivateKey to sign the PSBT\n",
    "psbt_obj.sign(hd_priv)\n",
    "# print the serialized hex to see what it looks like\n",
    "print(psbt_obj.serialize().hex())"
   ]
  },
  {
   "cell_type": "markdown",
   "metadata": {},
   "source": [
    "### Exercise 6\n",
    "\n",
    "\n",
    "\n",
    "\n",
    "#### Make [this test](/edit/session5/psbt.py) pass: `psbt.py:PSBTTest:test_finalize_p2wpkh`"
   ]
  },
  {
   "cell_type": "code",
   "execution_count": 8,
   "metadata": {},
   "outputs": [
    {
     "name": "stderr",
     "output_type": "stream",
     "text": [
      ".\n",
      "----------------------------------------------------------------------\n",
      "Ran 1 test in 0.115s\n",
      "\n",
      "OK\n"
     ]
    }
   ],
   "source": [
    "# Exercise 6\n",
    "\n",
    "reload(psbt)\n",
    "run(psbt.PSBTTest('test_finalize_p2wpkh'))"
   ]
  },
  {
   "cell_type": "markdown",
   "metadata": {},
   "source": [
    "### Exercise 7\n",
    "\n",
    "\n",
    "\n",
    "\n",
    "#### Make [this test](/edit/session5/psbt.py) pass: `psbt.py:PSBTTest:test_final_tx_p2wpkh`"
   ]
  },
  {
   "cell_type": "code",
   "execution_count": 9,
   "metadata": {},
   "outputs": [
    {
     "name": "stderr",
     "output_type": "stream",
     "text": [
      ".\n",
      "----------------------------------------------------------------------\n",
      "Ran 1 test in 0.225s\n",
      "\n",
      "OK\n"
     ]
    }
   ],
   "source": [
    "# Exercise 7\n",
    "\n",
    "reload(psbt)\n",
    "run(psbt.PSBTTest('test_final_tx_p2wpkh'))"
   ]
  },
  {
   "cell_type": "markdown",
   "metadata": {},
   "source": [
    "### Exercise 8\n",
    "\n",
    "#### Finalize, Extract and Broadcast the PSBT that you got.\n",
    "\n"
   ]
  },
  {
   "cell_type": "code",
   "execution_count": 10,
   "metadata": {},
   "outputs": [
    {
     "name": "stdout",
     "output_type": "stream",
     "text": [
      "010000000001015c89191dc2abf62339e0f114cb4c3bf8fb399d522d112c9afa2dc7a43759f9060000000000ffffffff01583e0f000000000016001427459b7e4317d1c9e1d0f8320d557c6bb08731ef024730440220575870ef714252a26bc4e61a6ee31db0f3896606a4792d11a42ef7d30c9f1b33022007cd28fb8618b704cbcf1cc6292d9be901bf3c99d967b0cace7307532619811e01210247aed77c3def4b8ce74a8db08d7f5fd315f8d96b6cd801729a910c3045d750f200000000\n"
     ]
    }
   ],
   "source": [
    "# Exercise 8\n",
    "\n",
    "from psbt import PSBT\n",
    "hex_psbt = '70736274ff01005201000000015c89191dc2abf62339e0f114cb4c3bf8fb399d522d112c9afa2dc7a43759f9060000000000ffffffff01583e0f000000000016001427459b7e4317d1c9e1d0f8320d557c6bb08731ef000000000001011f40420f0000000000160014f0cd79383f13584bdeca184cecd16135b8a79fc222020247aed77c3def4b8ce74a8db08d7f5fd315f8d96b6cd801729a910c3045d750f24730440220575870ef714252a26bc4e61a6ee31db0f3896606a4792d11a42ef7d30c9f1b33022007cd28fb8618b704cbcf1cc6292d9be901bf3c99d967b0cace7307532619811e0122060247aed77c3def4b8ce74a8db08d7f5fd315f8d96b6cd801729a910c3045d750f218797dcdac2c00008001000080000000800000000000000000002202026421c7673552fdad57193e102df96134be00649195b213fec9d07c6d918f418d18797dcdac2c0000800100008000000080010000000000000000'\n",
    "psbt_obj = PSBT.parse(BytesIO(bytes.fromhex(hex_psbt)))\n",
    "psbt_obj.tx_obj.testnet = True\n",
    "# finalize the PSBT\n",
    "psbt_obj.finalize()\n",
    "# extract the transaction using final_tx\n",
    "tx_obj = psbt_obj.final_tx()\n",
    "# breadcast the transaction\n",
    "print(tx_obj.serialize().hex())"
   ]
  },
  {
   "cell_type": "markdown",
   "metadata": {},
   "source": [
    "### Exercise 9\n",
    "\n",
    "\n",
    "\n",
    "\n",
    "#### Make [this test](/edit/session5/psbt.py) pass: `psbt.py:NamedHDPublicKeyTest:test_redeem_script_lookup`"
   ]
  },
  {
   "cell_type": "code",
   "execution_count": 11,
   "metadata": {},
   "outputs": [
    {
     "name": "stderr",
     "output_type": "stream",
     "text": [
      ".\n",
      "----------------------------------------------------------------------\n",
      "Ran 1 test in 0.366s\n",
      "\n",
      "OK\n"
     ]
    }
   ],
   "source": [
    "# Exercise 9\n",
    "\n",
    "reload(psbt)\n",
    "run(psbt.NamedHDPublicKeyTest('test_redeem_script_lookup'))"
   ]
  },
  {
   "cell_type": "markdown",
   "metadata": {},
   "source": [
    "### Exercise 10\n",
    "\n",
    "\n",
    "\n",
    "\n",
    "#### Make [this test](/edit/session5/psbt.py) pass: `psbt.py:PSBTTest:test_p2sh_p2wpkh`"
   ]
  },
  {
   "cell_type": "code",
   "execution_count": 12,
   "metadata": {},
   "outputs": [
    {
     "name": "stderr",
     "output_type": "stream",
     "text": [
      ".\n",
      "----------------------------------------------------------------------\n",
      "Ran 1 test in 3.992s\n",
      "\n",
      "OK\n"
     ]
    }
   ],
   "source": [
    "# Exercise 10\n",
    "\n",
    "reload(psbt)\n",
    "run(psbt.PSBTTest('test_p2sh_p2wpkh'))"
   ]
  },
  {
   "cell_type": "markdown",
   "metadata": {},
   "source": [
    "### Exercise 11\n",
    "\n",
    "#### You have been sent an empty p2sh-p2wpkh transaction. Update, sign, finalize, extract and broadcast the signed transaction.\n",
    "\n"
   ]
  },
  {
   "cell_type": "code",
   "execution_count": 13,
   "metadata": {},
   "outputs": [
    {
     "name": "stdout",
     "output_type": "stream",
     "text": [
      "010000000001015c89191dc2abf62339e0f114cb4c3bf8fb399d522d112c9afa2dc7a43759f9060100000017160014f0cd79383f13584bdeca184cecd16135b8a79fc2ffffffff01583e0f00000000001600146e13971913b9aa89659a9f53d327baa8826f2d7502483045022100f332008498ada0d5c83717c638b6d9f2bc6b79e657ab1db0bd45538e1390905202203060d6ffa36bb49b3469ea806a03644958926d56dda96701e7eaa3ca5320c49f01210247aed77c3def4b8ce74a8db08d7f5fd315f8d96b6cd801729a910c3045d750f200000000\n"
     ]
    }
   ],
   "source": [
    "# Exercise 11\n",
    "\n",
    "from helper import read_varstr\n",
    "from hd import HDPrivateKey\n",
    "from io import BytesIO\n",
    "from psbt import PSBT, PSBTIn, PSBTOut, NamedHDPublicKey\n",
    "from tx import Tx\n",
    "mnemonic = 'abandon abandon abandon abandon abandon abandon abandon abandon abandon abandon abandon about'\n",
    "passphrase = b'jimmy@programmingblockchain.com Jimmy Song 2'\n",
    "path = \"m/44'/1'/0'\"\n",
    "hd_priv = HDPrivateKey.from_mnemonic(mnemonic, passphrase, testnet=True)\n",
    "hex_tx = '01000000015c89191dc2abf62339e0f114cb4c3bf8fb399d522d112c9afa2dc7a43759f9060100000000ffffffff01583e0f00000000001600146e13971913b9aa89659a9f53d327baa8826f2d7500000000'\n",
    "# convert the hex transaction to a tx object\n",
    "tx_obj = Tx.parse(BytesIO(bytes.fromhex(hex_tx)))\n",
    "# use the create method to create a PSBT object\n",
    "psbt_obj = PSBT.create(tx_obj)\n",
    "psbt_obj.tx_obj.testnet = True\n",
    "# create the NamedHDPublicKey using the HDPrivateKey and path\n",
    "named_hd = NamedHDPublicKey.from_hd_priv(hd_priv, path)\n",
    "# get the tx lookup using the psbt_obj's tx_object's get_input_tx_lookup method\n",
    "tx_lookup = psbt_obj.tx_obj.get_input_tx_lookup()\n",
    "# get the pubkey lookup using the bip44_lookup method\n",
    "pubkey_lookup = named_hd.bip44_lookup()\n",
    "# get the RedeemScript lookup using the redeem_script_lookup method\n",
    "redeem_script_lookup = named_hd.redeem_script_lookup()\n",
    "# update the psbt object with the transaction lookup and the pubkey lookup\n",
    "psbt_obj.update(tx_lookup, pubkey_lookup, redeem_script_lookup)\n",
    "# use the HDPrivateKey to sign the PSBT\n",
    "psbt_obj.sign(hd_priv)\n",
    "# finalize the PSBT\n",
    "psbt_obj.finalize()\n",
    "# extract the transaction using final_tx\n",
    "tx_obj = psbt_obj.final_tx()\n",
    "# breadcast the transaction\n",
    "print(tx_obj.serialize().hex())"
   ]
  },
  {
   "cell_type": "code",
   "execution_count": 14,
   "metadata": {},
   "outputs": [
    {
     "name": "stdout",
     "output_type": "stream",
     "text": [
      "70736274ff01005e01000000015c89191dc2abf62339e0f114cb4c3bf8fb399d522d112c9afa2dc7a43759f9060200000000ffffffff01583e0f0000000000220020878ce58b26789632a24ec6b62542e5d4e844dee56a7ddce7db41618049c3928c000000004f01043587cf034d513c1580000000fb406c9fec09b6957a3449d2102318717b0c0d230b657d0ebc6698abd52145eb02eaf3397fea02c5dac747888a9e535eaf3c7e7cb9d5f2da77ddbdd943592a14af10fbfef36f2c00008001000080000000800001012b40420f0000000000220020c1b4fff485af1ac26714340af2e13d2e89ad70389332a0756d91a123c7fe7f5d010547522102c1b6ac6e6a625fee295dc2d580f80aae08b7e76eca54ae88a854e956095af77c210247aed77c3def4b8ce74a8db08d7f5fd315f8d96b6cd801729a910c3045d750f252ae22060247aed77c3def4b8ce74a8db08d7f5fd315f8d96b6cd801729a910c3045d750f218797dcdac2c00008001000080000000800000000000000000220602c1b6ac6e6a625fee295dc2d580f80aae08b7e76eca54ae88a854e956095af77c18fbfef36f2c0000800100008000000080000000000000000000010147522102db8b701c3210e1bf6f2a8a9a657acad18be1e8bff3f7435d48f973de8408f29021026421c7673552fdad57193e102df96134be00649195b213fec9d07c6d918f418d52ae2202026421c7673552fdad57193e102df96134be00649195b213fec9d07c6d918f418d18797dcdac2c00008001000080000000800100000000000000220202db8b701c3210e1bf6f2a8a9a657acad18be1e8bff3f7435d48f973de8408f29018fbfef36f2c0000800100008000000080010000000000000000\n"
     ]
    }
   ],
   "source": [
    "# example of updating\n",
    "from helper import serialize_binary_path, encode_varstr\n",
    "from io import BytesIO\n",
    "from psbt import PSBT\n",
    "from script import WitnessScript\n",
    "hex_psbt = '70736274ff01005e01000000015c89191dc2abf62339e0f114cb4c3bf8fb399d522d112c9afa2dc7a43759f9060200000000ffffffff01583e0f0000000000220020878ce58b26789632a24ec6b62542e5d4e844dee56a7ddce7db41618049c3928c000000004f01043587cf034d513c1580000000fb406c9fec09b6957a3449d2102318717b0c0d230b657d0ebc6698abd52145eb02eaf3397fea02c5dac747888a9e535eaf3c7e7cb9d5f2da77ddbdd943592a14af10fbfef36f2c0000800100008000000080000000'\n",
    "hex_witness_scripts = ['47522102c1b6ac6e6a625fee295dc2d580f80aae08b7e76eca54ae88a854e956095af77c210247aed77c3def4b8ce74a8db08d7f5fd315f8d96b6cd801729a910c3045d750f252ae', '47522102db8b701c3210e1bf6f2a8a9a657acad18be1e8bff3f7435d48f973de8408f29021026421c7673552fdad57193e102df96134be00649195b213fec9d07c6d918f418d52ae']\n",
    "psbt_obj = PSBT.parse(BytesIO(bytes.fromhex(hex_psbt)))\n",
    "psbt_obj.tx_obj.testnet = True\n",
    "tx_lookup = psbt_obj.tx_obj.get_input_tx_lookup()\n",
    "key_1 = bytes.fromhex('02043587cf034d513c1580000000fb406c9fec09b6957a3449d2102318717b0c0d230b657d0ebc6698abd52145eb02eaf3397fea02c5dac747888a9e535eaf3c7e7cb9d5f2da77ddbdd943592a14af')\n",
    "key_2 = bytes.fromhex('02043587cf0398242fbc80000000959cb81379545d7a34287f41485a3c08fc6ecf66cb89caff8a4f618b484d6e7d0362f19f492715b6041723d97403f166da0e3246eb614d80635c036a8d2f753393')\n",
    "path = \"m/44'/1'/0'\"\n",
    "stream_1 = BytesIO(encode_varstr(bytes.fromhex('fbfef36f') + serialize_binary_path(path)))\n",
    "stream_2 = BytesIO(encode_varstr(bytes.fromhex('797dcdac') + serialize_binary_path(path)))\n",
    "hd_1 = NamedHDPublicKey.parse(key_1, stream_1)\n",
    "hd_2 = NamedHDPublicKey.parse(key_2, stream_2)\n",
    "pubkey_lookup = {**hd_1.bip44_lookup(), **hd_2.bip44_lookup()}\n",
    "witness_lookup = {}\n",
    "for hex_witness_script in hex_witness_scripts:\n",
    "    witness_script = WitnessScript.parse(BytesIO(bytes.fromhex(hex_witness_script)))\n",
    "    witness_lookup[witness_script.sha256()] = witness_script\n",
    "psbt_obj.update(tx_lookup, pubkey_lookup, witness_lookup=witness_lookup)\n",
    "print(psbt_obj.serialize().hex())"
   ]
  },
  {
   "cell_type": "markdown",
   "metadata": {},
   "source": [
    "### Exercise 12\n",
    "\n",
    "\n",
    "\n",
    "\n",
    "#### Make [this test](/edit/session5/psbt.py) pass: `psbt.py:PSBTTest:test_update_p2wsh`"
   ]
  },
  {
   "cell_type": "code",
   "execution_count": 15,
   "metadata": {},
   "outputs": [
    {
     "name": "stderr",
     "output_type": "stream",
     "text": [
      ".\n",
      "----------------------------------------------------------------------\n",
      "Ran 1 test in 2.761s\n",
      "\n",
      "OK\n"
     ]
    }
   ],
   "source": [
    "# Exercise 12\n",
    "\n",
    "reload(psbt)\n",
    "run(psbt.PSBTTest('test_update_p2wsh'))"
   ]
  },
  {
   "cell_type": "markdown",
   "metadata": {},
   "source": [
    "### Exercise 13\n",
    "\n",
    "#### Update the transaction that's been given to you\n",
    "\n"
   ]
  },
  {
   "cell_type": "code",
   "execution_count": 16,
   "metadata": {},
   "outputs": [
    {
     "name": "stdout",
     "output_type": "stream",
     "text": [
      "70736274ff01005e01000000015c89191dc2abf62339e0f114cb4c3bf8fb399d522d112c9afa2dc7a43759f9060200000000ffffffff01583e0f0000000000220020878ce58b26789632a24ec6b62542e5d4e844dee56a7ddce7db41618049c3928c000000004f01043587cf034d513c1580000000fb406c9fec09b6957a3449d2102318717b0c0d230b657d0ebc6698abd52145eb02eaf3397fea02c5dac747888a9e535eaf3c7e7cb9d5f2da77ddbdd943592a14af10fbfef36f2c00008001000080000000800001012b40420f0000000000220020c1b4fff485af1ac26714340af2e13d2e89ad70389332a0756d91a123c7fe7f5d010547522102c1b6ac6e6a625fee295dc2d580f80aae08b7e76eca54ae88a854e956095af77c210247aed77c3def4b8ce74a8db08d7f5fd315f8d96b6cd801729a910c3045d750f252ae22060247aed77c3def4b8ce74a8db08d7f5fd315f8d96b6cd801729a910c3045d750f218797dcdac2c00008001000080000000800000000000000000220602c1b6ac6e6a625fee295dc2d580f80aae08b7e76eca54ae88a854e956095af77c18fbfef36f2c0000800100008000000080000000000000000000010147522102db8b701c3210e1bf6f2a8a9a657acad18be1e8bff3f7435d48f973de8408f29021026421c7673552fdad57193e102df96134be00649195b213fec9d07c6d918f418d52ae2202026421c7673552fdad57193e102df96134be00649195b213fec9d07c6d918f418d18797dcdac2c00008001000080000000800100000000000000220202db8b701c3210e1bf6f2a8a9a657acad18be1e8bff3f7435d48f973de8408f29018fbfef36f2c0000800100008000000080010000000000000000\n"
     ]
    }
   ],
   "source": [
    "# Exercise 13\n",
    "\n",
    "from helper import serialize_binary_path, encode_varstr\n",
    "from io import BytesIO\n",
    "from psbt import NamedHDPublicKey, PSBT\n",
    "from script import WitnessScript\n",
    "hex_psbt = '70736274ff01005e01000000015c89191dc2abf62339e0f114cb4c3bf8fb399d522d112c9afa2dc7a43759f9060200000000ffffffff01583e0f0000000000220020878ce58b26789632a24ec6b62542e5d4e844dee56a7ddce7db41618049c3928c000000004f01043587cf034d513c1580000000fb406c9fec09b6957a3449d2102318717b0c0d230b657d0ebc6698abd52145eb02eaf3397fea02c5dac747888a9e535eaf3c7e7cb9d5f2da77ddbdd943592a14af10fbfef36f2c0000800100008000000080000000'\n",
    "hex_witness_scripts = ['47522102c1b6ac6e6a625fee295dc2d580f80aae08b7e76eca54ae88a854e956095af77c210247aed77c3def4b8ce74a8db08d7f5fd315f8d96b6cd801729a910c3045d750f252ae', '47522102db8b701c3210e1bf6f2a8a9a657acad18be1e8bff3f7435d48f973de8408f29021026421c7673552fdad57193e102df96134be00649195b213fec9d07c6d918f418d52ae']\n",
    "psbt_obj = PSBT.parse(BytesIO(bytes.fromhex(hex_psbt)))\n",
    "psbt_obj.tx_obj.testnet = True\n",
    "mnemonic = 'abandon abandon abandon abandon abandon abandon abandon abandon abandon abandon abandon about'\n",
    "passphrase = b'jimmy@programmingblockchain.com Jimmy Song 2'\n",
    "path = \"m/44'/1'/0'\"\n",
    "hd_priv = HDPrivateKey.from_mnemonic(mnemonic, passphrase, testnet=True)\n",
    "# get the tx lookup using get_input_tx_lookup\n",
    "tx_lookup = psbt_obj.tx_obj.get_input_tx_lookup()\n",
    "hd_1 = list(psbt_obj.hd_pubs.values())[0]\n",
    "hd_2 = NamedHDPublicKey.from_hd_priv(hd_priv, path)\n",
    "pubkey_lookup = {**hd_1.bip44_lookup(), **hd_2.bip44_lookup()}\n",
    "witness_lookup = {}\n",
    "for hex_witness_script in hex_witness_scripts:\n",
    "    witness_script = WitnessScript.parse(BytesIO(bytes.fromhex(hex_witness_script)))\n",
    "    witness_lookup[witness_script.sha256()] = witness_script\n",
    "psbt_obj.update(tx_lookup, pubkey_lookup, witness_lookup=witness_lookup)\n",
    "print(psbt_obj.serialize().hex())"
   ]
  },
  {
   "cell_type": "markdown",
   "metadata": {},
   "source": [
    "### Exercise 14\n",
    "\n",
    "#### Sign the transaction with your HD private key\n",
    "\n"
   ]
  },
  {
   "cell_type": "code",
   "execution_count": 17,
   "metadata": {},
   "outputs": [
    {
     "name": "stdout",
     "output_type": "stream",
     "text": [
      "True\n",
      "70736274ff01005e01000000015c89191dc2abf62339e0f114cb4c3bf8fb399d522d112c9afa2dc7a43759f9060200000000ffffffff01583e0f0000000000220020878ce58b26789632a24ec6b62542e5d4e844dee56a7ddce7db41618049c3928c000000004f01043587cf034d513c1580000000fb406c9fec09b6957a3449d2102318717b0c0d230b657d0ebc6698abd52145eb02eaf3397fea02c5dac747888a9e535eaf3c7e7cb9d5f2da77ddbdd943592a14af10fbfef36f2c00008001000080000000800001012b40420f0000000000220020c1b4fff485af1ac26714340af2e13d2e89ad70389332a0756d91a123c7fe7f5d22020247aed77c3def4b8ce74a8db08d7f5fd315f8d96b6cd801729a910c3045d750f247304402204fd654c27002d4c9e53bb001229e3d7587e5be245a81b6f7ead3bf136643af40022060ebf1193a6b3e82615a564f0043e5ae88e661bfdb7fd254c9a30bae8160583901010547522102c1b6ac6e6a625fee295dc2d580f80aae08b7e76eca54ae88a854e956095af77c210247aed77c3def4b8ce74a8db08d7f5fd315f8d96b6cd801729a910c3045d750f252ae22060247aed77c3def4b8ce74a8db08d7f5fd315f8d96b6cd801729a910c3045d750f218797dcdac2c00008001000080000000800000000000000000220602c1b6ac6e6a625fee295dc2d580f80aae08b7e76eca54ae88a854e956095af77c18fbfef36f2c0000800100008000000080000000000000000000010147522102db8b701c3210e1bf6f2a8a9a657acad18be1e8bff3f7435d48f973de8408f29021026421c7673552fdad57193e102df96134be00649195b213fec9d07c6d918f418d52ae2202026421c7673552fdad57193e102df96134be00649195b213fec9d07c6d918f418d18797dcdac2c00008001000080000000800100000000000000220202db8b701c3210e1bf6f2a8a9a657acad18be1e8bff3f7435d48f973de8408f29018fbfef36f2c0000800100008000000080010000000000000000\n"
     ]
    }
   ],
   "source": [
    "# Exercise 14\n",
    "\n",
    "from helper import serialize_binary_path, encode_varstr\n",
    "from io import BytesIO\n",
    "from psbt import NamedHDPublicKey, PSBT\n",
    "hex_psbt = '70736274ff01005e01000000015c89191dc2abf62339e0f114cb4c3bf8fb399d522d112c9afa2dc7a43759f9060200000000ffffffff01583e0f0000000000220020878ce58b26789632a24ec6b62542e5d4e844dee56a7ddce7db41618049c3928c000000004f01043587cf034d513c1580000000fb406c9fec09b6957a3449d2102318717b0c0d230b657d0ebc6698abd52145eb02eaf3397fea02c5dac747888a9e535eaf3c7e7cb9d5f2da77ddbdd943592a14af10fbfef36f2c00008001000080000000800001012b40420f0000000000220020c1b4fff485af1ac26714340af2e13d2e89ad70389332a0756d91a123c7fe7f5d010547522102c1b6ac6e6a625fee295dc2d580f80aae08b7e76eca54ae88a854e956095af77c210247aed77c3def4b8ce74a8db08d7f5fd315f8d96b6cd801729a910c3045d750f252ae22060247aed77c3def4b8ce74a8db08d7f5fd315f8d96b6cd801729a910c3045d750f218797dcdac2c00008001000080000000800000000000000000220602c1b6ac6e6a625fee295dc2d580f80aae08b7e76eca54ae88a854e956095af77c18fbfef36f2c0000800100008000000080000000000000000000010147522102db8b701c3210e1bf6f2a8a9a657acad18be1e8bff3f7435d48f973de8408f29021026421c7673552fdad57193e102df96134be00649195b213fec9d07c6d918f418d52ae2202026421c7673552fdad57193e102df96134be00649195b213fec9d07c6d918f418d18797dcdac2c00008001000080000000800100000000000000220202db8b701c3210e1bf6f2a8a9a657acad18be1e8bff3f7435d48f973de8408f29018fbfef36f2c0000800100008000000080010000000000000000'\n",
    "psbt_obj = PSBT.parse(BytesIO(bytes.fromhex(hex_psbt)))\n",
    "psbt_obj.tx_obj.testnet = True\n",
    "mnemonic = 'abandon abandon abandon abandon abandon abandon abandon abandon abandon abandon abandon about'\n",
    "passphrase = b'jimmy@programmingblockchain.com Jimmy Song 2'\n",
    "path = \"m/44'/1'/0'\"\n",
    "# get the private key using the mnemonic, passphrase and testnet=True\n",
    "hd_priv = HDPrivateKey.from_mnemonic(mnemonic, passphrase, testnet=True)\n",
    "# sign the psbt\n",
    "print(psbt_obj.sign(hd_priv))\n",
    "# print the serialized hex of the PSBT to see what it looks like\n",
    "print(psbt_obj.serialize().hex())"
   ]
  },
  {
   "cell_type": "markdown",
   "metadata": {},
   "source": [
    "### Exercise 15\n",
    "\n",
    "\n",
    "\n",
    "\n",
    "#### Make [this test](/edit/session5/psbt.py) pass: `psbt.py:PSBTTest:test_finalize_p2wsh`"
   ]
  },
  {
   "cell_type": "code",
   "execution_count": 18,
   "metadata": {},
   "outputs": [
    {
     "name": "stderr",
     "output_type": "stream",
     "text": [
      ".\n",
      "----------------------------------------------------------------------\n",
      "Ran 1 test in 0.441s\n",
      "\n",
      "OK\n"
     ]
    }
   ],
   "source": [
    "# Exercise 15\n",
    "\n",
    "reload(psbt)\n",
    "run(psbt.PSBTTest('test_finalize_p2wsh'))"
   ]
  },
  {
   "cell_type": "markdown",
   "metadata": {},
   "source": [
    "### Exercise 16\n",
    "\n",
    "#### Finalize, extract and broadcast the PSBT\n",
    "\n"
   ]
  },
  {
   "cell_type": "code",
   "execution_count": 19,
   "metadata": {},
   "outputs": [
    {
     "name": "stdout",
     "output_type": "stream",
     "text": [
      "010000000001015c89191dc2abf62339e0f114cb4c3bf8fb399d522d112c9afa2dc7a43759f9060200000000ffffffff01583e0f0000000000220020878ce58b26789632a24ec6b62542e5d4e844dee56a7ddce7db41618049c3928c040047304402203f26a975aae04a7ae12c964cdcea318c850351a3072aebbab7902e89957008ea022019f895271f70d1515f9da776d6ac17c21bcbca769d87c1beb4ebbf4c7a56fbc20147304402204fd654c27002d4c9e53bb001229e3d7587e5be245a81b6f7ead3bf136643af40022060ebf1193a6b3e82615a564f0043e5ae88e661bfdb7fd254c9a30bae816058390147522102c1b6ac6e6a625fee295dc2d580f80aae08b7e76eca54ae88a854e956095af77c210247aed77c3def4b8ce74a8db08d7f5fd315f8d96b6cd801729a910c3045d750f252ae00000000\n"
     ]
    }
   ],
   "source": [
    "# Exercise 16\n",
    "\n",
    "from io import BytesIO\n",
    "from psbt import NamedHDPublicKey, PSBT\n",
    "hex_psbt = '70736274ff01005e01000000015c89191dc2abf62339e0f114cb4c3bf8fb399d522d112c9afa2dc7a43759f9060200000000ffffffff01583e0f0000000000220020878ce58b26789632a24ec6b62542e5d4e844dee56a7ddce7db41618049c3928c000000004f01043587cf034d513c1580000000fb406c9fec09b6957a3449d2102318717b0c0d230b657d0ebc6698abd52145eb02eaf3397fea02c5dac747888a9e535eaf3c7e7cb9d5f2da77ddbdd943592a14af10fbfef36f2c00008001000080000000800001012b40420f0000000000220020c1b4fff485af1ac26714340af2e13d2e89ad70389332a0756d91a123c7fe7f5d220202c1b6ac6e6a625fee295dc2d580f80aae08b7e76eca54ae88a854e956095af77c47304402203f26a975aae04a7ae12c964cdcea318c850351a3072aebbab7902e89957008ea022019f895271f70d1515f9da776d6ac17c21bcbca769d87c1beb4ebbf4c7a56fbc20122020247aed77c3def4b8ce74a8db08d7f5fd315f8d96b6cd801729a910c3045d750f247304402204fd654c27002d4c9e53bb001229e3d7587e5be245a81b6f7ead3bf136643af40022060ebf1193a6b3e82615a564f0043e5ae88e661bfdb7fd254c9a30bae8160583901010547522102c1b6ac6e6a625fee295dc2d580f80aae08b7e76eca54ae88a854e956095af77c210247aed77c3def4b8ce74a8db08d7f5fd315f8d96b6cd801729a910c3045d750f252ae22060247aed77c3def4b8ce74a8db08d7f5fd315f8d96b6cd801729a910c3045d750f218797dcdac2c00008001000080000000800000000000000000220602c1b6ac6e6a625fee295dc2d580f80aae08b7e76eca54ae88a854e956095af77c18fbfef36f2c0000800100008000000080000000000000000000010147522102db8b701c3210e1bf6f2a8a9a657acad18be1e8bff3f7435d48f973de8408f29021026421c7673552fdad57193e102df96134be00649195b213fec9d07c6d918f418d52ae2202026421c7673552fdad57193e102df96134be00649195b213fec9d07c6d918f418d18797dcdac2c00008001000080000000800100000000000000220202db8b701c3210e1bf6f2a8a9a657acad18be1e8bff3f7435d48f973de8408f29018fbfef36f2c0000800100008000000080010000000000000000'\n",
    "psbt_obj = PSBT.parse(BytesIO(bytes.fromhex(hex_psbt)))\n",
    "psbt_obj.tx_obj.testnet = True\n",
    "# finalize\n",
    "psbt_obj.finalize()\n",
    "# get the final Tx\n",
    "final_tx = psbt_obj.final_tx()\n",
    "# print the tx serialized hex to see what it looks like\n",
    "print(final_tx.serialize().hex())"
   ]
  },
  {
   "cell_type": "markdown",
   "metadata": {},
   "source": [
    "### Exercise 17\n",
    "\n",
    "\n",
    "\n",
    "\n",
    "#### Make [this test](/edit/session5/psbt.py) pass: `psbt.py:PSBTTest:test_p2sh_p2wsh`"
   ]
  },
  {
   "cell_type": "code",
   "execution_count": 20,
   "metadata": {},
   "outputs": [
    {
     "name": "stderr",
     "output_type": "stream",
     "text": [
      ".\n",
      "----------------------------------------------------------------------\n",
      "Ran 1 test in 3.399s\n",
      "\n",
      "OK\n"
     ]
    }
   ],
   "source": [
    "# Exercise 17\n",
    "\n",
    "reload(psbt)\n",
    "run(psbt.PSBTTest('test_p2sh_p2wsh'))"
   ]
  },
  {
   "cell_type": "markdown",
   "metadata": {},
   "source": [
    "### Exercise 18\n",
    "\n",
    "#### Combine, update, sign, finalize, extract and finalize the PSBTs sent to you\n",
    "\n"
   ]
  },
  {
   "cell_type": "code",
   "execution_count": 21,
   "metadata": {},
   "outputs": [
    {
     "name": "stdout",
     "output_type": "stream",
     "text": [
      "True\n",
      "010000000001015c89191dc2abf62339e0f114cb4c3bf8fb399d522d112c9afa2dc7a43759f90603000000232200207fcc2ca7381db4bdfd02e1f2b5eb3d72435b8e09bdbd8bfe3d748bf19d78ef38ffffffff01583e0f0000000000220020878ce58b26789632a24ec6b62542e5d4e844dee56a7ddce7db41618049c3928c05004830450221008c892608dcbbc5b40fc40a82bb4bdeeb79f4a81b4a8d26d0915d2ba2c3d84a28022076d5507bf6ad60893e9baaf7690823d5c85a8720abab7bb48a64449c1b5c9ff501483045022100e7dc3213aff7676be5bc087fe1698b1b04e53555f93bb11478bd22c0b6a6ffe502205c86c17bcb4d9bf7bd7ae82f18af5f7f387f72c82af27ecd4b9f6b68f2f2821b01483045022100981caa0b9e5ebe5e125e913b03b0fd4fd4b3545b7aabfb06994389991d27584802206a80027d7cc16a7fe94dd847f3038d080f7edbc983f47dd7c8b5b295bbe614740169532102c1b6ac6e6a625fee295dc2d580f80aae08b7e76eca54ae88a854e956095af77c21031b31547c895b5e301206740ea9890a0d6d127baeebb7fffb07356527323c915b210247aed77c3def4b8ce74a8db08d7f5fd315f8d96b6cd801729a910c3045d750f253ae00000000\n"
     ]
    }
   ],
   "source": [
    "# Exercise 18\n",
    "\n",
    "from hd import HDPrivateKey\n",
    "from io import BytesIO\n",
    "from psbt import NamedHDPublicKey, PSBT\n",
    "hex_psbt_1 = '70736274ff01005e01000000015c89191dc2abf62339e0f114cb4c3bf8fb399d522d112c9afa2dc7a43759f9060300000000ffffffff01583e0f0000000000220020878ce58b26789632a24ec6b62542e5d4e844dee56a7ddce7db41618049c3928c000000000001012040420f000000000017a91423358e259fbcf478331138ceb9619d9a8c835073872202031b31547c895b5e301206740ea9890a0d6d127baeebb7fffb07356527323c915b483045022100e7dc3213aff7676be5bc087fe1698b1b04e53555f93bb11478bd22c0b6a6ffe502205c86c17bcb4d9bf7bd7ae82f18af5f7f387f72c82af27ecd4b9f6b68f2f2821b0101042200207fcc2ca7381db4bdfd02e1f2b5eb3d72435b8e09bdbd8bfe3d748bf19d78ef38010569532102c1b6ac6e6a625fee295dc2d580f80aae08b7e76eca54ae88a854e956095af77c21031b31547c895b5e301206740ea9890a0d6d127baeebb7fffb07356527323c915b210247aed77c3def4b8ce74a8db08d7f5fd315f8d96b6cd801729a910c3045d750f253ae220602c1b6ac6e6a625fee295dc2d580f80aae08b7e76eca54ae88a854e956095af77c18fbfef36f2c000080010000800000008000000000000000002206031b31547c895b5e301206740ea9890a0d6d127baeebb7fffb07356527323c915b18fbfef36f2c000080010000800000008000000000010000000000'\n",
    "hex_psbt_2 = '70736274ff01005e01000000015c89191dc2abf62339e0f114cb4c3bf8fb399d522d112c9afa2dc7a43759f9060300000000ffffffff01583e0f0000000000220020878ce58b26789632a24ec6b62542e5d4e844dee56a7ddce7db41618049c3928c000000000001012040420f000000000017a91423358e259fbcf478331138ceb9619d9a8c83507387220202c1b6ac6e6a625fee295dc2d580f80aae08b7e76eca54ae88a854e956095af77c4830450221008c892608dcbbc5b40fc40a82bb4bdeeb79f4a81b4a8d26d0915d2ba2c3d84a28022076d5507bf6ad60893e9baaf7690823d5c85a8720abab7bb48a64449c1b5c9ff50101042200207fcc2ca7381db4bdfd02e1f2b5eb3d72435b8e09bdbd8bfe3d748bf19d78ef38010569532102c1b6ac6e6a625fee295dc2d580f80aae08b7e76eca54ae88a854e956095af77c21031b31547c895b5e301206740ea9890a0d6d127baeebb7fffb07356527323c915b210247aed77c3def4b8ce74a8db08d7f5fd315f8d96b6cd801729a910c3045d750f253ae220602c1b6ac6e6a625fee295dc2d580f80aae08b7e76eca54ae88a854e956095af77c18fbfef36f2c000080010000800000008000000000000000002206031b31547c895b5e301206740ea9890a0d6d127baeebb7fffb07356527323c915b18fbfef36f2c000080010000800000008000000000010000000000'\n",
    "psbt_obj_1 = PSBT.parse(BytesIO(bytes.fromhex(hex_psbt_1)))\n",
    "psbt_obj_1.tx_obj.testnet = True\n",
    "psbt_obj_2 = PSBT.parse(BytesIO(bytes.fromhex(hex_psbt_2)))\n",
    "psbt_obj_2.tx_obj.testnet = True\n",
    "mnemonic = 'abandon abandon abandon abandon abandon abandon abandon abandon abandon abandon abandon about'\n",
    "passphrase = b'jimmy@programmingblockchain.com Jimmy Song 2'\n",
    "path = \"m/44'/1'/0'\"\n",
    "# get the private key using the mnemonic, passphrase and testnet=True\n",
    "hd_priv = HDPrivateKey.from_mnemonic(mnemonic, passphrase, testnet=True)\n",
    "# create the NamedHDPublicKey using the HDPrivateKey and path\n",
    "named_hd = NamedHDPublicKey.from_hd_priv(hd_priv, path)\n",
    "# combine the two objects\n",
    "psbt_obj_1.combine(psbt_obj_2)\n",
    "# grab the pubkey lookup using bip44_lookup\n",
    "pubkey_lookup = named_hd.bip44_lookup()\n",
    "# update the PSBT\n",
    "psbt_obj_1.update({}, pubkey_lookup)\n",
    "# sign the psbt\n",
    "print(psbt_obj_1.sign(hd_priv))\n",
    "# finalize the transaction\n",
    "psbt_obj_1.finalize()\n",
    "# get the final Tx\n",
    "final_tx = psbt_obj_1.final_tx()\n",
    "# print the tx serialized hex to see what it looks like\n",
    "print(final_tx.serialize().hex())"
   ]
  }
 ],
 "metadata": {
  "kernelspec": {
   "display_name": "Python 3",
   "language": "python",
   "name": "python3"
  },
  "language_info": {
   "codemirror_mode": {
    "name": "ipython",
    "version": 3
   },
   "file_extension": ".py",
   "mimetype": "text/x-python",
   "name": "python",
   "nbconvert_exporter": "python",
   "pygments_lexer": "ipython3",
   "version": "3.6.7"
  }
 },
 "nbformat": 4,
 "nbformat_minor": 2
}
