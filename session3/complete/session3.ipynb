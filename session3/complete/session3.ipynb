{
 "cells": [
  {
   "cell_type": "markdown",
   "metadata": {
    "slideshow": {
     "slide_type": "slide"
    }
   },
   "source": [
    "![](/files/programmingwallet.png)\n"
   ]
  },
  {
   "cell_type": "markdown",
   "metadata": {
    "slideshow": {
     "slide_type": "slide"
    }
   },
   "source": [
    "![](/files/session3/s3.png)\n"
   ]
  },
  {
   "cell_type": "markdown",
   "metadata": {
    "slideshow": {
     "slide_type": "slide"
    }
   },
   "source": [
    "# Session 3 Objectives\n",
    "* Learn HD Wallets (BIP32)\n",
    "* Learn HD Wallet Organization (BIP44)\n",
    "* Learn Mnemonic Backup (BIP39)\n",
    "* Create Wallet Seeds\n"
   ]
  },
  {
   "cell_type": "markdown",
   "metadata": {
    "slideshow": {
     "slide_type": "slide"
    }
   },
   "source": [
    "# HD Wallets\n"
   ]
  },
  {
   "cell_type": "markdown",
   "metadata": {
    "slideshow": {
     "slide_type": "slide"
    }
   },
   "source": [
    "# Motivation\n",
    "* Reusing Addresses compromises privacy\n",
    "* Creating a new private key means having to back it up\n",
    "* Core wallet used to generate 100 private keys at a time\n",
    "* Backing up many private keys is not easy to do on paper\n"
   ]
  },
  {
   "cell_type": "markdown",
   "metadata": {
    "slideshow": {
     "slide_type": "slide"
    }
   },
   "source": [
    "# Deterministic Wallets\n",
    "* Single seed can generate virtually infinite private keys\n",
    "* (N+1)st private key generated from the Nth private key and a code\n",
    "* Used first in Armory back in 2012\n"
   ]
  },
  {
   "cell_type": "markdown",
   "metadata": {
    "slideshow": {
     "slide_type": "slide"
    }
   },
   "source": [
    "# Naive Deterministic Wallet\n",
    "* $eG=P$\n",
    "* $(e+1)G=eG+G=P+G$\n",
    "* $(e+2)G=eG+2G=P+2G$\n",
    "* ...\n",
    "* Store private key $e$ and reveal $P$ to payer\n",
    "* No privacy from chain analysis or payer\n"
   ]
  },
  {
   "cell_type": "markdown",
   "metadata": {
    "slideshow": {
     "slide_type": "slide"
    }
   },
   "source": [
    "# Robust Deterministic Wallet\n",
    "* $eG=P$, $c$ is a shared secret, $H$ is a hash function\n",
    "* $(e+H(c,P,1))G=P+H(1+P,c)G$\n",
    "* $(e+H(c,P,2))G=P+H(2+P,c)G$\n",
    "* ...\n",
    "* Store private key $e$ and reveal $P$, $c$ to payer\n",
    "* Privacy from chain analysis\n",
    "* No privacy from payers\n"
   ]
  },
  {
   "cell_type": "markdown",
   "metadata": {
    "slideshow": {
     "slide_type": "slide"
    }
   },
   "source": [
    "# Message Authentication Codes\n",
    "* Used for verifying that a message is authentic when you share a secret already\n",
    "* HMAC is an implementation of MAC where H stands for \"hash-based\"\n",
    "* Most cryptographic hash functions (like sha256) have an HMAC implementation\n"
   ]
  },
  {
   "cell_type": "markdown",
   "metadata": {
    "slideshow": {
     "slide_type": "slide"
    }
   },
   "source": [
    "# Heirarchical Deterministic Wallets (BIP32)\n",
    "* Single seed + chain code (shared secret)\n",
    "* The master private key can generate $2^{32}$ child private keys\n",
    "* Every child private key can also generate $2^{32}$ child private keys\n",
    "* Revealing a child public key does not reveal the parent public key\n",
    "* Adds privacy from recpients\n"
   ]
  },
  {
   "cell_type": "markdown",
   "metadata": {
    "slideshow": {
     "slide_type": "slide"
    }
   },
   "source": [
    "# Implementation\n",
    "* $eG=P$, $e$ is the private key, $P$ is the public key\n",
    "* $c$ is the chaincode $H$ is the HMAC-SHA512 function\n",
    "* $2^{31}$ hardened keys and $2^{31}$ unhardened keys\n",
    "* Hardened means the public key ($P$) and chain code ($c$) *cannot* derive the child public key.\n",
    "* Unhardened means the public key ($P$) and chain code ($c$) *can* derive the child public key\n"
   ]
  },
  {
   "cell_type": "markdown",
   "metadata": {
    "slideshow": {
     "slide_type": "slide"
    }
   },
   "source": [
    "# Defining a HD Public Key\n",
    "* public key - normal ECC public key (33 bytes)\n",
    "* chain code - 32-byte shared secret with payers\n",
    "* depth - 0 is root, 1 is a child of root, 2 is grandchild of root, etc.\n",
    "* fingerprint- `00000000` for root, first 4 bytes of parent pubkey's hash160.\n",
    "* child number - ordering from parent\n"
   ]
  },
  {
   "cell_type": "markdown",
   "metadata": {
    "slideshow": {
     "slide_type": "slide"
    }
   },
   "source": [
    "# Defining a HD Private Key\n",
    "* private key - normal ECC private key (33 bytes)\n",
    "* chain code - 32-byte shared secret with payers\n",
    "* depth - 0 is root, 1 is a child of root, 2 is grandchild of root, etc.\n",
    "* fingerprint- `00000000` for root, first 4 bytes of parent pubkey's hash160.\n",
    "* child number - ordering from parent\n"
   ]
  },
  {
   "cell_type": "markdown",
   "metadata": {
    "slideshow": {
     "slide_type": "slide"
    }
   },
   "source": [
    "# Process for generating a Master HD Private Key\n",
    "* Create a seed of 128 to 512 bits\n",
    "* Calculate $h=H(d,s)$ where $H$ is HMAC-SHA512, $d$ is `Bitcoin seed` and $s$ is the seed.\n",
    "* Master secret = first 256 bits of $h$ in big-endian\n",
    "* Master chain code = last 256 bits of $h$ in big-endian\n"
   ]
  },
  {
   "cell_type": "code",
   "execution_count": null,
   "metadata": {
    "slideshow": {
     "slide_type": "slide"
    }
   },
   "outputs": [],
   "source": [
    "# Example Master Key Generation\n",
    "from ecc import PrivateKey\n",
    "from helper import big_endian_to_int, hmac_sha512, raw_decode_base58\n",
    "from hd import HDPrivateKey\n",
    "seed = b'jimmy@programmingblockchain.com Jimmy Song'\n",
    "h = hmac_sha512(b'Bitcoin seed', seed)\n",
    "private_key = PrivateKey(secret=big_endian_to_int(h[:32]))\n",
    "chain_code = h[32:]\n",
    "master = HDPrivateKey(\n",
    "    private_key=private_key,\n",
    "    chain_code=chain_code,\n",
    "    testnet=True,\n",
    ")\n",
    "print(master.bech32_address())"
   ]
  },
  {
   "cell_type": "code",
   "execution_count": null,
   "metadata": {
    "slideshow": {
     "slide_type": "skip"
    }
   },
   "outputs": [],
   "source": [
    "############## PLEASE RUN THIS CELL FIRST! ###################\n",
    "\n",
    "# import everything and define a test runner function\n",
    "from importlib import reload\n",
    "from helper import run\n",
    "import hd, tx"
   ]
  },
  {
   "cell_type": "markdown",
   "metadata": {
    "slideshow": {
     "slide_type": "slide"
    }
   },
   "source": [
    "### Exercise 1\n",
    "\n",
    "\n",
    "\n",
    "\n",
    "#### Make [this test](/edit/session3/hd.py) pass: `hd.py:HDTest:test_from_seed`"
   ]
  },
  {
   "cell_type": "code",
   "execution_count": null,
   "metadata": {},
   "outputs": [],
   "source": [
    "# Exercise 1\n",
    "\n",
    "reload(hd)\n",
    "run(hd.HDTest('test_from_seed'))"
   ]
  },
  {
   "cell_type": "code",
   "execution_count": null,
   "metadata": {
    "slideshow": {
     "slide_type": "slide"
    }
   },
   "outputs": [],
   "source": [
    "# Example Unhardened Child Derivation\n",
    "from ecc import N\n",
    "from hd import HDPrivateKey\n",
    "from helper import big_endian_to_int, hmac_sha512, int_to_big_endian\n",
    "seed_phrase = b'jimmy@programmingblockchain.com Jimmy Song'\n",
    "master = HDPrivateKey.from_seed(seed_phrase, True)\n",
    "index = 0\n",
    "data = master.private_key.point.sec() + int_to_big_endian(index, 4)\n",
    "h = hmac_sha512(master.chain_code, data)\n",
    "secret = (big_endian_to_int(h[:32]) + master.private_key.secret) % N\n",
    "unhardened_child = HDPrivateKey(\n",
    "    private_key=PrivateKey(secret=secret),\n",
    "    chain_code=h[32:],\n",
    "    depth=master.depth + 1,\n",
    "    parent_fingerprint=master.fingerprint(),\n",
    "    child_number=index,\n",
    "    testnet=master.testnet,\n",
    ")\n",
    "print(unhardened_child.bech32_address())"
   ]
  },
  {
   "cell_type": "code",
   "execution_count": null,
   "metadata": {
    "slideshow": {
     "slide_type": "slide"
    }
   },
   "outputs": [],
   "source": [
    "# Example Hardened Child Derivation\n",
    "from ecc import N\n",
    "from hd import HDPrivateKey\n",
    "from helper import big_endian_to_int, hmac_sha512, int_to_big_endian\n",
    "seed_phrase = b'jimmy@programmingblockchain.com Jimmy Song'\n",
    "master = HDPrivateKey.from_seed(seed_phrase, True)\n",
    "index = 0x80000002\n",
    "data = int_to_big_endian(master.private_key.secret, 33) + int_to_big_endian(index, 4)\n",
    "h = hmac_sha512(master.chain_code, data)\n",
    "secret = (big_endian_to_int(h[:32]) + master.private_key.secret) % N\n",
    "hardened_child = HDPrivateKey(\n",
    "    private_key=PrivateKey(secret=secret),\n",
    "    chain_code=h[32:],\n",
    "    depth=master.depth + 1,\n",
    "    parent_fingerprint=master.fingerprint(),\n",
    "    child_number=index,\n",
    "    testnet=master.testnet,\n",
    ")\n",
    "print(hardened_child.bech32_address())"
   ]
  },
  {
   "cell_type": "markdown",
   "metadata": {
    "slideshow": {
     "slide_type": "slide"
    }
   },
   "source": [
    "### Exercise 2\n",
    "\n",
    "\n",
    "\n",
    "\n",
    "#### Make [this test](/edit/session3/hd.py) pass: `hd.py:HDTest:test_child`"
   ]
  },
  {
   "cell_type": "code",
   "execution_count": null,
   "metadata": {},
   "outputs": [],
   "source": [
    "# Exercise 2\n",
    "\n",
    "reload(hd)\n",
    "run(hd.HDTest('test_child'))"
   ]
  },
  {
   "cell_type": "code",
   "execution_count": null,
   "metadata": {
    "slideshow": {
     "slide_type": "slide"
    }
   },
   "outputs": [],
   "source": [
    "# example of private key path traversal\n",
    "from hd import HDPrivateKey\n",
    "seed_phrase = b'jimmy@programmingblockchain.com Jimmy Song'\n",
    "master = HDPrivateKey.from_seed(seed_phrase, True)\n",
    "current = master\n",
    "path = \"m/0/1'/2/3'\"\n",
    "components = path.split('/')[1:]\n",
    "for child in components:\n",
    "    if child.endswith(\"'\"):\n",
    "        index = int(child[:-1]) + 0x80000000\n",
    "    else:\n",
    "        index = int(child)\n",
    "    current = current.child(index)\n",
    "print(current.bech32_address())"
   ]
  },
  {
   "cell_type": "markdown",
   "metadata": {
    "slideshow": {
     "slide_type": "slide"
    }
   },
   "source": [
    "### Exercise 3\n",
    "\n",
    "\n",
    "\n",
    "\n",
    "#### Make [this test](/edit/session3/hd.py) pass: `hd.py:HDTest:test_traverse`"
   ]
  },
  {
   "cell_type": "code",
   "execution_count": null,
   "metadata": {},
   "outputs": [],
   "source": [
    "# Exercise 3\n",
    "\n",
    "reload(hd)\n",
    "run(hd.HDTest('test_traverse'))"
   ]
  },
  {
   "cell_type": "code",
   "execution_count": null,
   "metadata": {
    "slideshow": {
     "slide_type": "slide"
    }
   },
   "outputs": [],
   "source": [
    "# Example to create an xpub\n",
    "from hd import HDPrivateKey\n",
    "from helper import encode_base58_checksum, int_to_byte, int_to_big_endian\n",
    "passphrase = b'jimmy@programmingblockchain.com Jimmy Song'\n",
    "hd_priv = HDPrivateKey.from_seed(passphrase)\n",
    "raw = bytes.fromhex('0488b21e')\n",
    "raw += int_to_byte(hd_priv.depth)\n",
    "raw += hd_priv.parent_fingerprint\n",
    "raw += int_to_big_endian(hd_priv.child_number, 4)\n",
    "raw += hd_priv.chain_code\n",
    "raw += hd_priv.pub.point.sec()\n",
    "print(encode_base58_checksum(raw))"
   ]
  },
  {
   "cell_type": "markdown",
   "metadata": {
    "slideshow": {
     "slide_type": "slide"
    }
   },
   "source": [
    "### Exercise 4\n",
    "\n",
    "\n",
    "\n",
    "\n",
    "#### Make [this test](/edit/session3/hd.py) pass: `hd.py:HDTest:test_prv_pub`"
   ]
  },
  {
   "cell_type": "code",
   "execution_count": null,
   "metadata": {},
   "outputs": [],
   "source": [
    "# Exercise 4\n",
    "\n",
    "reload(hd)\n",
    "run(hd.HDTest('test_prv_pub'))"
   ]
  },
  {
   "cell_type": "markdown",
   "metadata": {
    "slideshow": {
     "slide_type": "slide"
    }
   },
   "source": [
    "### Exercise 5\n",
    "\n",
    "\n",
    "\n",
    "\n",
    "#### Make [this test](/edit/session3/hd.py) pass: `hd.py:HDTest:test_parse`"
   ]
  },
  {
   "cell_type": "code",
   "execution_count": null,
   "metadata": {},
   "outputs": [],
   "source": [
    "# Exercise 5\n",
    "\n",
    "reload(hd)\n",
    "run(hd.HDTest('test_parse'))"
   ]
  },
  {
   "cell_type": "markdown",
   "metadata": {
    "slideshow": {
     "slide_type": "slide"
    }
   },
   "source": [
    "### Exercise 6\n",
    "\n",
    "#### Create an extended public key\n",
    "\n",
    "Create a xpub on testnet (should start with tpub)\n",
    "\n"
   ]
  },
  {
   "cell_type": "code",
   "execution_count": null,
   "metadata": {},
   "outputs": [],
   "source": [
    "# Exercise 6\n",
    "\n",
    "from hd import HDPrivateKey\n",
    "passphrase = b'jimmy@programmingblockchain.com Jimmy Song'\n",
    "# create an HDPrivateKey instance using from_seed on testnet\n",
    "hd_priv = HDPrivateKey.from_seed(passphrase, testnet=True)\n",
    "# print the xpub\n",
    "print(hd_priv.xpub())"
   ]
  },
  {
   "cell_type": "code",
   "execution_count": null,
   "metadata": {
    "slideshow": {
     "slide_type": "slide"
    }
   },
   "outputs": [],
   "source": [
    "# Example of getting p2pkh/p2sh-p2wpkh/p2wpkh testnet addresses\n",
    "from hd import HDPrivateKey\n",
    "passphrase = b'jimmy@programmingblockchain.com Jimmy Song'\n",
    "hd_priv = HDPrivateKey.from_seed(passphrase, testnet=True)\n",
    "# p2pkh\n",
    "p2pkh_path = \"m/44'/1'/0'/0/0\"\n",
    "print(hd_priv.traverse(p2pkh_path).address())\n",
    "# p2sh-p2wpkh\n",
    "p2sh_p2wpkh_path = \"m/49'/1'/0'/0/0\"\n",
    "print(hd_priv.traverse(p2sh_p2wpkh_path).p2sh_p2wpkh_address())\n",
    "# p2wpkh\n",
    "p2wpkh_path = \"m/84'/1'/0'/0/0\"\n",
    "print(hd_priv.traverse(p2wpkh_path).bech32_address())"
   ]
  },
  {
   "cell_type": "markdown",
   "metadata": {
    "slideshow": {
     "slide_type": "slide"
    }
   },
   "source": [
    "### Exercise 7\n",
    "\n",
    "\n",
    "\n",
    "\n",
    "#### Make [this test](/edit/session3/hd.py) pass: `hd.py:HDTest:test_get_address`"
   ]
  },
  {
   "cell_type": "code",
   "execution_count": null,
   "metadata": {},
   "outputs": [],
   "source": [
    "# Exercise 7\n",
    "\n",
    "reload(hd)\n",
    "run(hd.HDTest('test_get_address'))"
   ]
  },
  {
   "cell_type": "markdown",
   "metadata": {
    "slideshow": {
     "slide_type": "slide"
    }
   },
   "source": [
    "### Exercise 8\n",
    "\n",
    "#### Create external p2pkh, p2sh_p2wpkh and p2wpkh addresses\n",
    "\n"
   ]
  },
  {
   "cell_type": "code",
   "execution_count": null,
   "metadata": {},
   "outputs": [],
   "source": [
    "# Exercise 8\n",
    "\n",
    "from hd import HDPrivateKey\n",
    "passphrase = b'jimmy@programmingblockchain.com Jimmy Song'\n",
    "# create an HDPrivateKey instance using from_seed on testnet\n",
    "hd_priv = HDPrivateKey.from_seed(passphrase, testnet=True)\n",
    "# print the p2pkh address\n",
    "print(hd_priv.get_p2pkh_receiving_address())\n",
    "# print the p2sh-pwpkh address\n",
    "print(hd_priv.get_p2sh_p2wpkh_receiving_address())\n",
    "# print the p2wpkh address\n",
    "print(hd_priv.get_p2wpkh_receiving_address())"
   ]
  },
  {
   "cell_type": "markdown",
   "metadata": {
    "slideshow": {
     "slide_type": "slide"
    }
   },
   "source": [
    "### Exercise 9\n",
    "\n",
    "#### Create xpub for account 0\n",
    "\n"
   ]
  },
  {
   "cell_type": "code",
   "execution_count": null,
   "metadata": {},
   "outputs": [],
   "source": [
    "# Exercise 9\n",
    "\n",
    "from hd import HDPrivateKey\n",
    "passphrase = b'jimmy@programmingblockchain.com Jimmy Song'\n",
    "# create an HDPrivateKey instance using from_seed on testnet\n",
    "hd_priv = HDPrivateKey.from_seed(passphrase, testnet=True)\n",
    "# calculate the path for purpose=44', coin=1' (testnet), account=0\n",
    "path = \"m/44'/1'/0'\"\n",
    "# print the xpub at that path\n",
    "print(hd_priv.traverse(path).xpub())"
   ]
  },
  {
   "cell_type": "code",
   "execution_count": null,
   "metadata": {
    "slideshow": {
     "slide_type": "slide"
    }
   },
   "outputs": [],
   "source": [
    "def secure_mnemonic(entropy=0, num_bits=128):\n",
    "    # if we have more than 128 bits, just mask everything but the last 128 bits\n",
    "    if len(bin(entropy)) > num_bits+2:\n",
    "        entropy &= (1 << num_bits) - 1\n",
    "    # xor some random bits with the entropy that was passed in\n",
    "    preseed = randbits(num_bits) ^ entropy\n",
    "    # convert the number to big-endian\n",
    "    s = int_to_big_endian(preseed, 16)\n",
    "    # 1 extra bit for checksum is needed per 32 bits\n",
    "    checksum_bits_needed = num_bits // 32\n",
    "    # the checksum is the sha256's first n bits. At most this is 8\n",
    "    checksum = sha256(s)[0] >> (8 - checksum_bits_needed)\n",
    "    # we concatenate the checksum to the preseed\n",
    "    total = (preseed << checksum_bits_needed) | checksum\n",
    "    # now we get the mnemonic passphrase\n",
    "    mnemonic = []\n",
    "    # now group into groups of 11 bits\n",
    "    for _ in range((num_bits + bits_needed) // 11):\n",
    "        # grab the last 11 bits\n",
    "        current = total & ((1 << 11) - 1)\n",
    "        # insert the correct word at the front\n",
    "        mnemonic.insert(0, WORD_LIST[current])\n",
    "        # shift by 11 bits so we can move to the next set\n",
    "        total >>= 11\n",
    "    # return the mnemonic phrase by putting spaces between\n",
    "    return ' '.join(mnemonic)"
   ]
  },
  {
   "cell_type": "code",
   "execution_count": null,
   "metadata": {
    "slideshow": {
     "slide_type": "slide"
    }
   },
   "outputs": [],
   "source": [
    "from hd import HDPrivateKey\n",
    "from helper import hmac_sha512_kdf, sha256\n",
    "from mnemonic import WORD_LOOKUP, WORD_LIST\n",
    "mnemonic = 'legal winner thank year wave sausage worth useful legal winner thank yellow'\n",
    "password = b'TREZOR'\n",
    "words = mnemonic.split()\n",
    "if len(words) not in (12, 15, 18, 21, 24):\n",
    "    raise ValueError('you need 12, 15, 18, 21, or 24 words')\n",
    "number = 0\n",
    "for word in words:\n",
    "    index = WORD_LOOKUP[word]\n",
    "    number = (number << 11) | index\n",
    "checksum_bits_length = len(words) // 3\n",
    "checksum = number & ((1 << checksum_bits_length) - 1)\n",
    "data_num = number >> checksum_bits_length\n",
    "data = int_to_big_endian(data_num, checksum_bits_length * 4)\n",
    "computed_checksum = sha256(data)[0] >> (8 - checksum_bits_length)\n",
    "if checksum != computed_checksum:\n",
    "    raise ValueError('words fail checksum: {}'.format(words))\n",
    "normalized_words = []\n",
    "for word in words:\n",
    "    normalized_words.append(WORD_LIST[WORD_LOOKUP[word]])\n",
    "normalized_mnemonic = ' '.join(normalized_words)\n",
    "salt = b'mnemonic' + password\n",
    "seed = hmac_sha512_kdf(normalized_mnemonic, salt)\n",
    "print(HDPrivateKey.from_seed(seed).xprv())"
   ]
  },
  {
   "cell_type": "markdown",
   "metadata": {
    "slideshow": {
     "slide_type": "slide"
    }
   },
   "source": [
    "### Exercise 10\n",
    "\n",
    "\n",
    "\n",
    "\n",
    "#### Make [this test](/edit/session3/hd.py) pass: `hd.py:HDTest:test_from_mnemonic`"
   ]
  },
  {
   "cell_type": "code",
   "execution_count": null,
   "metadata": {},
   "outputs": [],
   "source": [
    "# Exercise 10\n",
    "\n",
    "reload(hd)\n",
    "run(hd.HDTest('test_from_mnemonic'))"
   ]
  },
  {
   "cell_type": "markdown",
   "metadata": {
    "slideshow": {
     "slide_type": "slide"
    }
   },
   "source": [
    "### Exercise 11\n",
    "\n",
    "#### Generate a testnet extended public key at m/84'/1'/0' using the generic mnemonic and your own passphrase\n",
    "\n"
   ]
  },
  {
   "cell_type": "code",
   "execution_count": null,
   "metadata": {},
   "outputs": [],
   "source": [
    "# Exercise 11\n",
    "\n",
    "from hd import HDPrivateKey\n",
    "mnemonic = 'abandon abandon abandon abandon abandon abandon abandon abandon abandon abandon abandon about'\n",
    "passphrase = b'jimmy@programmingblockchain.com Jimmy Song'\n",
    "path = \"m/84'/1'/0'\"\n",
    "# create a private key using the mnemonic, passphrase, path and testnet=True\n",
    "hd_priv = HDPrivateKey.from_mnemonic(mnemonic, passphrase, path, True)\n",
    "# print the xpub\n",
    "print(hd_priv.xpub())"
   ]
  }
 ],
 "metadata": {},
 "nbformat": 4,
 "nbformat_minor": 2
}
