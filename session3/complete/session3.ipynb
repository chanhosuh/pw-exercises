{
 "cells": [
  {
   "cell_type": "code",
   "execution_count": 1,
   "metadata": {},
   "outputs": [],
   "source": [
    "############## PLEASE RUN THIS CELL FIRST! ###################\n",
    "\n",
    "# import everything and define a test runner function\n",
    "from importlib import reload\n",
    "from helper import run\n",
    "import hd, tx"
   ]
  },
  {
   "cell_type": "markdown",
   "metadata": {},
   "source": [
    "### Exercise 1\n",
    "\n",
    "\n",
    "\n",
    "\n",
    "#### Make [this test](/edit/session3/hd.py) pass: `hd.py:HDTest:test_from_seed`"
   ]
  },
  {
   "cell_type": "code",
   "execution_count": 2,
   "metadata": {},
   "outputs": [
    {
     "name": "stderr",
     "output_type": "stream",
     "text": [
      ".\n",
      "----------------------------------------------------------------------\n",
      "Ran 1 test in 0.061s\n",
      "\n",
      "OK\n"
     ]
    }
   ],
   "source": [
    "# Exercise 1\n",
    "\n",
    "reload(hd)\n",
    "run(hd.HDTest('test_from_seed'))"
   ]
  },
  {
   "cell_type": "markdown",
   "metadata": {},
   "source": [
    "### Exercise 2\n",
    "\n",
    "\n",
    "\n",
    "\n",
    "#### Make [this test](/edit/session3/hd.py) pass: `hd.py:HDTest:test_child`"
   ]
  },
  {
   "cell_type": "code",
   "execution_count": 3,
   "metadata": {},
   "outputs": [
    {
     "name": "stderr",
     "output_type": "stream",
     "text": [
      ".\n",
      "----------------------------------------------------------------------\n",
      "Ran 1 test in 0.240s\n",
      "\n",
      "OK\n"
     ]
    }
   ],
   "source": [
    "# Exercise 2\n",
    "\n",
    "reload(hd)\n",
    "run(hd.HDTest('test_child'))"
   ]
  },
  {
   "cell_type": "markdown",
   "metadata": {},
   "source": [
    "### Exercise 3\n",
    "\n",
    "\n",
    "\n",
    "\n",
    "#### Make [this test](/edit/session3/hd.py) pass: `hd.py:HDTest:test_traverse`"
   ]
  },
  {
   "cell_type": "code",
   "execution_count": 4,
   "metadata": {},
   "outputs": [
    {
     "name": "stderr",
     "output_type": "stream",
     "text": [
      ".\n",
      "----------------------------------------------------------------------\n",
      "Ran 1 test in 0.795s\n",
      "\n",
      "OK\n"
     ]
    }
   ],
   "source": [
    "# Exercise 3\n",
    "\n",
    "reload(hd)\n",
    "run(hd.HDTest('test_traverse'))"
   ]
  },
  {
   "cell_type": "markdown",
   "metadata": {},
   "source": [
    "### Exercise 4\n",
    "\n",
    "\n",
    "\n",
    "\n",
    "#### Make [this test](/edit/session3/hd.py) pass: `hd.py:HDTest:test_prv_pub`"
   ]
  },
  {
   "cell_type": "code",
   "execution_count": 5,
   "metadata": {},
   "outputs": [
    {
     "name": "stderr",
     "output_type": "stream",
     "text": [
      ".\n",
      "----------------------------------------------------------------------\n",
      "Ran 1 test in 2.647s\n",
      "\n",
      "OK\n"
     ]
    }
   ],
   "source": [
    "# Exercise 4\n",
    "\n",
    "reload(hd)\n",
    "run(hd.HDTest('test_prv_pub'))"
   ]
  },
  {
   "cell_type": "markdown",
   "metadata": {},
   "source": [
    "### Exercise 5\n",
    "\n",
    "\n",
    "\n",
    "\n",
    "#### Make [this test](/edit/session3/hd.py) pass: `hd.py:HDTest:test_parse`"
   ]
  },
  {
   "cell_type": "code",
   "execution_count": 6,
   "metadata": {},
   "outputs": [
    {
     "name": "stderr",
     "output_type": "stream",
     "text": [
      ".\n",
      "----------------------------------------------------------------------\n",
      "Ran 1 test in 0.062s\n",
      "\n",
      "OK\n"
     ]
    }
   ],
   "source": [
    "# Exercise 5\n",
    "\n",
    "reload(hd)\n",
    "run(hd.HDTest('test_parse'))"
   ]
  },
  {
   "cell_type": "markdown",
   "metadata": {},
   "source": [
    "### Exercise 6\n",
    "\n",
    "#### Create an extended public key\n",
    "\n",
    "Create a xpub on testnet (should start with tpub)\n",
    "\n"
   ]
  },
  {
   "cell_type": "code",
   "execution_count": 7,
   "metadata": {},
   "outputs": [
    {
     "name": "stdout",
     "output_type": "stream",
     "text": [
      "tpubD6NzVbkrYhZ4WcNYqjJknFvnt6tbaTB2sjxRKWEHUbom2NGZ7gk9rp7UGUCmVszQ3RniA1VS1cMLx7dQTj1pKtuhcwQSeaCXvPNibUHNR3F\n"
     ]
    }
   ],
   "source": [
    "# Exercise 6\n",
    "\n",
    "from hd import HDPrivateKey\n",
    "passphrase = b'jimmy@programmingblockchain.com Jimmy Song'\n",
    "# create an HDPrivateKey instance using from_seed on testnet\n",
    "hd_priv = HDPrivateKey.from_seed(passphrase, testnet=True)\n",
    "# print the xpub\n",
    "print(hd_priv.xpub())"
   ]
  },
  {
   "cell_type": "markdown",
   "metadata": {},
   "source": [
    "### Exercise 7\n",
    "\n",
    "\n",
    "\n",
    "\n",
    "#### Make [this test](/edit/session3/hd.py) pass: `hd.py:HDTest:test_get_address`"
   ]
  },
  {
   "cell_type": "code",
   "execution_count": 8,
   "metadata": {},
   "outputs": [
    {
     "name": "stderr",
     "output_type": "stream",
     "text": [
      ".\n",
      "----------------------------------------------------------------------\n",
      "Ran 1 test in 1.914s\n",
      "\n",
      "OK\n"
     ]
    }
   ],
   "source": [
    "# Exercise 7\n",
    "\n",
    "reload(hd)\n",
    "run(hd.HDTest('test_get_address'))"
   ]
  },
  {
   "cell_type": "markdown",
   "metadata": {},
   "source": [
    "### Exercise 8\n",
    "\n",
    "#### Create external p2pkh, p2sh_p2wpkh and p2wpkh addresses\n",
    "\n"
   ]
  },
  {
   "cell_type": "code",
   "execution_count": 9,
   "metadata": {},
   "outputs": [
    {
     "name": "stdout",
     "output_type": "stream",
     "text": [
      "mpLAmKy2kMhTFSHRKcJzhdRTMjWYRp5rdt\n",
      "2NBZYna15Fp45bFmice7Ld99B6HvwHRTNNz\n",
      "tb1qrpeej834jx0ll3euv86fg09865falq83zp7v27\n"
     ]
    }
   ],
   "source": [
    "# Exercise 8\n",
    "\n",
    "from hd import HDPrivateKey\n",
    "passphrase = b'jimmy@programmingblockchain.com Jimmy Song'\n",
    "# create an HDPrivateKey instance using from_seed on testnet\n",
    "hd_priv = HDPrivateKey.from_seed(passphrase, testnet=True)\n",
    "# print the p2pkh address\n",
    "print(hd_priv.get_p2pkh_receiving_address())\n",
    "# print the p2sh-pwpkh address\n",
    "print(hd_priv.get_p2sh_p2wpkh_receiving_address())\n",
    "# print the p2wpkh address\n",
    "print(hd_priv.get_p2wpkh_receiving_address())"
   ]
  },
  {
   "cell_type": "markdown",
   "metadata": {},
   "source": [
    "### Exercise 9\n",
    "\n",
    "#### Create xpub for account 0\n",
    "\n"
   ]
  },
  {
   "cell_type": "code",
   "execution_count": 10,
   "metadata": {},
   "outputs": [
    {
     "name": "stdout",
     "output_type": "stream",
     "text": [
      "tpubDDNz9YHarfY2LUuBCMs9nw25BfE8LTjXe2YSuqqZCCk4JdvFswmPUa9myShQng1FxHs2Z1bV9Wik5oR69DjJkEsZn2co7ejVKup8iAMNWyc\n"
     ]
    }
   ],
   "source": [
    "# Exercise 9\n",
    "\n",
    "from hd import HDPrivateKey\n",
    "passphrase = b'jimmy@programmingblockchain.com Jimmy Song'\n",
    "# create an HDPrivateKey instance using from_seed on testnet\n",
    "hd_priv = HDPrivateKey.from_seed(passphrase, testnet=True)\n",
    "# calculate the path for purpose=44', coin=1' (testnet), account=0\n",
    "path = \"m/44'/1'/0'\"\n",
    "# print the xpub at that path\n",
    "print(hd_priv.traverse(path).xpub())"
   ]
  },
  {
   "cell_type": "markdown",
   "metadata": {},
   "source": [
    "### Exercise 10\n",
    "\n",
    "\n",
    "\n",
    "\n",
    "#### Make [this test](/edit/session3/hd.py) pass: `hd.py:HDTest:test_from_mnemonic`"
   ]
  },
  {
   "cell_type": "code",
   "execution_count": 11,
   "metadata": {},
   "outputs": [
    {
     "name": "stderr",
     "output_type": "stream",
     "text": [
      ".\n",
      "----------------------------------------------------------------------\n",
      "Ran 1 test in 1.935s\n",
      "\n",
      "OK\n"
     ]
    }
   ],
   "source": [
    "# Exercise 10\n",
    "\n",
    "reload(hd)\n",
    "run(hd.HDTest('test_from_mnemonic'))"
   ]
  },
  {
   "cell_type": "markdown",
   "metadata": {},
   "source": [
    "### Exercise 11\n",
    "\n",
    "#### Generate a testnet extended public key at m/84'/1'/0' using the generic mnemonic and your own passphrase\n",
    "\n"
   ]
  },
  {
   "cell_type": "code",
   "execution_count": 12,
   "metadata": {},
   "outputs": [
    {
     "name": "stdout",
     "output_type": "stream",
     "text": [
      "tpubDD1e7uBTB1CxR8tJYsWswsrJob2R639TRSDgN3eyPyJJ6qoqZwHZ3GWdJ69Ppmpwy6aRhhQmx6WJt4mX7nwpVTU3HAAEY9gaJ32NnF9CjHQ\n"
     ]
    }
   ],
   "source": [
    "# Exercise 11\n",
    "\n",
    "from hd import HDPrivateKey\n",
    "mnemonic = 'abandon abandon abandon abandon abandon abandon abandon abandon abandon abandon abandon about'\n",
    "passphrase = b'jimmy@programmingblockchain.com Jimmy Song'\n",
    "path = \"m/84'/1'/0'\"\n",
    "# create a private key using the mnemonic, passphrase, path and testnet=True\n",
    "hd_priv = HDPrivateKey.from_mnemonic(mnemonic, passphrase, path, True)\n",
    "print(hd_priv.xpub())"
   ]
  }
 ],
 "metadata": {
  "kernelspec": {
   "display_name": "Python 3",
   "language": "python",
   "name": "python3"
  },
  "language_info": {
   "codemirror_mode": {
    "name": "ipython",
    "version": 3
   },
   "file_extension": ".py",
   "mimetype": "text/x-python",
   "name": "python",
   "nbconvert_exporter": "python",
   "pygments_lexer": "ipython3",
   "version": "3.6.7"
  }
 },
 "nbformat": 4,
 "nbformat_minor": 2
}
