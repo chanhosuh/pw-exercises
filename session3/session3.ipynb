{
 "cells": [
  {
   "cell_type": "code",
   "execution_count": null,
   "metadata": {},
   "outputs": [],
   "source": [
    "############## PLEASE RUN THIS CELL FIRST! ###################\n",
    "\n",
    "# import everything and define a test runner function\n",
    "from importlib import reload\n",
    "from helper import run\n",
    "import hd, tx"
   ]
  },
  {
   "cell_type": "markdown",
   "metadata": {},
   "source": [
    "### Exercise 1\n",
    "\n",
    "\n",
    "\n",
    "\n",
    "#### Make [this test](/edit/session3/hd.py) pass: `hd.py:HDTest:test_from_seed`"
   ]
  },
  {
   "cell_type": "code",
   "execution_count": null,
   "metadata": {},
   "outputs": [],
   "source": [
    "# Exercise 1\n",
    "\n",
    "reload(hd)\n",
    "run(hd.HDTest('test_from_seed'))"
   ]
  },
  {
   "cell_type": "markdown",
   "metadata": {},
   "source": [
    "### Exercise 2\n",
    "\n",
    "\n",
    "\n",
    "\n",
    "#### Make [this test](/edit/session3/hd.py) pass: `hd.py:HDTest:test_child`"
   ]
  },
  {
   "cell_type": "code",
   "execution_count": null,
   "metadata": {},
   "outputs": [],
   "source": [
    "# Exercise 2\n",
    "\n",
    "reload(hd)\n",
    "run(hd.HDTest('test_child'))"
   ]
  },
  {
   "cell_type": "markdown",
   "metadata": {},
   "source": [
    "### Exercise 3\n",
    "\n",
    "\n",
    "\n",
    "\n",
    "#### Make [this test](/edit/session3/hd.py) pass: `hd.py:HDTest:test_traverse`"
   ]
  },
  {
   "cell_type": "code",
   "execution_count": null,
   "metadata": {},
   "outputs": [],
   "source": [
    "# Exercise 3\n",
    "\n",
    "reload(hd)\n",
    "run(hd.HDTest('test_traverse'))"
   ]
  },
  {
   "cell_type": "markdown",
   "metadata": {},
   "source": [
    "### Exercise 4\n",
    "\n",
    "\n",
    "\n",
    "\n",
    "#### Make [this test](/edit/session3/hd.py) pass: `hd.py:HDTest:test_prv_pub`"
   ]
  },
  {
   "cell_type": "code",
   "execution_count": null,
   "metadata": {},
   "outputs": [],
   "source": [
    "# Exercise 4\n",
    "\n",
    "reload(hd)\n",
    "run(hd.HDTest('test_prv_pub'))"
   ]
  },
  {
   "cell_type": "markdown",
   "metadata": {},
   "source": [
    "### Exercise 5\n",
    "\n",
    "\n",
    "\n",
    "\n",
    "#### Make [this test](/edit/session3/hd.py) pass: `hd.py:HDTest:test_parse`"
   ]
  },
  {
   "cell_type": "code",
   "execution_count": null,
   "metadata": {},
   "outputs": [],
   "source": [
    "# Exercise 5\n",
    "\n",
    "reload(hd)\n",
    "run(hd.HDTest('test_parse'))"
   ]
  },
  {
   "cell_type": "markdown",
   "metadata": {},
   "source": [
    "### Exercise 6\n",
    "\n",
    "#### Create an extended public key\n",
    "\n",
    "Create a xpub on testnet (should start with tpub)\n",
    "\n"
   ]
  },
  {
   "cell_type": "code",
   "execution_count": null,
   "metadata": {},
   "outputs": [],
   "source": [
    "# Exercise 6\n",
    "\n",
    "from hd import HDPrivateKey\n",
    "passphrase = b'<fill this in>'\n",
    "# create an HDPrivateKey instance using from_seed on testnet\n",
    "\n",
    "# print the xpub\n"
   ]
  },
  {
   "cell_type": "markdown",
   "metadata": {},
   "source": [
    "### Exercise 7\n",
    "\n",
    "\n",
    "\n",
    "\n",
    "#### Make [this test](/edit/session3/hd.py) pass: `hd.py:HDTest:test_get_address`"
   ]
  },
  {
   "cell_type": "code",
   "execution_count": null,
   "metadata": {},
   "outputs": [],
   "source": [
    "# Exercise 7\n",
    "\n",
    "reload(hd)\n",
    "run(hd.HDTest('test_get_address'))"
   ]
  },
  {
   "cell_type": "markdown",
   "metadata": {},
   "source": [
    "### Exercise 8\n",
    "\n",
    "#### Create external p2pkh, p2sh_p2wpkh and p2wpkh addresses\n",
    "\n"
   ]
  },
  {
   "cell_type": "code",
   "execution_count": null,
   "metadata": {},
   "outputs": [],
   "source": [
    "# Exercise 8\n",
    "\n",
    "from hd import HDPrivateKey\n",
    "passphrase = b'<fill this in>'\n",
    "# create an HDPrivateKey instance using from_seed on testnet\n",
    "\n",
    "# print the p2pkh address\n",
    "\n",
    "# print the p2sh-pwpkh address\n",
    "\n",
    "# print the p2wpkh address\n"
   ]
  },
  {
   "cell_type": "markdown",
   "metadata": {},
   "source": [
    "### Exercise 9\n",
    "\n",
    "#### Create xpub for account 0\n",
    "\n"
   ]
  },
  {
   "cell_type": "code",
   "execution_count": null,
   "metadata": {},
   "outputs": [],
   "source": [
    "# Exercise 9\n",
    "\n",
    "from hd import HDPrivateKey\n",
    "passphrase = b'<fill this in>'\n",
    "# create an HDPrivateKey instance using from_seed on testnet\n",
    "\n",
    "# calculate the path for purpose=44', coin=1' (testnet), account=0\n",
    "\n",
    "# print the xpub at that path\n"
   ]
  },
  {
   "cell_type": "markdown",
   "metadata": {},
   "source": [
    "### Exercise 10\n",
    "\n",
    "\n",
    "\n",
    "\n",
    "#### Make [this test](/edit/session3/hd.py) pass: `hd.py:HDTest:test_from_mnemonic`"
   ]
  },
  {
   "cell_type": "code",
   "execution_count": null,
   "metadata": {},
   "outputs": [],
   "source": [
    "# Exercise 10\n",
    "\n",
    "reload(hd)\n",
    "run(hd.HDTest('test_from_mnemonic'))"
   ]
  },
  {
   "cell_type": "markdown",
   "metadata": {},
   "source": [
    "### Exercise 11\n",
    "\n",
    "#### Generate a testnet extended public key at m/84'/1'/0' using the generic mnemonic and your own passphrase\n",
    "\n"
   ]
  },
  {
   "cell_type": "code",
   "execution_count": null,
   "metadata": {},
   "outputs": [],
   "source": [
    "# Exercise 11\n",
    "\n",
    "from hd import HDPrivateKey\n",
    "mnemonic = 'abandon abandon abandon abandon abandon abandon abandon abandon abandon abandon abandon about'\n",
    "passphrase = b'<fill this in>'\n",
    "path = \"m/84'/1'/0'\"\n",
    "# create a private key using the mnemonic, passphrase, path and testnet=True\n",
    "\n",
    "# print the xpub\n"
   ]
  }
 ],
 "metadata": {},
 "nbformat": 4,
 "nbformat_minor": 2
}
